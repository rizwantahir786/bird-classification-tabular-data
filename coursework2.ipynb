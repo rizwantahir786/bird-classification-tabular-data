{
 "cells": [
  {
   "cell_type": "markdown",
   "id": "2b8b3862-743b-43b4-a6df-bcebaea6e7ba",
   "metadata": {},
   "source": [
    "# <center>Classification of birds species based on bones using machine learning approach</center>"
   ]
  },
  {
   "cell_type": "markdown",
   "id": "6bbcd78a-1d6e-4014-a815-1c4f1f720ff4",
   "metadata": {},
   "source": [
    "### &rarr; Data Description\n",
    "#### Birds dataset have six classes and have various ecological groupings based on their habitats and dietary preferences. In this paper, we will be dealing with 6 ecological bird groups and each bird has been labelled by its ecological group."
   ]
  },
  {
   "cell_type": "markdown",
   "id": "6f299bc4-3f9c-4cbf-8609-c1a940b45a0b",
   "metadata": {},
   "source": [
    "- Swimming Birds (labelled as: SW)\n",
    "- Wading Birds (labelled as: W)\n",
    "- Terrestrial Birds (labelled as: T)\n",
    "- Raptors (labelled as: R)\n",
    "- Scansorial Birds (labelled as: P)\n",
    "- Singing Birds (labelled as: SO)\n"
   ]
  },
  {
   "cell_type": "markdown",
   "id": "7c18d6e3-ab79-4b43-b023-390586313465",
   "metadata": {},
   "source": [
    "#### The dataset we have contains 420 different bird species. For the representation of each bird there are 10 measurements which are listed below.\n",
    "\n",
    "- Length and Diameter of Humerus\n",
    "- Length and Diameter of Ulna\n",
    "- Length and Diameter of Femur\n",
    "- Length and Diameter of Tibiotarsus\n",
    "- Length and Diameter of Tarsometatarsus\n",
    "\n",
    "#### The type of all measurements are continuous float values (mm), and empty strings are used to represent any missing values. This dataset contains bones from the Natural History Museum of Los Angeles County. They are members of 153 genera, 21 orders, and 245 species.\n"
   ]
  },
  {
   "cell_type": "markdown",
   "id": "2e91e5d4-d7c4-45ee-b18c-686f92aefd7f",
   "metadata": {},
   "source": [
    "### &rarr; Machine Learning ALgorithms\n",
    "\n",
    "#### In this project, five different algorithms has been implemented for the classification of birds species. \n",
    "\n",
    "- Logistic Regression \n",
    "- SVM (Support Vector Machine) \n",
    "- KNN (K-Nearest Neighbour)\n",
    "- Random Forest\n",
    "- Gradient Boosted Classifier\n",
    "\n",
    "#### The purpose of using five algorithms is to determine which algorithm yields the best results."
   ]
  },
  {
   "cell_type": "markdown",
   "id": "483d361e-f6a3-4689-804a-80d1a1400eee",
   "metadata": {},
   "source": [
    "  "
   ]
  },
  {
   "cell_type": "markdown",
   "id": "9f7eb019-27ba-4d6f-bc28-9669fc2886d8",
   "metadata": {},
   "source": [
    "## Following are the required python libraries or packages for the classification"
   ]
  },
  {
   "cell_type": "code",
   "execution_count": 1,
   "id": "a5238ca5",
   "metadata": {},
   "outputs": [],
   "source": [
    "################ Exploratory Data Analysis and Pre-processing #################\n",
    "\n",
    "import pandas as pd # For data manipulation and analysis\n",
    "import numpy as np # To perform high level mathematical operations\n",
    "import matplotlib.pyplot as plt # For animated and interactive visualisations\n",
    "import seaborn as sns # For visualisations of data\n",
    "\n",
    "# pandas-profiling primary goal is to provide a one-line Exploratory Data Analysis (EDA) experience\n",
    "# in a consistent and fast solution.\n",
    "from pandas_profiling import ProfileReport\n",
    "\n",
    "from imblearn.over_sampling import RandomOverSampler #To generate new samples in the classes which are under-represented.\n",
    "\n",
    "# The sklearn. preprocessing package provides several common utility functions and transformer classes \n",
    "# to change raw feature vectors into a representation that is more suitable for the downstream estimators. \n",
    "from sklearn.preprocessing import LabelEncoder #Encode target labels with value between 0 and n_classes-1\n",
    "\n",
    "################ Model Selection and Model Training #################\n",
    "\n",
    "# Model_selection is a method for setting a blueprint to analyze data and then \n",
    "# use it to measure new data\n",
    "from sklearn.model_selection import train_test_split # Split arrays or matrices into random train and test subsets.\n",
    "\n",
    "from sklearn.linear_model import LogisticRegression # Linear Model\n",
    "from sklearn.ensemble import RandomForestClassifier # An ensemble tree-based learning algorithm\n",
    "from sklearn.svm import SVC #Scalable Linear Support Vector Machine for classification\n",
    "\n",
    "################ Metrics and Scoring #################\n",
    "from sklearn.metrics import classification_report # Build a text report showing the main classification metrics\n",
    "from sklearn.metrics import accuracy_score, f1_score # To check accuracy and F1 score of the models\n",
    "from sklearn.metrics import confusion_matrix, precision_score, recall_score"
   ]
  },
  {
   "cell_type": "markdown",
   "id": "832a4e54-d63a-4ed3-a97c-efee3e93b1b5",
   "metadata": {},
   "source": [
    " "
   ]
  },
  {
   "cell_type": "markdown",
   "id": "b275ee9b-6ebe-4655-9612-1c8a375d7f94",
   "metadata": {},
   "source": [
    "## Read dataset (in csv format) from the directory"
   ]
  },
  {
   "cell_type": "code",
   "execution_count": 2,
   "id": "6918406f",
   "metadata": {},
   "outputs": [],
   "source": [
    "birdsDataset = pd.read_csv('./bird.csv') # Load dataset and assign it to the variable"
   ]
  },
  {
   "cell_type": "markdown",
   "id": "78c4004f-bf64-4134-a2ea-830d030b3c00",
   "metadata": {},
   "source": [
    " "
   ]
  },
  {
   "cell_type": "markdown",
   "id": "9e3de3a2-9587-4f09-a969-946d22e66331",
   "metadata": {},
   "source": [
    "  "
   ]
  },
  {
   "cell_type": "markdown",
   "id": "8ed3aa91-b615-402f-a88c-757937b1b061",
   "metadata": {},
   "source": [
    "## Exploratory Data Analysis (EDA)"
   ]
  },
  {
   "cell_type": "markdown",
   "id": "ddd59b14-bc1b-44e6-b295-7b7f162e2502",
   "metadata": {},
   "source": [
    "#### Dataframe info() method gives the precise summary of dataset. "
   ]
  },
  {
   "cell_type": "code",
   "execution_count": 3,
   "id": "bddb0c62-c3a0-4f79-ad5f-428c44775c9e",
   "metadata": {},
   "outputs": [
    {
     "name": "stdout",
     "output_type": "stream",
     "text": [
      "<class 'pandas.core.frame.DataFrame'>\n",
      "RangeIndex: 420 entries, 0 to 419\n",
      "Data columns (total 12 columns):\n",
      " #   Column  Non-Null Count  Dtype  \n",
      "---  ------  --------------  -----  \n",
      " 0   id      420 non-null    int64  \n",
      " 1   huml    419 non-null    float64\n",
      " 2   humw    419 non-null    float64\n",
      " 3   ulnal   417 non-null    float64\n",
      " 4   ulnaw   418 non-null    float64\n",
      " 5   feml    418 non-null    float64\n",
      " 6   femw    419 non-null    float64\n",
      " 7   tibl    418 non-null    float64\n",
      " 8   tibw    419 non-null    float64\n",
      " 9   tarl    419 non-null    float64\n",
      " 10  tarw    419 non-null    float64\n",
      " 11  type    420 non-null    object \n",
      "dtypes: float64(10), int64(1), object(1)\n",
      "memory usage: 39.5+ KB\n"
     ]
    }
   ],
   "source": [
    " birdsDataset.info()"
   ]
  },
  {
   "cell_type": "markdown",
   "id": "62197b12-c313-4c42-a9f7-a9cb9a641123",
   "metadata": {},
   "source": [
    "#### From above we can see, there is a list of columns of the dataset, with their number of occurrences and data types. All the variables are numeric other than the type which is an object"
   ]
  },
  {
   "cell_type": "markdown",
   "id": "e94db2a8-cb39-42f9-9fd2-de65041cebfd",
   "metadata": {},
   "source": [
    " --------------------------------------------------------------------------------------------------------"
   ]
  },
  {
   "cell_type": "markdown",
   "id": "0233700f-ea26-4d2d-93f2-2cad4fd3d656",
   "metadata": {},
   "source": [
    "#### The DataFrame's data are described by the describe() method. The currrent dataFrame contains numerical data, so the description contains following information for each column\n",
    "- count\n",
    "- mean\n",
    "- std (standard deviation)\n",
    "- min\n",
    "- max\n",
    "- 25%, 50%, 75% percentile*\n"
   ]
  },
  {
   "cell_type": "code",
   "execution_count": 4,
   "id": "bd4dea83",
   "metadata": {
    "scrolled": true
   },
   "outputs": [
    {
     "data": {
      "text/html": [
       "<div>\n",
       "<style scoped>\n",
       "    .dataframe tbody tr th:only-of-type {\n",
       "        vertical-align: middle;\n",
       "    }\n",
       "\n",
       "    .dataframe tbody tr th {\n",
       "        vertical-align: top;\n",
       "    }\n",
       "\n",
       "    .dataframe thead th {\n",
       "        text-align: right;\n",
       "    }\n",
       "</style>\n",
       "<table border=\"1\" class=\"dataframe\">\n",
       "  <thead>\n",
       "    <tr style=\"text-align: right;\">\n",
       "      <th></th>\n",
       "      <th>count</th>\n",
       "      <th>mean</th>\n",
       "      <th>std</th>\n",
       "      <th>min</th>\n",
       "      <th>25%</th>\n",
       "      <th>50%</th>\n",
       "      <th>75%</th>\n",
       "      <th>max</th>\n",
       "    </tr>\n",
       "  </thead>\n",
       "  <tbody>\n",
       "    <tr>\n",
       "      <th>id</th>\n",
       "      <td>420.0</td>\n",
       "      <td>209.500000</td>\n",
       "      <td>121.387808</td>\n",
       "      <td>0.00</td>\n",
       "      <td>104.7500</td>\n",
       "      <td>209.500</td>\n",
       "      <td>314.250</td>\n",
       "      <td>419.00</td>\n",
       "    </tr>\n",
       "    <tr>\n",
       "      <th>huml</th>\n",
       "      <td>419.0</td>\n",
       "      <td>64.650501</td>\n",
       "      <td>53.834549</td>\n",
       "      <td>9.85</td>\n",
       "      <td>25.1700</td>\n",
       "      <td>44.180</td>\n",
       "      <td>90.310</td>\n",
       "      <td>420.00</td>\n",
       "    </tr>\n",
       "    <tr>\n",
       "      <th>humw</th>\n",
       "      <td>419.0</td>\n",
       "      <td>4.370573</td>\n",
       "      <td>2.854617</td>\n",
       "      <td>1.14</td>\n",
       "      <td>2.1900</td>\n",
       "      <td>3.500</td>\n",
       "      <td>5.810</td>\n",
       "      <td>17.84</td>\n",
       "    </tr>\n",
       "    <tr>\n",
       "      <th>ulnal</th>\n",
       "      <td>417.0</td>\n",
       "      <td>69.115372</td>\n",
       "      <td>58.784775</td>\n",
       "      <td>14.09</td>\n",
       "      <td>28.0500</td>\n",
       "      <td>43.710</td>\n",
       "      <td>97.520</td>\n",
       "      <td>422.00</td>\n",
       "    </tr>\n",
       "    <tr>\n",
       "      <th>ulnaw</th>\n",
       "      <td>418.0</td>\n",
       "      <td>3.597249</td>\n",
       "      <td>2.186747</td>\n",
       "      <td>1.00</td>\n",
       "      <td>1.8700</td>\n",
       "      <td>2.945</td>\n",
       "      <td>4.770</td>\n",
       "      <td>12.00</td>\n",
       "    </tr>\n",
       "    <tr>\n",
       "      <th>feml</th>\n",
       "      <td>418.0</td>\n",
       "      <td>36.872416</td>\n",
       "      <td>19.979082</td>\n",
       "      <td>11.83</td>\n",
       "      <td>21.2975</td>\n",
       "      <td>31.130</td>\n",
       "      <td>47.120</td>\n",
       "      <td>117.07</td>\n",
       "    </tr>\n",
       "    <tr>\n",
       "      <th>femw</th>\n",
       "      <td>419.0</td>\n",
       "      <td>3.220883</td>\n",
       "      <td>2.023581</td>\n",
       "      <td>0.93</td>\n",
       "      <td>1.7150</td>\n",
       "      <td>2.520</td>\n",
       "      <td>4.135</td>\n",
       "      <td>11.64</td>\n",
       "    </tr>\n",
       "    <tr>\n",
       "      <th>tibl</th>\n",
       "      <td>418.0</td>\n",
       "      <td>64.662823</td>\n",
       "      <td>37.838145</td>\n",
       "      <td>5.50</td>\n",
       "      <td>36.4175</td>\n",
       "      <td>52.120</td>\n",
       "      <td>82.870</td>\n",
       "      <td>240.00</td>\n",
       "    </tr>\n",
       "    <tr>\n",
       "      <th>tibw</th>\n",
       "      <td>419.0</td>\n",
       "      <td>3.182339</td>\n",
       "      <td>2.080827</td>\n",
       "      <td>0.87</td>\n",
       "      <td>1.5650</td>\n",
       "      <td>2.490</td>\n",
       "      <td>4.255</td>\n",
       "      <td>11.03</td>\n",
       "    </tr>\n",
       "    <tr>\n",
       "      <th>tarl</th>\n",
       "      <td>419.0</td>\n",
       "      <td>39.229976</td>\n",
       "      <td>23.184313</td>\n",
       "      <td>7.77</td>\n",
       "      <td>23.0350</td>\n",
       "      <td>31.740</td>\n",
       "      <td>50.250</td>\n",
       "      <td>175.00</td>\n",
       "    </tr>\n",
       "    <tr>\n",
       "      <th>tarw</th>\n",
       "      <td>419.0</td>\n",
       "      <td>2.930024</td>\n",
       "      <td>2.185673</td>\n",
       "      <td>0.66</td>\n",
       "      <td>1.4250</td>\n",
       "      <td>2.230</td>\n",
       "      <td>3.500</td>\n",
       "      <td>14.09</td>\n",
       "    </tr>\n",
       "  </tbody>\n",
       "</table>\n",
       "</div>"
      ],
      "text/plain": [
       "       count        mean         std    min       25%      50%      75%  \\\n",
       "id     420.0  209.500000  121.387808   0.00  104.7500  209.500  314.250   \n",
       "huml   419.0   64.650501   53.834549   9.85   25.1700   44.180   90.310   \n",
       "humw   419.0    4.370573    2.854617   1.14    2.1900    3.500    5.810   \n",
       "ulnal  417.0   69.115372   58.784775  14.09   28.0500   43.710   97.520   \n",
       "ulnaw  418.0    3.597249    2.186747   1.00    1.8700    2.945    4.770   \n",
       "feml   418.0   36.872416   19.979082  11.83   21.2975   31.130   47.120   \n",
       "femw   419.0    3.220883    2.023581   0.93    1.7150    2.520    4.135   \n",
       "tibl   418.0   64.662823   37.838145   5.50   36.4175   52.120   82.870   \n",
       "tibw   419.0    3.182339    2.080827   0.87    1.5650    2.490    4.255   \n",
       "tarl   419.0   39.229976   23.184313   7.77   23.0350   31.740   50.250   \n",
       "tarw   419.0    2.930024    2.185673   0.66    1.4250    2.230    3.500   \n",
       "\n",
       "          max  \n",
       "id     419.00  \n",
       "huml   420.00  \n",
       "humw    17.84  \n",
       "ulnal  422.00  \n",
       "ulnaw   12.00  \n",
       "feml   117.07  \n",
       "femw    11.64  \n",
       "tibl   240.00  \n",
       "tibw    11.03  \n",
       "tarl   175.00  \n",
       "tarw    14.09  "
      ]
     },
     "execution_count": 4,
     "metadata": {},
     "output_type": "execute_result"
    }
   ],
   "source": [
    "birdsDataset.describe().transpose()"
   ]
  },
  {
   "cell_type": "markdown",
   "id": "023ba2dc-89d8-4613-bf0d-e220609b3add",
   "metadata": {},
   "source": [
    "---------------------------------------------------------------------------------------------------------"
   ]
  },
  {
   "cell_type": "markdown",
   "id": "c05d3327-8e89-4909-b300-8aa5044f305e",
   "metadata": {},
   "source": [
    " #### Dataframe head method is used to check the first five records of the dataset"
   ]
  },
  {
   "cell_type": "code",
   "execution_count": 5,
   "id": "7731e118-e925-48b3-ae54-d5da2c035480",
   "metadata": {},
   "outputs": [
    {
     "data": {
      "text/html": [
       "<div>\n",
       "<style scoped>\n",
       "    .dataframe tbody tr th:only-of-type {\n",
       "        vertical-align: middle;\n",
       "    }\n",
       "\n",
       "    .dataframe tbody tr th {\n",
       "        vertical-align: top;\n",
       "    }\n",
       "\n",
       "    .dataframe thead th {\n",
       "        text-align: right;\n",
       "    }\n",
       "</style>\n",
       "<table border=\"1\" class=\"dataframe\">\n",
       "  <thead>\n",
       "    <tr style=\"text-align: right;\">\n",
       "      <th></th>\n",
       "      <th>id</th>\n",
       "      <th>huml</th>\n",
       "      <th>humw</th>\n",
       "      <th>ulnal</th>\n",
       "      <th>ulnaw</th>\n",
       "      <th>feml</th>\n",
       "      <th>femw</th>\n",
       "      <th>tibl</th>\n",
       "      <th>tibw</th>\n",
       "      <th>tarl</th>\n",
       "      <th>tarw</th>\n",
       "      <th>type</th>\n",
       "    </tr>\n",
       "  </thead>\n",
       "  <tbody>\n",
       "    <tr>\n",
       "      <th>0</th>\n",
       "      <td>0</td>\n",
       "      <td>80.78</td>\n",
       "      <td>6.68</td>\n",
       "      <td>72.01</td>\n",
       "      <td>4.88</td>\n",
       "      <td>41.81</td>\n",
       "      <td>3.70</td>\n",
       "      <td>5.50</td>\n",
       "      <td>4.03</td>\n",
       "      <td>38.70</td>\n",
       "      <td>3.84</td>\n",
       "      <td>SW</td>\n",
       "    </tr>\n",
       "    <tr>\n",
       "      <th>1</th>\n",
       "      <td>1</td>\n",
       "      <td>88.91</td>\n",
       "      <td>6.63</td>\n",
       "      <td>80.53</td>\n",
       "      <td>5.59</td>\n",
       "      <td>47.04</td>\n",
       "      <td>4.30</td>\n",
       "      <td>80.22</td>\n",
       "      <td>4.51</td>\n",
       "      <td>41.50</td>\n",
       "      <td>4.01</td>\n",
       "      <td>SW</td>\n",
       "    </tr>\n",
       "    <tr>\n",
       "      <th>2</th>\n",
       "      <td>2</td>\n",
       "      <td>79.97</td>\n",
       "      <td>6.37</td>\n",
       "      <td>69.26</td>\n",
       "      <td>5.28</td>\n",
       "      <td>43.07</td>\n",
       "      <td>3.90</td>\n",
       "      <td>75.35</td>\n",
       "      <td>4.04</td>\n",
       "      <td>38.31</td>\n",
       "      <td>3.34</td>\n",
       "      <td>SW</td>\n",
       "    </tr>\n",
       "    <tr>\n",
       "      <th>3</th>\n",
       "      <td>3</td>\n",
       "      <td>77.65</td>\n",
       "      <td>5.70</td>\n",
       "      <td>65.76</td>\n",
       "      <td>4.77</td>\n",
       "      <td>40.04</td>\n",
       "      <td>3.52</td>\n",
       "      <td>69.17</td>\n",
       "      <td>3.40</td>\n",
       "      <td>35.78</td>\n",
       "      <td>3.41</td>\n",
       "      <td>SW</td>\n",
       "    </tr>\n",
       "    <tr>\n",
       "      <th>4</th>\n",
       "      <td>4</td>\n",
       "      <td>62.80</td>\n",
       "      <td>4.84</td>\n",
       "      <td>52.09</td>\n",
       "      <td>3.73</td>\n",
       "      <td>33.95</td>\n",
       "      <td>2.72</td>\n",
       "      <td>56.27</td>\n",
       "      <td>2.96</td>\n",
       "      <td>31.88</td>\n",
       "      <td>3.13</td>\n",
       "      <td>SW</td>\n",
       "    </tr>\n",
       "  </tbody>\n",
       "</table>\n",
       "</div>"
      ],
      "text/plain": [
       "   id   huml  humw  ulnal  ulnaw   feml  femw   tibl  tibw   tarl  tarw type\n",
       "0   0  80.78  6.68  72.01   4.88  41.81  3.70   5.50  4.03  38.70  3.84   SW\n",
       "1   1  88.91  6.63  80.53   5.59  47.04  4.30  80.22  4.51  41.50  4.01   SW\n",
       "2   2  79.97  6.37  69.26   5.28  43.07  3.90  75.35  4.04  38.31  3.34   SW\n",
       "3   3  77.65  5.70  65.76   4.77  40.04  3.52  69.17  3.40  35.78  3.41   SW\n",
       "4   4  62.80  4.84  52.09   3.73  33.95  2.72  56.27  2.96  31.88  3.13   SW"
      ]
     },
     "execution_count": 5,
     "metadata": {},
     "output_type": "execute_result"
    }
   ],
   "source": [
    "birdsDataset.head()"
   ]
  },
  {
   "cell_type": "markdown",
   "id": "f001c601-3c50-406f-880c-185bff2fa24c",
   "metadata": {},
   "source": [
    " "
   ]
  },
  {
   "cell_type": "markdown",
   "id": "4e2e0e40-3bf1-46f1-9d99-674a0f76e674",
   "metadata": {},
   "source": [
    " --------------------------------------------------------------------------------------------------------"
   ]
  },
  {
   "cell_type": "markdown",
   "id": "e759ec93-943b-4c98-a74e-36d782895e70",
   "metadata": {},
   "source": [
    "### Check Missing Values in the Dataset "
   ]
  },
  {
   "cell_type": "code",
   "execution_count": 6,
   "id": "1ec90919-f5d6-4817-a0ce-68ef2df908a0",
   "metadata": {},
   "outputs": [
    {
     "data": {
      "image/png": "[encoded data removed]",
      "text/plain": [
       "<Figure size 640x480 with 2 Axes>"
      ]
     },
     "metadata": {},
     "output_type": "display_data"
    }
   ],
   "source": [
    "# heatmap() method of seaborn has been used to visualise missing values\n",
    "sns.heatmap(birdsDataset.isna()); # isna() method to check NaN values in the dataset\n",
    "plt.show()"
   ]
  },
  {
   "cell_type": "markdown",
   "id": "97228f03-af9a-4a2b-a58f-ad39d3d99789",
   "metadata": {},
   "source": [
    "#### Vertical axis shows the specific row where there is a missing value. Horizontal axis shows columns having missing values. From above we can see that there are some rows having more than one missing value and some do not have any missing value."
   ]
  },
  {
   "cell_type": "markdown",
   "id": "75bdd929-4851-476d-a8de-f36dd698b16f",
   "metadata": {},
   "source": [
    "---------------------------------------------------------------------------------------------------------"
   ]
  },
  {
   "cell_type": "markdown",
   "id": "ef7d7f97-c1a9-4f32-8e3d-be5f7276df88",
   "metadata": {},
   "source": [
    "### Class Distribution"
   ]
  },
  {
   "cell_type": "code",
   "execution_count": 7,
   "id": "cc2a2260-c39b-4820-a291-17fc8e474b7b",
   "metadata": {},
   "outputs": [
    {
     "data": {
      "text/plain": [
       "SO    128\n",
       "SW    116\n",
       "W      65\n",
       "R      50\n",
       "P      38\n",
       "T      23\n",
       "Name: type, dtype: int64"
      ]
     },
     "execution_count": 7,
     "metadata": {},
     "output_type": "execute_result"
    }
   ],
   "source": [
    "birdsDataset['type'].value_counts() # Count the values of each class in column 'type'"
   ]
  },
  {
   "cell_type": "markdown",
   "id": "228341df-fc89-49df-9724-59b7f108bc4b",
   "metadata": {},
   "source": [
    "#### Above list shows the class imbalance as each class has different number of records"
   ]
  },
  {
   "cell_type": "markdown",
   "id": "8df9773e-40e5-4dd1-8213-400e7caca29f",
   "metadata": {},
   "source": [
    "---------------------------------------------------------------------------------------------------------"
   ]
  },
  {
   "cell_type": "markdown",
   "id": "b5811946-0c1a-4042-9add-da6f637868f4",
   "metadata": {},
   "source": [
    "### Check outliers in the dataset"
   ]
  },
  {
   "cell_type": "markdown",
   "id": "72db4959-f36d-455e-a79d-e31fbe25a43a",
   "metadata": {},
   "source": [
    " #### A data point that is differnet out from the others is called an outlier."
   ]
  },
  {
   "cell_type": "code",
   "execution_count": 8,
   "id": "edd2f603-2bf8-416b-ab2c-2a1f2e35d437",
   "metadata": {},
   "outputs": [],
   "source": [
    "# Below function 'outlier_boxplot' has been defined to plot all the columns/features in the \n",
    "# boxplot to check the outliers in the dataset\n",
    "\n",
    "def outlier_boxplot(columns):\n",
    "    print(columns) # Print to check number of features coming from declaration of function\n",
    "    plt.figure(figsize=(12,5));\n",
    "    plt.subplot(1,2,1); # create a grid of subplots\n",
    "    sns.boxplot(x='type', y=columns[0], data=birdsDataset);\n",
    "    plt.title(columns[0]); # Title of the plot 1 (Left side)\n",
    "    plt.subplot(1,2,2);\n",
    "    sns.boxplot(x='type', y=columns[1], data=birdsDataset);\n",
    "    plt.title(columns[1]); # Title of the plot 2 (Right side)\n"
   ]
  },
  {
   "cell_type": "code",
   "execution_count": 9,
   "id": "80fd71bc-29b8-4f1b-abcc-495083346147",
   "metadata": {},
   "outputs": [
    {
     "name": "stdout",
     "output_type": "stream",
     "text": [
      "Index(['huml', 'humw'], dtype='object')\n",
      "Index(['ulnal', 'ulnaw'], dtype='object')\n",
      "Index(['feml', 'femw'], dtype='object')\n",
      "Index(['tibl', 'tibw'], dtype='object')\n",
      "Index(['tarl', 'tarw'], dtype='object')\n"
     ]
    },
    {
     "data": {
      "image/png": "[encoded data removed]",
      "text/plain": [
       "<Figure size 1200x500 with 2 Axes>"
      ]
     },
     "metadata": {},
     "output_type": "display_data"
    },
    {
     "data": {
      "image/png": "[encoded data removed]",
      "text/plain": [
       "<Figure size 1200x500 with 2 Axes>"
      ]
     },
     "metadata": {},
     "output_type": "display_data"
    },
    {
     "data": {
      "image/png": "[encoded data removed]",
      "text/plain": [
       "<Figure size 1200x500 with 2 Axes>"
      ]
     },
     "metadata": {},
     "output_type": "display_data"
    },
    {
     "data": {
      "image/png": "[encoded data removed]",
      "text/plain": [
       "<Figure size 1200x500 with 2 Axes>"
      ]
     },
     "metadata": {},
     "output_type": "display_data"
    },
    {
     "data": {
      "image/png": "[encoded data removed]",
      "text/plain": [
       "<Figure size 1200x500 with 2 Axes>"
      ]
     },
     "metadata": {},
     "output_type": "display_data"
    }
   ],
   "source": [
    "outlier_boxplot(birdsDataset.columns[1:3]) # function declaration\n",
    "outlier_boxplot(birdsDataset.columns[3:5])\n",
    "outlier_boxplot(birdsDataset.columns[5:7])\n",
    "outlier_boxplot(birdsDataset.columns[7:9])\n",
    "outlier_boxplot(birdsDataset.columns[9:11])\n",
    "\n",
    "plt.show()"
   ]
  },
  {
   "cell_type": "markdown",
   "id": "2b289d7c-7c97-446a-8605-d211cce2faa6",
   "metadata": {},
   "source": [
    "#### When analysing a box plot, data points outside the box plot's whiskers is referred to as an outlier. From the above subplots, \"*\" these data points are outliers."
   ]
  },
  {
   "cell_type": "markdown",
   "id": "b2c2ce13-0d0f-461c-8272-aad980da2c27",
   "metadata": {},
   "source": [
    "---------------------------------------------------------------------------------------------------------"
   ]
  },
  {
   "cell_type": "markdown",
   "id": "8e382edd-cd14-4fd3-9885-f621c243deed",
   "metadata": {},
   "source": [
    "# Correlation"
   ]
  },
  {
   "cell_type": "code",
   "execution_count": 10,
   "id": "a749f14c-b510-459a-a5ec-37be95d996c3",
   "metadata": {},
   "outputs": [
    {
     "data": {
      "image/png": "[encoded data removed]",
      "text/plain": [
       "<Figure size 640x480 with 2 Axes>"
      ]
     },
     "metadata": {},
     "output_type": "display_data"
    }
   ],
   "source": [
    "sns.heatmap(birdsDataset.iloc[:,:-1].corr(), annot=True, fmt='.2f');\n",
    "plt.show()"
   ]
  },
  {
   "cell_type": "markdown",
   "id": "139c23f0-5cf3-4d61-8c23-661f55fb4278",
   "metadata": {},
   "source": [
    "#### Above heatmap shows the correlation between all the features. We can see that \"id\" column has a negative association with other variables and rest of the correlation ranges from 0.61 - 0.98. "
   ]
  },
  {
   "cell_type": "markdown",
   "id": "28abb046-af4a-4484-a615-884531eb871f",
   "metadata": {},
   "source": [
    "#### In data pre-processing, we will remove \"id\" column and those features having high correlaion. If correlation coefficient > 0.93 between two features we will remove one of it. Otherwise it will be like we are classifying having same features."
   ]
  },
  {
   "cell_type": "markdown",
   "id": "ea07d8f8-8f03-4a3e-a868-b28c660d6314",
   "metadata": {},
   "source": [
    "| Feature 1 | Feature 2 | Correlation Coefficient > 0.93 |\n",
    "| --- | --- | --- |\n",
    "| ulnal | huml | 0.98 |\n",
    "| ulnaw | humw | 0.96 |\n",
    "| femw | humw | 0.94 |\n",
    "| femw | feml | 0.94 |\n",
    "| tibw | femw | 0.96 |"
   ]
  },
  {
   "cell_type": "code",
   "execution_count": 11,
   "id": "7390bfb5-1970-445e-b17a-7f80877d543e",
   "metadata": {},
   "outputs": [],
   "source": [
    "birdsDataset= birdsDataset.drop(columns=['id','ulnal', 'ulnaw','femw', 'tibw']).dropna(how='any')"
   ]
  },
  {
   "cell_type": "markdown",
   "id": "55bbe5c9",
   "metadata": {},
   "source": [
    "**Data Cleaning**"
   ]
  },
  {
   "cell_type": "markdown",
   "id": "7555f9a7-a4c1-46da-af8a-e38a81353344",
   "metadata": {},
   "source": [
    "birdsDataset.drop(['id'], axis = 1, inplace = True) "
   ]
  },
  {
   "cell_type": "code",
   "execution_count": 12,
   "id": "f7b27238",
   "metadata": {},
   "outputs": [
    {
     "data": {
      "text/html": [
       "<div>\n",
       "<style scoped>\n",
       "    .dataframe tbody tr th:only-of-type {\n",
       "        vertical-align: middle;\n",
       "    }\n",
       "\n",
       "    .dataframe tbody tr th {\n",
       "        vertical-align: top;\n",
       "    }\n",
       "\n",
       "    .dataframe thead th {\n",
       "        text-align: right;\n",
       "    }\n",
       "</style>\n",
       "<table border=\"1\" class=\"dataframe\">\n",
       "  <thead>\n",
       "    <tr style=\"text-align: right;\">\n",
       "      <th></th>\n",
       "      <th>huml</th>\n",
       "      <th>humw</th>\n",
       "      <th>feml</th>\n",
       "      <th>tibl</th>\n",
       "      <th>tarl</th>\n",
       "      <th>tarw</th>\n",
       "      <th>type</th>\n",
       "    </tr>\n",
       "  </thead>\n",
       "  <tbody>\n",
       "    <tr>\n",
       "      <th>0</th>\n",
       "      <td>80.78</td>\n",
       "      <td>6.68</td>\n",
       "      <td>41.81</td>\n",
       "      <td>5.50</td>\n",
       "      <td>38.70</td>\n",
       "      <td>3.84</td>\n",
       "      <td>SW</td>\n",
       "    </tr>\n",
       "    <tr>\n",
       "      <th>1</th>\n",
       "      <td>88.91</td>\n",
       "      <td>6.63</td>\n",
       "      <td>47.04</td>\n",
       "      <td>80.22</td>\n",
       "      <td>41.50</td>\n",
       "      <td>4.01</td>\n",
       "      <td>SW</td>\n",
       "    </tr>\n",
       "    <tr>\n",
       "      <th>2</th>\n",
       "      <td>79.97</td>\n",
       "      <td>6.37</td>\n",
       "      <td>43.07</td>\n",
       "      <td>75.35</td>\n",
       "      <td>38.31</td>\n",
       "      <td>3.34</td>\n",
       "      <td>SW</td>\n",
       "    </tr>\n",
       "    <tr>\n",
       "      <th>3</th>\n",
       "      <td>77.65</td>\n",
       "      <td>5.70</td>\n",
       "      <td>40.04</td>\n",
       "      <td>69.17</td>\n",
       "      <td>35.78</td>\n",
       "      <td>3.41</td>\n",
       "      <td>SW</td>\n",
       "    </tr>\n",
       "    <tr>\n",
       "      <th>4</th>\n",
       "      <td>62.80</td>\n",
       "      <td>4.84</td>\n",
       "      <td>33.95</td>\n",
       "      <td>56.27</td>\n",
       "      <td>31.88</td>\n",
       "      <td>3.13</td>\n",
       "      <td>SW</td>\n",
       "    </tr>\n",
       "  </tbody>\n",
       "</table>\n",
       "</div>"
      ],
      "text/plain": [
       "    huml  humw   feml   tibl   tarl  tarw type\n",
       "0  80.78  6.68  41.81   5.50  38.70  3.84   SW\n",
       "1  88.91  6.63  47.04  80.22  41.50  4.01   SW\n",
       "2  79.97  6.37  43.07  75.35  38.31  3.34   SW\n",
       "3  77.65  5.70  40.04  69.17  35.78  3.41   SW\n",
       "4  62.80  4.84  33.95  56.27  31.88  3.13   SW"
      ]
     },
     "execution_count": 12,
     "metadata": {},
     "output_type": "execute_result"
    }
   ],
   "source": [
    "birdsDataset.head()"
   ]
  },
  {
   "cell_type": "markdown",
   "id": "655df738",
   "metadata": {},
   "source": [
    "*Missing Values*"
   ]
  },
  {
   "cell_type": "code",
   "execution_count": 13,
   "id": "5dcfcd6e",
   "metadata": {},
   "outputs": [
    {
     "data": {
      "text/html": [
       "<div>\n",
       "<style scoped>\n",
       "    .dataframe tbody tr th:only-of-type {\n",
       "        vertical-align: middle;\n",
       "    }\n",
       "\n",
       "    .dataframe tbody tr th {\n",
       "        vertical-align: top;\n",
       "    }\n",
       "\n",
       "    .dataframe thead th {\n",
       "        text-align: right;\n",
       "    }\n",
       "</style>\n",
       "<table border=\"1\" class=\"dataframe\">\n",
       "  <thead>\n",
       "    <tr style=\"text-align: right;\">\n",
       "      <th></th>\n",
       "      <th>huml</th>\n",
       "      <th>humw</th>\n",
       "      <th>feml</th>\n",
       "      <th>tibl</th>\n",
       "      <th>tarl</th>\n",
       "      <th>tarw</th>\n",
       "    </tr>\n",
       "  </thead>\n",
       "  <tbody>\n",
       "    <tr>\n",
       "      <th>count</th>\n",
       "      <td>49.000000</td>\n",
       "      <td>49.000000</td>\n",
       "      <td>49.000000</td>\n",
       "      <td>49.000000</td>\n",
       "      <td>49.000000</td>\n",
       "      <td>49.000000</td>\n",
       "    </tr>\n",
       "    <tr>\n",
       "      <th>mean</th>\n",
       "      <td>86.706939</td>\n",
       "      <td>6.030816</td>\n",
       "      <td>61.611429</td>\n",
       "      <td>89.518367</td>\n",
       "      <td>59.166327</td>\n",
       "      <td>5.073878</td>\n",
       "    </tr>\n",
       "    <tr>\n",
       "      <th>std</th>\n",
       "      <td>32.002726</td>\n",
       "      <td>2.178384</td>\n",
       "      <td>18.023726</td>\n",
       "      <td>26.640460</td>\n",
       "      <td>19.094756</td>\n",
       "      <td>2.021799</td>\n",
       "    </tr>\n",
       "    <tr>\n",
       "      <th>min</th>\n",
       "      <td>33.120000</td>\n",
       "      <td>2.400000</td>\n",
       "      <td>27.460000</td>\n",
       "      <td>38.990000</td>\n",
       "      <td>19.100000</td>\n",
       "      <td>2.220000</td>\n",
       "    </tr>\n",
       "    <tr>\n",
       "      <th>25%</th>\n",
       "      <td>57.480000</td>\n",
       "      <td>4.370000</td>\n",
       "      <td>47.830000</td>\n",
       "      <td>66.580000</td>\n",
       "      <td>46.810000</td>\n",
       "      <td>3.150000</td>\n",
       "    </tr>\n",
       "    <tr>\n",
       "      <th>50%</th>\n",
       "      <td>89.630000</td>\n",
       "      <td>6.090000</td>\n",
       "      <td>60.840000</td>\n",
       "      <td>96.120000</td>\n",
       "      <td>60.190000</td>\n",
       "      <td>4.950000</td>\n",
       "    </tr>\n",
       "    <tr>\n",
       "      <th>75%</th>\n",
       "      <td>116.410000</td>\n",
       "      <td>7.490000</td>\n",
       "      <td>75.540000</td>\n",
       "      <td>113.390000</td>\n",
       "      <td>73.290000</td>\n",
       "      <td>6.800000</td>\n",
       "    </tr>\n",
       "    <tr>\n",
       "      <th>max</th>\n",
       "      <td>145.000000</td>\n",
       "      <td>10.370000</td>\n",
       "      <td>94.790000</td>\n",
       "      <td>126.540000</td>\n",
       "      <td>99.720000</td>\n",
       "      <td>9.640000</td>\n",
       "    </tr>\n",
       "  </tbody>\n",
       "</table>\n",
       "</div>"
      ],
      "text/plain": [
       "             huml       humw       feml        tibl       tarl       tarw\n",
       "count   49.000000  49.000000  49.000000   49.000000  49.000000  49.000000\n",
       "mean    86.706939   6.030816  61.611429   89.518367  59.166327   5.073878\n",
       "std     32.002726   2.178384  18.023726   26.640460  19.094756   2.021799\n",
       "min     33.120000   2.400000  27.460000   38.990000  19.100000   2.220000\n",
       "25%     57.480000   4.370000  47.830000   66.580000  46.810000   3.150000\n",
       "50%     89.630000   6.090000  60.840000   96.120000  60.190000   4.950000\n",
       "75%    116.410000   7.490000  75.540000  113.390000  73.290000   6.800000\n",
       "max    145.000000  10.370000  94.790000  126.540000  99.720000   9.640000"
      ]
     },
     "execution_count": 13,
     "metadata": {},
     "output_type": "execute_result"
    }
   ],
   "source": [
    "filteredDataSet = birdsDataset[birdsDataset.type == \"R\"]\n",
    "filteredDataSet.describe()"
   ]
  },
  {
   "cell_type": "code",
   "execution_count": 14,
   "id": "8ccbc6b9",
   "metadata": {},
   "outputs": [],
   "source": [
    "def imputation(cols):\n",
    "   \n",
    "    type = cols[1]\n",
    "    \n",
    "    if pd.isnull(cols[0]):\n",
    "        if type == \"SW\":\n",
    "            return 110.25\n",
    "        elif type == \"SO\":\n",
    "            return 22.36\n",
    "        elif type == \"W\":\n",
    "            return 73.13\n",
    "        elif type == \"T\":\n",
    "            return 45.69\n",
    "        elif type == \"P\":\n",
    "            return 34.42\n",
    "        else:\n",
    "            return 86.93\n",
    "    else:\n",
    "        return cols[0]"
   ]
  },
  {
   "cell_type": "code",
   "execution_count": 15,
   "id": "7b2f637f-ccdb-47c2-96ae-4ca4ed32f50f",
   "metadata": {},
   "outputs": [],
   "source": [
    "columns = ['huml', 'humw','feml','tibl','tarl','tarw','type']"
   ]
  },
  {
   "cell_type": "code",
   "execution_count": 16,
   "id": "75f3cef6",
   "metadata": {},
   "outputs": [],
   "source": [
    "for x in columns:\n",
    "    birdsDataset[x] = birdsDataset[[x, 'type']].apply(imputation, axis =1)"
   ]
  },
  {
   "cell_type": "code",
   "execution_count": 17,
   "id": "0ebc0788",
   "metadata": {},
   "outputs": [
    {
     "data": {
      "text/plain": [
       "huml    0\n",
       "humw    0\n",
       "feml    0\n",
       "tibl    0\n",
       "tarl    0\n",
       "tarw    0\n",
       "type    0\n",
       "dtype: int64"
      ]
     },
     "execution_count": 17,
     "metadata": {},
     "output_type": "execute_result"
    }
   ],
   "source": [
    "birdsDataset.isnull().sum()"
   ]
  },
  {
   "cell_type": "code",
   "execution_count": null,
   "id": "5fce1b1c",
   "metadata": {},
   "outputs": [],
   "source": []
  },
  {
   "cell_type": "markdown",
   "id": "43c84112",
   "metadata": {},
   "source": [
    "*Removing Outliers one by one of each feature*"
   ]
  },
  {
   "cell_type": "code",
   "execution_count": 18,
   "id": "36193d31",
   "metadata": {},
   "outputs": [
    {
     "data": {
      "text/html": [
       "<div>\n",
       "<style scoped>\n",
       "    .dataframe tbody tr th:only-of-type {\n",
       "        vertical-align: middle;\n",
       "    }\n",
       "\n",
       "    .dataframe tbody tr th {\n",
       "        vertical-align: top;\n",
       "    }\n",
       "\n",
       "    .dataframe thead th {\n",
       "        text-align: right;\n",
       "    }\n",
       "</style>\n",
       "<table border=\"1\" class=\"dataframe\">\n",
       "  <thead>\n",
       "    <tr style=\"text-align: right;\">\n",
       "      <th></th>\n",
       "      <th>count</th>\n",
       "      <th>mean</th>\n",
       "      <th>std</th>\n",
       "      <th>min</th>\n",
       "      <th>25%</th>\n",
       "      <th>50%</th>\n",
       "      <th>75%</th>\n",
       "      <th>max</th>\n",
       "    </tr>\n",
       "  </thead>\n",
       "  <tbody>\n",
       "    <tr>\n",
       "      <th>huml</th>\n",
       "      <td>414.0</td>\n",
       "      <td>64.872174</td>\n",
       "      <td>53.990623</td>\n",
       "      <td>9.85</td>\n",
       "      <td>25.3700</td>\n",
       "      <td>44.325</td>\n",
       "      <td>90.4000</td>\n",
       "      <td>420.00</td>\n",
       "    </tr>\n",
       "    <tr>\n",
       "      <th>humw</th>\n",
       "      <td>414.0</td>\n",
       "      <td>4.382101</td>\n",
       "      <td>2.858048</td>\n",
       "      <td>1.14</td>\n",
       "      <td>2.2025</td>\n",
       "      <td>3.510</td>\n",
       "      <td>5.8150</td>\n",
       "      <td>17.84</td>\n",
       "    </tr>\n",
       "    <tr>\n",
       "      <th>feml</th>\n",
       "      <td>414.0</td>\n",
       "      <td>36.871981</td>\n",
       "      <td>19.900789</td>\n",
       "      <td>11.83</td>\n",
       "      <td>21.3775</td>\n",
       "      <td>31.130</td>\n",
       "      <td>47.1200</td>\n",
       "      <td>117.07</td>\n",
       "    </tr>\n",
       "    <tr>\n",
       "      <th>tibl</th>\n",
       "      <td>414.0</td>\n",
       "      <td>64.642343</td>\n",
       "      <td>37.935814</td>\n",
       "      <td>5.50</td>\n",
       "      <td>36.3600</td>\n",
       "      <td>51.940</td>\n",
       "      <td>82.8700</td>\n",
       "      <td>240.00</td>\n",
       "    </tr>\n",
       "    <tr>\n",
       "      <th>tarl</th>\n",
       "      <td>414.0</td>\n",
       "      <td>39.360242</td>\n",
       "      <td>23.267153</td>\n",
       "      <td>7.77</td>\n",
       "      <td>23.0950</td>\n",
       "      <td>31.810</td>\n",
       "      <td>50.5075</td>\n",
       "      <td>175.00</td>\n",
       "    </tr>\n",
       "    <tr>\n",
       "      <th>tarw</th>\n",
       "      <td>414.0</td>\n",
       "      <td>2.947005</td>\n",
       "      <td>2.192507</td>\n",
       "      <td>0.66</td>\n",
       "      <td>1.4300</td>\n",
       "      <td>2.245</td>\n",
       "      <td>3.5275</td>\n",
       "      <td>14.09</td>\n",
       "    </tr>\n",
       "  </tbody>\n",
       "</table>\n",
       "</div>"
      ],
      "text/plain": [
       "      count       mean        std    min      25%     50%      75%     max\n",
       "huml  414.0  64.872174  53.990623   9.85  25.3700  44.325  90.4000  420.00\n",
       "humw  414.0   4.382101   2.858048   1.14   2.2025   3.510   5.8150   17.84\n",
       "feml  414.0  36.871981  19.900789  11.83  21.3775  31.130  47.1200  117.07\n",
       "tibl  414.0  64.642343  37.935814   5.50  36.3600  51.940  82.8700  240.00\n",
       "tarl  414.0  39.360242  23.267153   7.77  23.0950  31.810  50.5075  175.00\n",
       "tarw  414.0   2.947005   2.192507   0.66   1.4300   2.245   3.5275   14.09"
      ]
     },
     "execution_count": 18,
     "metadata": {},
     "output_type": "execute_result"
    }
   ],
   "source": [
    "birdsDataset.describe().transpose()"
   ]
  },
  {
   "cell_type": "code",
   "execution_count": 19,
   "id": "e86dac4a",
   "metadata": {},
   "outputs": [],
   "source": [
    "def remove_outlier(df_in, col_name):\n",
    "    q1 = df_in[col_name].quantile(0.25)\n",
    "    q3 = df_in[col_name].quantile(0.75)\n",
    "    iqr = q3-q1 #Interquartile range\n",
    "    fence_low  = q1-1.5*iqr\n",
    "    fence_high = q3+1.5*iqr\n",
    "    df_out = df_in.loc[(df_in[col_name] > fence_low) & (df_in[col_name] < fence_high)]\n",
    "    return df_out"
   ]
  },
  {
   "cell_type": "code",
   "execution_count": null,
   "id": "87670b00",
   "metadata": {},
   "outputs": [],
   "source": []
  },
  {
   "cell_type": "code",
   "execution_count": 20,
   "id": "0f8241c6-0928-440d-9e85-482b3161cbfa",
   "metadata": {},
   "outputs": [
    {
     "data": {
      "text/html": [
       "<div>\n",
       "<style scoped>\n",
       "    .dataframe tbody tr th:only-of-type {\n",
       "        vertical-align: middle;\n",
       "    }\n",
       "\n",
       "    .dataframe tbody tr th {\n",
       "        vertical-align: top;\n",
       "    }\n",
       "\n",
       "    .dataframe thead th {\n",
       "        text-align: right;\n",
       "    }\n",
       "</style>\n",
       "<table border=\"1\" class=\"dataframe\">\n",
       "  <thead>\n",
       "    <tr style=\"text-align: right;\">\n",
       "      <th></th>\n",
       "      <th>count</th>\n",
       "      <th>mean</th>\n",
       "      <th>std</th>\n",
       "      <th>min</th>\n",
       "      <th>25%</th>\n",
       "      <th>50%</th>\n",
       "      <th>75%</th>\n",
       "      <th>max</th>\n",
       "    </tr>\n",
       "  </thead>\n",
       "  <tbody>\n",
       "    <tr>\n",
       "      <th>huml</th>\n",
       "      <td>376.0</td>\n",
       "      <td>55.356888</td>\n",
       "      <td>40.355081</td>\n",
       "      <td>9.85</td>\n",
       "      <td>24.0200</td>\n",
       "      <td>37.785</td>\n",
       "      <td>81.6175</td>\n",
       "      <td>250.00</td>\n",
       "    </tr>\n",
       "    <tr>\n",
       "      <th>humw</th>\n",
       "      <td>376.0</td>\n",
       "      <td>3.795293</td>\n",
       "      <td>2.117917</td>\n",
       "      <td>1.14</td>\n",
       "      <td>2.1500</td>\n",
       "      <td>3.300</td>\n",
       "      <td>5.0450</td>\n",
       "      <td>11.45</td>\n",
       "    </tr>\n",
       "    <tr>\n",
       "      <th>feml</th>\n",
       "      <td>376.0</td>\n",
       "      <td>32.956543</td>\n",
       "      <td>15.370465</td>\n",
       "      <td>11.83</td>\n",
       "      <td>20.9075</td>\n",
       "      <td>28.655</td>\n",
       "      <td>40.5075</td>\n",
       "      <td>82.94</td>\n",
       "    </tr>\n",
       "    <tr>\n",
       "      <th>tibl</th>\n",
       "      <td>376.0</td>\n",
       "      <td>58.615053</td>\n",
       "      <td>31.349961</td>\n",
       "      <td>5.50</td>\n",
       "      <td>35.5425</td>\n",
       "      <td>49.755</td>\n",
       "      <td>75.2650</td>\n",
       "      <td>185.00</td>\n",
       "    </tr>\n",
       "    <tr>\n",
       "      <th>tarl</th>\n",
       "      <td>376.0</td>\n",
       "      <td>36.346835</td>\n",
       "      <td>18.727390</td>\n",
       "      <td>7.77</td>\n",
       "      <td>22.8975</td>\n",
       "      <td>30.765</td>\n",
       "      <td>44.5375</td>\n",
       "      <td>99.72</td>\n",
       "    </tr>\n",
       "    <tr>\n",
       "      <th>tarw</th>\n",
       "      <td>376.0</td>\n",
       "      <td>2.404495</td>\n",
       "      <td>1.339823</td>\n",
       "      <td>0.66</td>\n",
       "      <td>1.3600</td>\n",
       "      <td>2.030</td>\n",
       "      <td>3.0500</td>\n",
       "      <td>6.64</td>\n",
       "    </tr>\n",
       "  </tbody>\n",
       "</table>\n",
       "</div>"
      ],
      "text/plain": [
       "      count       mean        std    min      25%     50%      75%     max\n",
       "huml  376.0  55.356888  40.355081   9.85  24.0200  37.785  81.6175  250.00\n",
       "humw  376.0   3.795293   2.117917   1.14   2.1500   3.300   5.0450   11.45\n",
       "feml  376.0  32.956543  15.370465  11.83  20.9075  28.655  40.5075   82.94\n",
       "tibl  376.0  58.615053  31.349961   5.50  35.5425  49.755  75.2650  185.00\n",
       "tarl  376.0  36.346835  18.727390   7.77  22.8975  30.765  44.5375   99.72\n",
       "tarw  376.0   2.404495   1.339823   0.66   1.3600   2.030   3.0500    6.64"
      ]
     },
     "execution_count": 20,
     "metadata": {},
     "output_type": "execute_result"
    }
   ],
   "source": [
    "filteredDataTarw = remove_outlier(birdsDataset, \"tarw\")\n",
    "filteredDataTarw.describe().transpose()"
   ]
  },
  {
   "cell_type": "code",
   "execution_count": 21,
   "id": "a662212e-a247-4bb1-b2cb-592a6dc4a2ea",
   "metadata": {},
   "outputs": [
    {
     "data": {
      "text/html": [
       "<div>\n",
       "<style scoped>\n",
       "    .dataframe tbody tr th:only-of-type {\n",
       "        vertical-align: middle;\n",
       "    }\n",
       "\n",
       "    .dataframe tbody tr th {\n",
       "        vertical-align: top;\n",
       "    }\n",
       "\n",
       "    .dataframe thead th {\n",
       "        text-align: right;\n",
       "    }\n",
       "</style>\n",
       "<table border=\"1\" class=\"dataframe\">\n",
       "  <thead>\n",
       "    <tr style=\"text-align: right;\">\n",
       "      <th></th>\n",
       "      <th>count</th>\n",
       "      <th>mean</th>\n",
       "      <th>std</th>\n",
       "      <th>min</th>\n",
       "      <th>25%</th>\n",
       "      <th>50%</th>\n",
       "      <th>75%</th>\n",
       "      <th>max</th>\n",
       "    </tr>\n",
       "  </thead>\n",
       "  <tbody>\n",
       "    <tr>\n",
       "      <th>huml</th>\n",
       "      <td>361.0</td>\n",
       "      <td>52.140000</td>\n",
       "      <td>36.803110</td>\n",
       "      <td>9.85</td>\n",
       "      <td>23.88</td>\n",
       "      <td>35.97</td>\n",
       "      <td>75.94</td>\n",
       "      <td>188.00</td>\n",
       "    </tr>\n",
       "    <tr>\n",
       "      <th>humw</th>\n",
       "      <td>361.0</td>\n",
       "      <td>3.628975</td>\n",
       "      <td>1.949694</td>\n",
       "      <td>1.14</td>\n",
       "      <td>2.11</td>\n",
       "      <td>3.16</td>\n",
       "      <td>4.78</td>\n",
       "      <td>11.37</td>\n",
       "    </tr>\n",
       "    <tr>\n",
       "      <th>feml</th>\n",
       "      <td>361.0</td>\n",
       "      <td>31.544626</td>\n",
       "      <td>13.801963</td>\n",
       "      <td>11.83</td>\n",
       "      <td>20.80</td>\n",
       "      <td>28.41</td>\n",
       "      <td>39.61</td>\n",
       "      <td>82.94</td>\n",
       "    </tr>\n",
       "    <tr>\n",
       "      <th>tibl</th>\n",
       "      <td>361.0</td>\n",
       "      <td>55.505457</td>\n",
       "      <td>27.516689</td>\n",
       "      <td>5.50</td>\n",
       "      <td>35.44</td>\n",
       "      <td>48.94</td>\n",
       "      <td>70.57</td>\n",
       "      <td>166.00</td>\n",
       "    </tr>\n",
       "    <tr>\n",
       "      <th>tarl</th>\n",
       "      <td>361.0</td>\n",
       "      <td>34.267064</td>\n",
       "      <td>15.966982</td>\n",
       "      <td>7.77</td>\n",
       "      <td>22.35</td>\n",
       "      <td>30.11</td>\n",
       "      <td>40.43</td>\n",
       "      <td>76.76</td>\n",
       "    </tr>\n",
       "    <tr>\n",
       "      <th>tarw</th>\n",
       "      <td>361.0</td>\n",
       "      <td>2.287729</td>\n",
       "      <td>1.216872</td>\n",
       "      <td>0.66</td>\n",
       "      <td>1.33</td>\n",
       "      <td>1.99</td>\n",
       "      <td>2.90</td>\n",
       "      <td>6.64</td>\n",
       "    </tr>\n",
       "  </tbody>\n",
       "</table>\n",
       "</div>"
      ],
      "text/plain": [
       "      count       mean        std    min    25%    50%    75%     max\n",
       "huml  361.0  52.140000  36.803110   9.85  23.88  35.97  75.94  188.00\n",
       "humw  361.0   3.628975   1.949694   1.14   2.11   3.16   4.78   11.37\n",
       "feml  361.0  31.544626  13.801963  11.83  20.80  28.41  39.61   82.94\n",
       "tibl  361.0  55.505457  27.516689   5.50  35.44  48.94  70.57  166.00\n",
       "tarl  361.0  34.267064  15.966982   7.77  22.35  30.11  40.43   76.76\n",
       "tarw  361.0   2.287729   1.216872   0.66   1.33   1.99   2.90    6.64"
      ]
     },
     "execution_count": 21,
     "metadata": {},
     "output_type": "execute_result"
    }
   ],
   "source": [
    "filteredDataTarl = remove_outlier(filteredDataTarw, \"tarl\")\n",
    "filteredDataTarl.describe().transpose()"
   ]
  },
  {
   "cell_type": "markdown",
   "id": "e958faf3-f646-4627-893a-2ef681497241",
   "metadata": {},
   "source": [
    "filteredDataTibw = remove_outlier(filteredDataTarl, \"tibw\")\n",
    "filteredDataTibw.describe().transpose()"
   ]
  },
  {
   "cell_type": "code",
   "execution_count": 22,
   "id": "4c34e804-d82e-4566-9be0-4d670bc0999a",
   "metadata": {},
   "outputs": [
    {
     "data": {
      "text/html": [
       "<div>\n",
       "<style scoped>\n",
       "    .dataframe tbody tr th:only-of-type {\n",
       "        vertical-align: middle;\n",
       "    }\n",
       "\n",
       "    .dataframe tbody tr th {\n",
       "        vertical-align: top;\n",
       "    }\n",
       "\n",
       "    .dataframe thead th {\n",
       "        text-align: right;\n",
       "    }\n",
       "</style>\n",
       "<table border=\"1\" class=\"dataframe\">\n",
       "  <thead>\n",
       "    <tr style=\"text-align: right;\">\n",
       "      <th></th>\n",
       "      <th>count</th>\n",
       "      <th>mean</th>\n",
       "      <th>std</th>\n",
       "      <th>min</th>\n",
       "      <th>25%</th>\n",
       "      <th>50%</th>\n",
       "      <th>75%</th>\n",
       "      <th>max</th>\n",
       "    </tr>\n",
       "  </thead>\n",
       "  <tbody>\n",
       "    <tr>\n",
       "      <th>huml</th>\n",
       "      <td>350.0</td>\n",
       "      <td>49.771886</td>\n",
       "      <td>34.715928</td>\n",
       "      <td>9.85</td>\n",
       "      <td>23.5575</td>\n",
       "      <td>34.715</td>\n",
       "      <td>70.8800</td>\n",
       "      <td>188.00</td>\n",
       "    </tr>\n",
       "    <tr>\n",
       "      <th>humw</th>\n",
       "      <td>350.0</td>\n",
       "      <td>3.551571</td>\n",
       "      <td>1.921599</td>\n",
       "      <td>1.14</td>\n",
       "      <td>2.0825</td>\n",
       "      <td>2.995</td>\n",
       "      <td>4.7000</td>\n",
       "      <td>11.37</td>\n",
       "    </tr>\n",
       "    <tr>\n",
       "      <th>feml</th>\n",
       "      <td>350.0</td>\n",
       "      <td>31.180686</td>\n",
       "      <td>13.803064</td>\n",
       "      <td>11.83</td>\n",
       "      <td>20.6625</td>\n",
       "      <td>27.950</td>\n",
       "      <td>38.8750</td>\n",
       "      <td>82.94</td>\n",
       "    </tr>\n",
       "    <tr>\n",
       "      <th>tibl</th>\n",
       "      <td>350.0</td>\n",
       "      <td>52.764600</td>\n",
       "      <td>22.968394</td>\n",
       "      <td>5.50</td>\n",
       "      <td>35.0675</td>\n",
       "      <td>48.105</td>\n",
       "      <td>69.0175</td>\n",
       "      <td>118.24</td>\n",
       "    </tr>\n",
       "    <tr>\n",
       "      <th>tarl</th>\n",
       "      <td>350.0</td>\n",
       "      <td>33.127257</td>\n",
       "      <td>14.822650</td>\n",
       "      <td>7.77</td>\n",
       "      <td>22.0150</td>\n",
       "      <td>29.685</td>\n",
       "      <td>39.2150</td>\n",
       "      <td>76.76</td>\n",
       "    </tr>\n",
       "    <tr>\n",
       "      <th>tarw</th>\n",
       "      <td>350.0</td>\n",
       "      <td>2.247543</td>\n",
       "      <td>1.211265</td>\n",
       "      <td>0.66</td>\n",
       "      <td>1.3125</td>\n",
       "      <td>1.950</td>\n",
       "      <td>2.8300</td>\n",
       "      <td>6.64</td>\n",
       "    </tr>\n",
       "  </tbody>\n",
       "</table>\n",
       "</div>"
      ],
      "text/plain": [
       "      count       mean        std    min      25%     50%      75%     max\n",
       "huml  350.0  49.771886  34.715928   9.85  23.5575  34.715  70.8800  188.00\n",
       "humw  350.0   3.551571   1.921599   1.14   2.0825   2.995   4.7000   11.37\n",
       "feml  350.0  31.180686  13.803064  11.83  20.6625  27.950  38.8750   82.94\n",
       "tibl  350.0  52.764600  22.968394   5.50  35.0675  48.105  69.0175  118.24\n",
       "tarl  350.0  33.127257  14.822650   7.77  22.0150  29.685  39.2150   76.76\n",
       "tarw  350.0   2.247543   1.211265   0.66   1.3125   1.950   2.8300    6.64"
      ]
     },
     "execution_count": 22,
     "metadata": {},
     "output_type": "execute_result"
    }
   ],
   "source": [
    "filteredDataTibl = remove_outlier(filteredDataTarl, \"tibl\")\n",
    "filteredDataTibl.describe().transpose()"
   ]
  },
  {
   "cell_type": "markdown",
   "id": "e05c4a77-66c6-4f72-8026-4cc2155d02c6",
   "metadata": {},
   "source": [
    "filteredDataFemw = remove_outlier(filteredDataTibl, \"femw\")\n",
    "filteredDataFemw.describe().transpose()"
   ]
  },
  {
   "cell_type": "code",
   "execution_count": 23,
   "id": "522992dc-6e50-422d-a857-73a8daf52b30",
   "metadata": {},
   "outputs": [
    {
     "data": {
      "text/html": [
       "<div>\n",
       "<style scoped>\n",
       "    .dataframe tbody tr th:only-of-type {\n",
       "        vertical-align: middle;\n",
       "    }\n",
       "\n",
       "    .dataframe tbody tr th {\n",
       "        vertical-align: top;\n",
       "    }\n",
       "\n",
       "    .dataframe thead th {\n",
       "        text-align: right;\n",
       "    }\n",
       "</style>\n",
       "<table border=\"1\" class=\"dataframe\">\n",
       "  <thead>\n",
       "    <tr style=\"text-align: right;\">\n",
       "      <th></th>\n",
       "      <th>count</th>\n",
       "      <th>mean</th>\n",
       "      <th>std</th>\n",
       "      <th>min</th>\n",
       "      <th>25%</th>\n",
       "      <th>50%</th>\n",
       "      <th>75%</th>\n",
       "      <th>max</th>\n",
       "    </tr>\n",
       "  </thead>\n",
       "  <tbody>\n",
       "    <tr>\n",
       "      <th>huml</th>\n",
       "      <td>343.0</td>\n",
       "      <td>48.901137</td>\n",
       "      <td>34.500852</td>\n",
       "      <td>9.85</td>\n",
       "      <td>23.295</td>\n",
       "      <td>34.17</td>\n",
       "      <td>69.020</td>\n",
       "      <td>188.00</td>\n",
       "    </tr>\n",
       "    <tr>\n",
       "      <th>humw</th>\n",
       "      <td>343.0</td>\n",
       "      <td>3.478630</td>\n",
       "      <td>1.860965</td>\n",
       "      <td>1.14</td>\n",
       "      <td>2.065</td>\n",
       "      <td>2.98</td>\n",
       "      <td>4.505</td>\n",
       "      <td>11.37</td>\n",
       "    </tr>\n",
       "    <tr>\n",
       "      <th>feml</th>\n",
       "      <td>343.0</td>\n",
       "      <td>30.342974</td>\n",
       "      <td>12.601343</td>\n",
       "      <td>11.83</td>\n",
       "      <td>20.605</td>\n",
       "      <td>27.66</td>\n",
       "      <td>38.475</td>\n",
       "      <td>65.97</td>\n",
       "    </tr>\n",
       "    <tr>\n",
       "      <th>tibl</th>\n",
       "      <td>343.0</td>\n",
       "      <td>51.902070</td>\n",
       "      <td>22.305778</td>\n",
       "      <td>5.50</td>\n",
       "      <td>34.755</td>\n",
       "      <td>47.49</td>\n",
       "      <td>67.410</td>\n",
       "      <td>117.14</td>\n",
       "    </tr>\n",
       "    <tr>\n",
       "      <th>tarl</th>\n",
       "      <td>343.0</td>\n",
       "      <td>32.455073</td>\n",
       "      <td>14.088108</td>\n",
       "      <td>7.77</td>\n",
       "      <td>21.930</td>\n",
       "      <td>29.01</td>\n",
       "      <td>38.055</td>\n",
       "      <td>73.95</td>\n",
       "    </tr>\n",
       "    <tr>\n",
       "      <th>tarw</th>\n",
       "      <td>343.0</td>\n",
       "      <td>2.189942</td>\n",
       "      <td>1.145430</td>\n",
       "      <td>0.66</td>\n",
       "      <td>1.285</td>\n",
       "      <td>1.93</td>\n",
       "      <td>2.800</td>\n",
       "      <td>6.64</td>\n",
       "    </tr>\n",
       "  </tbody>\n",
       "</table>\n",
       "</div>"
      ],
      "text/plain": [
       "      count       mean        std    min     25%    50%     75%     max\n",
       "huml  343.0  48.901137  34.500852   9.85  23.295  34.17  69.020  188.00\n",
       "humw  343.0   3.478630   1.860965   1.14   2.065   2.98   4.505   11.37\n",
       "feml  343.0  30.342974  12.601343  11.83  20.605  27.66  38.475   65.97\n",
       "tibl  343.0  51.902070  22.305778   5.50  34.755  47.49  67.410  117.14\n",
       "tarl  343.0  32.455073  14.088108   7.77  21.930  29.01  38.055   73.95\n",
       "tarw  343.0   2.189942   1.145430   0.66   1.285   1.93   2.800    6.64"
      ]
     },
     "execution_count": 23,
     "metadata": {},
     "output_type": "execute_result"
    }
   ],
   "source": [
    "filteredDataFeml = remove_outlier(filteredDataTibl, \"feml\")\n",
    "filteredDataFeml.describe().transpose()"
   ]
  },
  {
   "cell_type": "markdown",
   "id": "0ceca896-4802-42a7-a78c-10cdf37eb50e",
   "metadata": {},
   "source": [
    "filteredDataUlnaw = remove_outlier(filteredDataFemw, \"ulnaw\")\n",
    "filteredDataUlnaw.describe().transpose()"
   ]
  },
  {
   "cell_type": "markdown",
   "id": "b42082da-0095-4ab8-8965-185bd9ec0280",
   "metadata": {},
   "source": [
    "filteredDataUlnal = remove_outlier(filteredDataUlnaw, \"ulnal\")\n",
    "filteredDataUlnal.describe().transpose()"
   ]
  },
  {
   "cell_type": "code",
   "execution_count": 24,
   "id": "ffb02e35-8abe-443d-a148-dcb842c08e80",
   "metadata": {},
   "outputs": [
    {
     "data": {
      "text/html": [
       "<div>\n",
       "<style scoped>\n",
       "    .dataframe tbody tr th:only-of-type {\n",
       "        vertical-align: middle;\n",
       "    }\n",
       "\n",
       "    .dataframe tbody tr th {\n",
       "        vertical-align: top;\n",
       "    }\n",
       "\n",
       "    .dataframe thead th {\n",
       "        text-align: right;\n",
       "    }\n",
       "</style>\n",
       "<table border=\"1\" class=\"dataframe\">\n",
       "  <thead>\n",
       "    <tr style=\"text-align: right;\">\n",
       "      <th></th>\n",
       "      <th>count</th>\n",
       "      <th>mean</th>\n",
       "      <th>std</th>\n",
       "      <th>min</th>\n",
       "      <th>25%</th>\n",
       "      <th>50%</th>\n",
       "      <th>75%</th>\n",
       "      <th>max</th>\n",
       "    </tr>\n",
       "  </thead>\n",
       "  <tbody>\n",
       "    <tr>\n",
       "      <th>huml</th>\n",
       "      <td>337.0</td>\n",
       "      <td>46.679792</td>\n",
       "      <td>30.366647</td>\n",
       "      <td>9.85</td>\n",
       "      <td>23.27</td>\n",
       "      <td>34.07</td>\n",
       "      <td>67.63</td>\n",
       "      <td>154.30</td>\n",
       "    </tr>\n",
       "    <tr>\n",
       "      <th>humw</th>\n",
       "      <td>337.0</td>\n",
       "      <td>3.351395</td>\n",
       "      <td>1.604989</td>\n",
       "      <td>1.14</td>\n",
       "      <td>2.06</td>\n",
       "      <td>2.89</td>\n",
       "      <td>4.37</td>\n",
       "      <td>8.15</td>\n",
       "    </tr>\n",
       "    <tr>\n",
       "      <th>feml</th>\n",
       "      <td>337.0</td>\n",
       "      <td>29.973947</td>\n",
       "      <td>12.395792</td>\n",
       "      <td>11.83</td>\n",
       "      <td>20.59</td>\n",
       "      <td>27.46</td>\n",
       "      <td>38.27</td>\n",
       "      <td>65.97</td>\n",
       "    </tr>\n",
       "    <tr>\n",
       "      <th>tibl</th>\n",
       "      <td>337.0</td>\n",
       "      <td>51.482908</td>\n",
       "      <td>22.138146</td>\n",
       "      <td>5.50</td>\n",
       "      <td>34.64</td>\n",
       "      <td>46.64</td>\n",
       "      <td>66.60</td>\n",
       "      <td>116.09</td>\n",
       "    </tr>\n",
       "    <tr>\n",
       "      <th>tarl</th>\n",
       "      <td>337.0</td>\n",
       "      <td>32.559496</td>\n",
       "      <td>14.035064</td>\n",
       "      <td>7.77</td>\n",
       "      <td>22.12</td>\n",
       "      <td>29.16</td>\n",
       "      <td>38.07</td>\n",
       "      <td>73.95</td>\n",
       "    </tr>\n",
       "    <tr>\n",
       "      <th>tarw</th>\n",
       "      <td>337.0</td>\n",
       "      <td>2.123501</td>\n",
       "      <td>1.031139</td>\n",
       "      <td>0.66</td>\n",
       "      <td>1.28</td>\n",
       "      <td>1.92</td>\n",
       "      <td>2.71</td>\n",
       "      <td>5.63</td>\n",
       "    </tr>\n",
       "  </tbody>\n",
       "</table>\n",
       "</div>"
      ],
      "text/plain": [
       "      count       mean        std    min    25%    50%    75%     max\n",
       "huml  337.0  46.679792  30.366647   9.85  23.27  34.07  67.63  154.30\n",
       "humw  337.0   3.351395   1.604989   1.14   2.06   2.89   4.37    8.15\n",
       "feml  337.0  29.973947  12.395792  11.83  20.59  27.46  38.27   65.97\n",
       "tibl  337.0  51.482908  22.138146   5.50  34.64  46.64  66.60  116.09\n",
       "tarl  337.0  32.559496  14.035064   7.77  22.12  29.16  38.07   73.95\n",
       "tarw  337.0   2.123501   1.031139   0.66   1.28   1.92   2.71    5.63"
      ]
     },
     "execution_count": 24,
     "metadata": {},
     "output_type": "execute_result"
    }
   ],
   "source": [
    "filteredDataHumw = remove_outlier(filteredDataFeml, \"humw\")\n",
    "filteredDataHumw.describe().transpose()"
   ]
  },
  {
   "cell_type": "code",
   "execution_count": 25,
   "id": "f737bba7-77e3-486c-9a77-6e299fc4e9d2",
   "metadata": {},
   "outputs": [
    {
     "data": {
      "text/html": [
       "<div>\n",
       "<style scoped>\n",
       "    .dataframe tbody tr th:only-of-type {\n",
       "        vertical-align: middle;\n",
       "    }\n",
       "\n",
       "    .dataframe tbody tr th {\n",
       "        vertical-align: top;\n",
       "    }\n",
       "\n",
       "    .dataframe thead th {\n",
       "        text-align: right;\n",
       "    }\n",
       "</style>\n",
       "<table border=\"1\" class=\"dataframe\">\n",
       "  <thead>\n",
       "    <tr style=\"text-align: right;\">\n",
       "      <th></th>\n",
       "      <th>count</th>\n",
       "      <th>mean</th>\n",
       "      <th>std</th>\n",
       "      <th>min</th>\n",
       "      <th>25%</th>\n",
       "      <th>50%</th>\n",
       "      <th>75%</th>\n",
       "      <th>max</th>\n",
       "    </tr>\n",
       "  </thead>\n",
       "  <tbody>\n",
       "    <tr>\n",
       "      <th>huml</th>\n",
       "      <td>334.0</td>\n",
       "      <td>45.794341</td>\n",
       "      <td>29.012161</td>\n",
       "      <td>9.85</td>\n",
       "      <td>23.0975</td>\n",
       "      <td>33.800</td>\n",
       "      <td>67.2925</td>\n",
       "      <td>129.50</td>\n",
       "    </tr>\n",
       "    <tr>\n",
       "      <th>humw</th>\n",
       "      <td>334.0</td>\n",
       "      <td>3.315808</td>\n",
       "      <td>1.567124</td>\n",
       "      <td>1.14</td>\n",
       "      <td>2.0525</td>\n",
       "      <td>2.875</td>\n",
       "      <td>4.3375</td>\n",
       "      <td>8.15</td>\n",
       "    </tr>\n",
       "    <tr>\n",
       "      <th>feml</th>\n",
       "      <td>334.0</td>\n",
       "      <td>29.761257</td>\n",
       "      <td>12.230973</td>\n",
       "      <td>11.83</td>\n",
       "      <td>20.4700</td>\n",
       "      <td>26.680</td>\n",
       "      <td>38.1500</td>\n",
       "      <td>65.97</td>\n",
       "    </tr>\n",
       "    <tr>\n",
       "      <th>tibl</th>\n",
       "      <td>334.0</td>\n",
       "      <td>50.936527</td>\n",
       "      <td>21.465792</td>\n",
       "      <td>5.50</td>\n",
       "      <td>34.6100</td>\n",
       "      <td>46.390</td>\n",
       "      <td>64.8975</td>\n",
       "      <td>113.44</td>\n",
       "    </tr>\n",
       "    <tr>\n",
       "      <th>tarl</th>\n",
       "      <td>334.0</td>\n",
       "      <td>32.251078</td>\n",
       "      <td>13.707391</td>\n",
       "      <td>7.77</td>\n",
       "      <td>22.0975</td>\n",
       "      <td>29.040</td>\n",
       "      <td>37.9700</td>\n",
       "      <td>73.95</td>\n",
       "    </tr>\n",
       "    <tr>\n",
       "      <th>tarw</th>\n",
       "      <td>334.0</td>\n",
       "      <td>2.107156</td>\n",
       "      <td>1.021092</td>\n",
       "      <td>0.66</td>\n",
       "      <td>1.2725</td>\n",
       "      <td>1.905</td>\n",
       "      <td>2.6975</td>\n",
       "      <td>5.63</td>\n",
       "    </tr>\n",
       "  </tbody>\n",
       "</table>\n",
       "</div>"
      ],
      "text/plain": [
       "      count       mean        std    min      25%     50%      75%     max\n",
       "huml  334.0  45.794341  29.012161   9.85  23.0975  33.800  67.2925  129.50\n",
       "humw  334.0   3.315808   1.567124   1.14   2.0525   2.875   4.3375    8.15\n",
       "feml  334.0  29.761257  12.230973  11.83  20.4700  26.680  38.1500   65.97\n",
       "tibl  334.0  50.936527  21.465792   5.50  34.6100  46.390  64.8975  113.44\n",
       "tarl  334.0  32.251078  13.707391   7.77  22.0975  29.040  37.9700   73.95\n",
       "tarw  334.0   2.107156   1.021092   0.66   1.2725   1.905   2.6975    5.63"
      ]
     },
     "execution_count": 25,
     "metadata": {},
     "output_type": "execute_result"
    }
   ],
   "source": [
    "filteredDataWithoutOutliers = remove_outlier(filteredDataHumw, \"huml\")\n",
    "filteredDataWithoutOutliers.describe().transpose()"
   ]
  },
  {
   "cell_type": "code",
   "execution_count": 26,
   "id": "fc935b35-a1f5-4062-99e0-7dfa0957f869",
   "metadata": {},
   "outputs": [
    {
     "data": {
      "text/html": [
       "<div>\n",
       "<style scoped>\n",
       "    .dataframe tbody tr th:only-of-type {\n",
       "        vertical-align: middle;\n",
       "    }\n",
       "\n",
       "    .dataframe tbody tr th {\n",
       "        vertical-align: top;\n",
       "    }\n",
       "\n",
       "    .dataframe thead th {\n",
       "        text-align: right;\n",
       "    }\n",
       "</style>\n",
       "<table border=\"1\" class=\"dataframe\">\n",
       "  <thead>\n",
       "    <tr style=\"text-align: right;\">\n",
       "      <th></th>\n",
       "      <th>count</th>\n",
       "      <th>mean</th>\n",
       "      <th>std</th>\n",
       "      <th>min</th>\n",
       "      <th>25%</th>\n",
       "      <th>50%</th>\n",
       "      <th>75%</th>\n",
       "      <th>max</th>\n",
       "    </tr>\n",
       "  </thead>\n",
       "  <tbody>\n",
       "    <tr>\n",
       "      <th>huml</th>\n",
       "      <td>334.0</td>\n",
       "      <td>45.794341</td>\n",
       "      <td>29.012161</td>\n",
       "      <td>9.85</td>\n",
       "      <td>23.0975</td>\n",
       "      <td>33.800</td>\n",
       "      <td>67.2925</td>\n",
       "      <td>129.50</td>\n",
       "    </tr>\n",
       "    <tr>\n",
       "      <th>humw</th>\n",
       "      <td>334.0</td>\n",
       "      <td>3.315808</td>\n",
       "      <td>1.567124</td>\n",
       "      <td>1.14</td>\n",
       "      <td>2.0525</td>\n",
       "      <td>2.875</td>\n",
       "      <td>4.3375</td>\n",
       "      <td>8.15</td>\n",
       "    </tr>\n",
       "    <tr>\n",
       "      <th>feml</th>\n",
       "      <td>334.0</td>\n",
       "      <td>29.761257</td>\n",
       "      <td>12.230973</td>\n",
       "      <td>11.83</td>\n",
       "      <td>20.4700</td>\n",
       "      <td>26.680</td>\n",
       "      <td>38.1500</td>\n",
       "      <td>65.97</td>\n",
       "    </tr>\n",
       "    <tr>\n",
       "      <th>tibl</th>\n",
       "      <td>334.0</td>\n",
       "      <td>50.936527</td>\n",
       "      <td>21.465792</td>\n",
       "      <td>5.50</td>\n",
       "      <td>34.6100</td>\n",
       "      <td>46.390</td>\n",
       "      <td>64.8975</td>\n",
       "      <td>113.44</td>\n",
       "    </tr>\n",
       "    <tr>\n",
       "      <th>tarl</th>\n",
       "      <td>334.0</td>\n",
       "      <td>32.251078</td>\n",
       "      <td>13.707391</td>\n",
       "      <td>7.77</td>\n",
       "      <td>22.0975</td>\n",
       "      <td>29.040</td>\n",
       "      <td>37.9700</td>\n",
       "      <td>73.95</td>\n",
       "    </tr>\n",
       "    <tr>\n",
       "      <th>tarw</th>\n",
       "      <td>334.0</td>\n",
       "      <td>2.107156</td>\n",
       "      <td>1.021092</td>\n",
       "      <td>0.66</td>\n",
       "      <td>1.2725</td>\n",
       "      <td>1.905</td>\n",
       "      <td>2.6975</td>\n",
       "      <td>5.63</td>\n",
       "    </tr>\n",
       "  </tbody>\n",
       "</table>\n",
       "</div>"
      ],
      "text/plain": [
       "      count       mean        std    min      25%     50%      75%     max\n",
       "huml  334.0  45.794341  29.012161   9.85  23.0975  33.800  67.2925  129.50\n",
       "humw  334.0   3.315808   1.567124   1.14   2.0525   2.875   4.3375    8.15\n",
       "feml  334.0  29.761257  12.230973  11.83  20.4700  26.680  38.1500   65.97\n",
       "tibl  334.0  50.936527  21.465792   5.50  34.6100  46.390  64.8975  113.44\n",
       "tarl  334.0  32.251078  13.707391   7.77  22.0975  29.040  37.9700   73.95\n",
       "tarw  334.0   2.107156   1.021092   0.66   1.2725   1.905   2.6975    5.63"
      ]
     },
     "execution_count": 26,
     "metadata": {},
     "output_type": "execute_result"
    }
   ],
   "source": [
    "filteredDataWithoutOutliers = remove_outlier(filteredDataHumw, \"huml\")\n",
    "filteredDataWithoutOutliers.describe().transpose()"
   ]
  },
  {
   "cell_type": "code",
   "execution_count": 27,
   "id": "9a1ddcd8-a95a-4ac6-83c5-d7dd5fbf2618",
   "metadata": {},
   "outputs": [
    {
     "data": {
      "text/html": [
       "<div>\n",
       "<style scoped>\n",
       "    .dataframe tbody tr th:only-of-type {\n",
       "        vertical-align: middle;\n",
       "    }\n",
       "\n",
       "    .dataframe tbody tr th {\n",
       "        vertical-align: top;\n",
       "    }\n",
       "\n",
       "    .dataframe thead th {\n",
       "        text-align: right;\n",
       "    }\n",
       "</style>\n",
       "<table border=\"1\" class=\"dataframe\">\n",
       "  <thead>\n",
       "    <tr style=\"text-align: right;\">\n",
       "      <th></th>\n",
       "      <th>huml</th>\n",
       "      <th>humw</th>\n",
       "      <th>feml</th>\n",
       "      <th>tibl</th>\n",
       "      <th>tarl</th>\n",
       "      <th>tarw</th>\n",
       "      <th>type</th>\n",
       "    </tr>\n",
       "  </thead>\n",
       "  <tbody>\n",
       "    <tr>\n",
       "      <th>0</th>\n",
       "      <td>80.78</td>\n",
       "      <td>6.68</td>\n",
       "      <td>41.81</td>\n",
       "      <td>5.50</td>\n",
       "      <td>38.70</td>\n",
       "      <td>3.84</td>\n",
       "      <td>SW</td>\n",
       "    </tr>\n",
       "    <tr>\n",
       "      <th>1</th>\n",
       "      <td>88.91</td>\n",
       "      <td>6.63</td>\n",
       "      <td>47.04</td>\n",
       "      <td>80.22</td>\n",
       "      <td>41.50</td>\n",
       "      <td>4.01</td>\n",
       "      <td>SW</td>\n",
       "    </tr>\n",
       "    <tr>\n",
       "      <th>2</th>\n",
       "      <td>79.97</td>\n",
       "      <td>6.37</td>\n",
       "      <td>43.07</td>\n",
       "      <td>75.35</td>\n",
       "      <td>38.31</td>\n",
       "      <td>3.34</td>\n",
       "      <td>SW</td>\n",
       "    </tr>\n",
       "    <tr>\n",
       "      <th>3</th>\n",
       "      <td>77.65</td>\n",
       "      <td>5.70</td>\n",
       "      <td>40.04</td>\n",
       "      <td>69.17</td>\n",
       "      <td>35.78</td>\n",
       "      <td>3.41</td>\n",
       "      <td>SW</td>\n",
       "    </tr>\n",
       "    <tr>\n",
       "      <th>4</th>\n",
       "      <td>62.80</td>\n",
       "      <td>4.84</td>\n",
       "      <td>33.95</td>\n",
       "      <td>56.27</td>\n",
       "      <td>31.88</td>\n",
       "      <td>3.13</td>\n",
       "      <td>SW</td>\n",
       "    </tr>\n",
       "  </tbody>\n",
       "</table>\n",
       "</div>"
      ],
      "text/plain": [
       "    huml  humw   feml   tibl   tarl  tarw type\n",
       "0  80.78  6.68  41.81   5.50  38.70  3.84   SW\n",
       "1  88.91  6.63  47.04  80.22  41.50  4.01   SW\n",
       "2  79.97  6.37  43.07  75.35  38.31  3.34   SW\n",
       "3  77.65  5.70  40.04  69.17  35.78  3.41   SW\n",
       "4  62.80  4.84  33.95  56.27  31.88  3.13   SW"
      ]
     },
     "execution_count": 27,
     "metadata": {},
     "output_type": "execute_result"
    }
   ],
   "source": [
    "filteredDataWithoutOutliers.head()"
   ]
  },
  {
   "cell_type": "code",
   "execution_count": 28,
   "id": "e9b2d766",
   "metadata": {},
   "outputs": [
    {
     "data": {
      "text/plain": [
       "(334, 7)"
      ]
     },
     "execution_count": 28,
     "metadata": {},
     "output_type": "execute_result"
    }
   ],
   "source": [
    "filteredDataWithoutOutliers.shape"
   ]
  },
  {
   "cell_type": "markdown",
   "id": "f5d9f383-ceea-4d14-ad13-ec3913bf22e6",
   "metadata": {},
   "source": []
  },
  {
   "cell_type": "code",
   "execution_count": 29,
   "id": "f6e09040-d26b-4747-a046-97175e06242b",
   "metadata": {},
   "outputs": [
    {
     "data": {
      "text/html": [
       "<div>\n",
       "<style scoped>\n",
       "    .dataframe tbody tr th:only-of-type {\n",
       "        vertical-align: middle;\n",
       "    }\n",
       "\n",
       "    .dataframe tbody tr th {\n",
       "        vertical-align: top;\n",
       "    }\n",
       "\n",
       "    .dataframe thead th {\n",
       "        text-align: right;\n",
       "    }\n",
       "</style>\n",
       "<table border=\"1\" class=\"dataframe\">\n",
       "  <thead>\n",
       "    <tr style=\"text-align: right;\">\n",
       "      <th></th>\n",
       "      <th>count</th>\n",
       "      <th>mean</th>\n",
       "      <th>std</th>\n",
       "      <th>min</th>\n",
       "      <th>25%</th>\n",
       "      <th>50%</th>\n",
       "      <th>75%</th>\n",
       "      <th>max</th>\n",
       "    </tr>\n",
       "  </thead>\n",
       "  <tbody>\n",
       "    <tr>\n",
       "      <th>huml</th>\n",
       "      <td>337.0</td>\n",
       "      <td>46.679792</td>\n",
       "      <td>30.366647</td>\n",
       "      <td>9.85</td>\n",
       "      <td>23.27</td>\n",
       "      <td>34.07</td>\n",
       "      <td>67.63</td>\n",
       "      <td>154.30</td>\n",
       "    </tr>\n",
       "    <tr>\n",
       "      <th>humw</th>\n",
       "      <td>337.0</td>\n",
       "      <td>3.351395</td>\n",
       "      <td>1.604989</td>\n",
       "      <td>1.14</td>\n",
       "      <td>2.06</td>\n",
       "      <td>2.89</td>\n",
       "      <td>4.37</td>\n",
       "      <td>8.15</td>\n",
       "    </tr>\n",
       "    <tr>\n",
       "      <th>feml</th>\n",
       "      <td>337.0</td>\n",
       "      <td>29.973947</td>\n",
       "      <td>12.395792</td>\n",
       "      <td>11.83</td>\n",
       "      <td>20.59</td>\n",
       "      <td>27.46</td>\n",
       "      <td>38.27</td>\n",
       "      <td>65.97</td>\n",
       "    </tr>\n",
       "    <tr>\n",
       "      <th>tibl</th>\n",
       "      <td>337.0</td>\n",
       "      <td>51.482908</td>\n",
       "      <td>22.138146</td>\n",
       "      <td>5.50</td>\n",
       "      <td>34.64</td>\n",
       "      <td>46.64</td>\n",
       "      <td>66.60</td>\n",
       "      <td>116.09</td>\n",
       "    </tr>\n",
       "    <tr>\n",
       "      <th>tarl</th>\n",
       "      <td>337.0</td>\n",
       "      <td>32.559496</td>\n",
       "      <td>14.035064</td>\n",
       "      <td>7.77</td>\n",
       "      <td>22.12</td>\n",
       "      <td>29.16</td>\n",
       "      <td>38.07</td>\n",
       "      <td>73.95</td>\n",
       "    </tr>\n",
       "    <tr>\n",
       "      <th>tarw</th>\n",
       "      <td>337.0</td>\n",
       "      <td>2.123501</td>\n",
       "      <td>1.031139</td>\n",
       "      <td>0.66</td>\n",
       "      <td>1.28</td>\n",
       "      <td>1.92</td>\n",
       "      <td>2.71</td>\n",
       "      <td>5.63</td>\n",
       "    </tr>\n",
       "  </tbody>\n",
       "</table>\n",
       "</div>"
      ],
      "text/plain": [
       "      count       mean        std    min    25%    50%    75%     max\n",
       "huml  337.0  46.679792  30.366647   9.85  23.27  34.07  67.63  154.30\n",
       "humw  337.0   3.351395   1.604989   1.14   2.06   2.89   4.37    8.15\n",
       "feml  337.0  29.973947  12.395792  11.83  20.59  27.46  38.27   65.97\n",
       "tibl  337.0  51.482908  22.138146   5.50  34.64  46.64  66.60  116.09\n",
       "tarl  337.0  32.559496  14.035064   7.77  22.12  29.16  38.07   73.95\n",
       "tarw  337.0   2.123501   1.031139   0.66   1.28   1.92   2.71    5.63"
      ]
     },
     "execution_count": 29,
     "metadata": {},
     "output_type": "execute_result"
    }
   ],
   "source": [
    "filteredDataHumw = remove_outlier(filteredDataFeml, \"humw\")\n",
    "filteredDataHumw.describe().transpose()"
   ]
  },
  {
   "cell_type": "code",
   "execution_count": 30,
   "id": "70da2a8c-ab82-45fe-810f-ac4d906e5c5c",
   "metadata": {},
   "outputs": [
    {
     "data": {
      "text/html": [
       "<div>\n",
       "<style scoped>\n",
       "    .dataframe tbody tr th:only-of-type {\n",
       "        vertical-align: middle;\n",
       "    }\n",
       "\n",
       "    .dataframe tbody tr th {\n",
       "        vertical-align: top;\n",
       "    }\n",
       "\n",
       "    .dataframe thead th {\n",
       "        text-align: right;\n",
       "    }\n",
       "</style>\n",
       "<table border=\"1\" class=\"dataframe\">\n",
       "  <thead>\n",
       "    <tr style=\"text-align: right;\">\n",
       "      <th></th>\n",
       "      <th>huml</th>\n",
       "      <th>humw</th>\n",
       "      <th>feml</th>\n",
       "      <th>tibl</th>\n",
       "      <th>tarl</th>\n",
       "      <th>tarw</th>\n",
       "      <th>type</th>\n",
       "    </tr>\n",
       "  </thead>\n",
       "  <tbody>\n",
       "    <tr>\n",
       "      <th>0</th>\n",
       "      <td>80.78</td>\n",
       "      <td>6.68</td>\n",
       "      <td>41.81</td>\n",
       "      <td>5.50</td>\n",
       "      <td>38.70</td>\n",
       "      <td>3.84</td>\n",
       "      <td>SW</td>\n",
       "    </tr>\n",
       "    <tr>\n",
       "      <th>1</th>\n",
       "      <td>88.91</td>\n",
       "      <td>6.63</td>\n",
       "      <td>47.04</td>\n",
       "      <td>80.22</td>\n",
       "      <td>41.50</td>\n",
       "      <td>4.01</td>\n",
       "      <td>SW</td>\n",
       "    </tr>\n",
       "    <tr>\n",
       "      <th>2</th>\n",
       "      <td>79.97</td>\n",
       "      <td>6.37</td>\n",
       "      <td>43.07</td>\n",
       "      <td>75.35</td>\n",
       "      <td>38.31</td>\n",
       "      <td>3.34</td>\n",
       "      <td>SW</td>\n",
       "    </tr>\n",
       "    <tr>\n",
       "      <th>3</th>\n",
       "      <td>77.65</td>\n",
       "      <td>5.70</td>\n",
       "      <td>40.04</td>\n",
       "      <td>69.17</td>\n",
       "      <td>35.78</td>\n",
       "      <td>3.41</td>\n",
       "      <td>SW</td>\n",
       "    </tr>\n",
       "    <tr>\n",
       "      <th>4</th>\n",
       "      <td>62.80</td>\n",
       "      <td>4.84</td>\n",
       "      <td>33.95</td>\n",
       "      <td>56.27</td>\n",
       "      <td>31.88</td>\n",
       "      <td>3.13</td>\n",
       "      <td>SW</td>\n",
       "    </tr>\n",
       "  </tbody>\n",
       "</table>\n",
       "</div>"
      ],
      "text/plain": [
       "    huml  humw   feml   tibl   tarl  tarw type\n",
       "0  80.78  6.68  41.81   5.50  38.70  3.84   SW\n",
       "1  88.91  6.63  47.04  80.22  41.50  4.01   SW\n",
       "2  79.97  6.37  43.07  75.35  38.31  3.34   SW\n",
       "3  77.65  5.70  40.04  69.17  35.78  3.41   SW\n",
       "4  62.80  4.84  33.95  56.27  31.88  3.13   SW"
      ]
     },
     "execution_count": 30,
     "metadata": {},
     "output_type": "execute_result"
    }
   ],
   "source": [
    "filteredDataWithoutOutliers.head()"
   ]
  },
  {
   "cell_type": "code",
   "execution_count": null,
   "id": "966d0c92-292f-47b0-9672-b2ebb8f60aed",
   "metadata": {},
   "outputs": [],
   "source": []
  },
  {
   "cell_type": "markdown",
   "id": "010b6b24-4e77-4c60-b318-6e3308d07253",
   "metadata": {},
   "source": [
    " "
   ]
  },
  {
   "cell_type": "markdown",
   "id": "a647a52a-8dc0-4a3b-9de4-70e8cc8084ef",
   "metadata": {},
   "source": []
  },
  {
   "cell_type": "code",
   "execution_count": null,
   "id": "c19e663f",
   "metadata": {},
   "outputs": [],
   "source": []
  },
  {
   "cell_type": "code",
   "execution_count": null,
   "id": "18efa95f",
   "metadata": {},
   "outputs": [],
   "source": []
  },
  {
   "cell_type": "markdown",
   "id": "b9c493cd-94ed-4a11-91ab-15ff7b2fe604",
   "metadata": {},
   "source": [
    "\n",
    "profile = ProfileReport(filteredDataWithoutOutliers, title=\"Report after data pre-processing\")\n",
    "profile"
   ]
  },
  {
   "cell_type": "code",
   "execution_count": null,
   "id": "ddaf4eb9",
   "metadata": {},
   "outputs": [],
   "source": []
  },
  {
   "cell_type": "markdown",
   "id": "48265246",
   "metadata": {
    "tags": []
   },
   "source": [
    " "
   ]
  },
  {
   "cell_type": "markdown",
   "id": "acf83938-6210-44d7-8007-f995d67c2ed5",
   "metadata": {},
   "source": [
    " "
   ]
  },
  {
   "cell_type": "markdown",
   "id": "1ede908b-9039-4de0-991e-10f3b6387735",
   "metadata": {
    "tags": []
   },
   "source": [
    " "
   ]
  },
  {
   "cell_type": "markdown",
   "id": "0c04a8d0-8c7e-4c9c-8725-90b3b6bd5609",
   "metadata": {},
   "source": [
    " "
   ]
  },
  {
   "cell_type": "markdown",
   "id": "af819a68-dc11-42ed-95c8-0dccff2eac16",
   "metadata": {},
   "source": [
    " "
   ]
  },
  {
   "cell_type": "markdown",
   "id": "246e9bc5-7399-4e17-bdf6-e715b2a6e141",
   "metadata": {},
   "source": [
    " "
   ]
  },
  {
   "cell_type": "code",
   "execution_count": null,
   "id": "f3c33fc2",
   "metadata": {},
   "outputs": [],
   "source": []
  },
  {
   "cell_type": "markdown",
   "id": "57ba2e40-bb92-44cb-99e4-83d16c4da2fe",
   "metadata": {},
   "source": [
    "# Splitting the data"
   ]
  },
  {
   "cell_type": "code",
   "execution_count": null,
   "id": "b6fd0c1c",
   "metadata": {},
   "outputs": [],
   "source": []
  },
  {
   "cell_type": "code",
   "execution_count": null,
   "id": "021e9a62-2e2f-4264-87b4-1bbbfb00c8f2",
   "metadata": {},
   "outputs": [],
   "source": []
  },
  {
   "cell_type": "code",
   "execution_count": 31,
   "id": "e38373aa-9abc-4940-bd63-78476fece2fa",
   "metadata": {},
   "outputs": [],
   "source": [
    "X = filteredDataWithoutOutliers.drop(['type'], axis=1)"
   ]
  },
  {
   "cell_type": "markdown",
   "id": "aaa8bd94-c2e0-4008-beb3-1f31c132c1e0",
   "metadata": {},
   "source": [
    "# Scaling\n",
    "from sklearn.preprocessing import MinMaxScaler\n",
    "scaler = MinMaxScaler()\n",
    "X = scaler.fit_transform(X)\n",
    "X"
   ]
  },
  {
   "cell_type": "code",
   "execution_count": 32,
   "id": "cf46e587-8f70-421c-bf5e-353e4c4e2ad5",
   "metadata": {},
   "outputs": [],
   "source": [
    "enc=LabelEncoder()\n",
    "y=enc.fit_transform(filteredDataWithoutOutliers['type'])"
   ]
  },
  {
   "cell_type": "code",
   "execution_count": 33,
   "id": "776b916c-5eb7-4da2-a561-1263019a29a5",
   "metadata": {},
   "outputs": [
    {
     "data": {
      "text/html": [
       "<div>\n",
       "<style scoped>\n",
       "    .dataframe tbody tr th:only-of-type {\n",
       "        vertical-align: middle;\n",
       "    }\n",
       "\n",
       "    .dataframe tbody tr th {\n",
       "        vertical-align: top;\n",
       "    }\n",
       "\n",
       "    .dataframe thead th {\n",
       "        text-align: right;\n",
       "    }\n",
       "</style>\n",
       "<table border=\"1\" class=\"dataframe\">\n",
       "  <thead>\n",
       "    <tr style=\"text-align: right;\">\n",
       "      <th></th>\n",
       "      <th>huml</th>\n",
       "      <th>humw</th>\n",
       "      <th>feml</th>\n",
       "      <th>tibl</th>\n",
       "      <th>tarl</th>\n",
       "      <th>tarw</th>\n",
       "    </tr>\n",
       "  </thead>\n",
       "  <tbody>\n",
       "    <tr>\n",
       "      <th>0</th>\n",
       "      <td>80.78</td>\n",
       "      <td>6.68</td>\n",
       "      <td>41.81</td>\n",
       "      <td>5.50</td>\n",
       "      <td>38.70</td>\n",
       "      <td>3.84</td>\n",
       "    </tr>\n",
       "    <tr>\n",
       "      <th>1</th>\n",
       "      <td>88.91</td>\n",
       "      <td>6.63</td>\n",
       "      <td>47.04</td>\n",
       "      <td>80.22</td>\n",
       "      <td>41.50</td>\n",
       "      <td>4.01</td>\n",
       "    </tr>\n",
       "    <tr>\n",
       "      <th>2</th>\n",
       "      <td>79.97</td>\n",
       "      <td>6.37</td>\n",
       "      <td>43.07</td>\n",
       "      <td>75.35</td>\n",
       "      <td>38.31</td>\n",
       "      <td>3.34</td>\n",
       "    </tr>\n",
       "    <tr>\n",
       "      <th>3</th>\n",
       "      <td>77.65</td>\n",
       "      <td>5.70</td>\n",
       "      <td>40.04</td>\n",
       "      <td>69.17</td>\n",
       "      <td>35.78</td>\n",
       "      <td>3.41</td>\n",
       "    </tr>\n",
       "    <tr>\n",
       "      <th>4</th>\n",
       "      <td>62.80</td>\n",
       "      <td>4.84</td>\n",
       "      <td>33.95</td>\n",
       "      <td>56.27</td>\n",
       "      <td>31.88</td>\n",
       "      <td>3.13</td>\n",
       "    </tr>\n",
       "    <tr>\n",
       "      <th>...</th>\n",
       "      <td>...</td>\n",
       "      <td>...</td>\n",
       "      <td>...</td>\n",
       "      <td>...</td>\n",
       "      <td>...</td>\n",
       "      <td>...</td>\n",
       "    </tr>\n",
       "    <tr>\n",
       "      <th>415</th>\n",
       "      <td>17.96</td>\n",
       "      <td>1.63</td>\n",
       "      <td>18.36</td>\n",
       "      <td>31.25</td>\n",
       "      <td>21.99</td>\n",
       "      <td>1.15</td>\n",
       "    </tr>\n",
       "    <tr>\n",
       "      <th>416</th>\n",
       "      <td>19.21</td>\n",
       "      <td>1.64</td>\n",
       "      <td>19.24</td>\n",
       "      <td>33.21</td>\n",
       "      <td>23.60</td>\n",
       "      <td>1.15</td>\n",
       "    </tr>\n",
       "    <tr>\n",
       "      <th>417</th>\n",
       "      <td>18.79</td>\n",
       "      <td>1.63</td>\n",
       "      <td>20.96</td>\n",
       "      <td>34.45</td>\n",
       "      <td>22.86</td>\n",
       "      <td>1.21</td>\n",
       "    </tr>\n",
       "    <tr>\n",
       "      <th>418</th>\n",
       "      <td>20.38</td>\n",
       "      <td>1.78</td>\n",
       "      <td>21.35</td>\n",
       "      <td>36.09</td>\n",
       "      <td>25.98</td>\n",
       "      <td>1.24</td>\n",
       "    </tr>\n",
       "    <tr>\n",
       "      <th>419</th>\n",
       "      <td>17.89</td>\n",
       "      <td>1.44</td>\n",
       "      <td>17.62</td>\n",
       "      <td>29.81</td>\n",
       "      <td>21.69</td>\n",
       "      <td>1.05</td>\n",
       "    </tr>\n",
       "  </tbody>\n",
       "</table>\n",
       "<p>334 rows × 6 columns</p>\n",
       "</div>"
      ],
      "text/plain": [
       "      huml  humw   feml   tibl   tarl  tarw\n",
       "0    80.78  6.68  41.81   5.50  38.70  3.84\n",
       "1    88.91  6.63  47.04  80.22  41.50  4.01\n",
       "2    79.97  6.37  43.07  75.35  38.31  3.34\n",
       "3    77.65  5.70  40.04  69.17  35.78  3.41\n",
       "4    62.80  4.84  33.95  56.27  31.88  3.13\n",
       "..     ...   ...    ...    ...    ...   ...\n",
       "415  17.96  1.63  18.36  31.25  21.99  1.15\n",
       "416  19.21  1.64  19.24  33.21  23.60  1.15\n",
       "417  18.79  1.63  20.96  34.45  22.86  1.21\n",
       "418  20.38  1.78  21.35  36.09  25.98  1.24\n",
       "419  17.89  1.44  17.62  29.81  21.69  1.05\n",
       "\n",
       "[334 rows x 6 columns]"
      ]
     },
     "execution_count": 33,
     "metadata": {},
     "output_type": "execute_result"
    }
   ],
   "source": [
    "X"
   ]
  },
  {
   "cell_type": "code",
   "execution_count": 34,
   "id": "8f0078e5-c4c6-47fb-80ce-752258088830",
   "metadata": {},
   "outputs": [
    {
     "data": {
      "text/plain": [
       "array([3, 3, 3, 3, 3, 3, 3, 3, 3, 3, 3, 3, 3, 3, 3, 3, 3, 3, 3, 3, 3, 3,\n",
       "       3, 3, 3, 3, 3, 3, 3, 3, 3, 3, 3, 3, 3, 3, 3, 3, 3, 3, 3, 3, 3, 3,\n",
       "       3, 3, 3, 3, 3, 3, 3, 3, 3, 3, 3, 3, 3, 3, 3, 3, 3, 3, 3, 3, 3, 3,\n",
       "       3, 3, 3, 3, 3, 5, 5, 5, 5, 5, 5, 5, 5, 5, 5, 5, 5, 5, 5, 5, 5, 5,\n",
       "       5, 5, 5, 5, 5, 5, 5, 5, 5, 5, 5, 5, 5, 5, 5, 5, 5, 5, 5, 5, 5, 5,\n",
       "       5, 5, 5, 5, 5, 5, 5, 5, 5, 5, 5, 5, 5, 5, 5, 4, 4, 4, 4, 4, 4, 4,\n",
       "       4, 4, 4, 4, 4, 4, 4, 4, 4, 4, 4, 4, 4, 1, 1, 1, 1, 1, 1, 1, 1, 1,\n",
       "       1, 1, 1, 1, 1, 1, 1, 1, 1, 1, 1, 1, 1, 1, 1, 1, 1, 1, 0, 0, 0, 0,\n",
       "       0, 0, 0, 0, 0, 0, 0, 0, 0, 0, 0, 0, 0, 0, 0, 0, 0, 0, 0, 0, 0, 0,\n",
       "       0, 0, 0, 0, 0, 0, 0, 0, 0, 0, 0, 0, 2, 2, 2, 2, 2, 2, 2, 2, 2, 2,\n",
       "       2, 2, 2, 2, 2, 2, 2, 2, 2, 2, 2, 2, 2, 2, 2, 2, 2, 2, 2, 2, 2, 2,\n",
       "       2, 2, 2, 2, 2, 2, 2, 2, 2, 2, 2, 2, 2, 2, 2, 2, 2, 2, 2, 2, 2, 2,\n",
       "       2, 2, 2, 2, 2, 2, 2, 2, 2, 2, 2, 2, 2, 2, 2, 2, 2, 2, 2, 2, 2, 2,\n",
       "       2, 2, 2, 2, 2, 2, 2, 2, 2, 2, 2, 2, 2, 2, 2, 2, 2, 2, 2, 2, 2, 2,\n",
       "       2, 2, 2, 2, 2, 2, 2, 2, 2, 2, 2, 2, 2, 2, 2, 2, 2, 2, 2, 2, 2, 2,\n",
       "       2, 2, 2, 2])"
      ]
     },
     "execution_count": 34,
     "metadata": {},
     "output_type": "execute_result"
    }
   ],
   "source": [
    "y"
   ]
  },
  {
   "cell_type": "code",
   "execution_count": 35,
   "id": "771aaa4a-e936-4c43-a372-907e165a95f3",
   "metadata": {},
   "outputs": [
    {
     "data": {
      "text/plain": [
       "334"
      ]
     },
     "execution_count": 35,
     "metadata": {},
     "output_type": "execute_result"
    }
   ],
   "source": [
    "len(y)"
   ]
  },
  {
   "cell_type": "code",
   "execution_count": 36,
   "id": "b48536f7-7291-4eba-a332-134828feae10",
   "metadata": {},
   "outputs": [],
   "source": [
    "X_train, X_test, y_train, y_test = train_test_split(X,y,test_size=0.2,random_state = 42)"
   ]
  },
  {
   "cell_type": "markdown",
   "id": "ba874886-f4a1-4e88-9d72-bec30bea87b2",
   "metadata": {},
   "source": [
    " "
   ]
  },
  {
   "cell_type": "markdown",
   "id": "d9f0e317-a052-43bc-ad4b-b31236134167",
   "metadata": {},
   "source": [
    " "
   ]
  },
  {
   "cell_type": "code",
   "execution_count": 37,
   "id": "5ce51e10-3c34-4a2e-9ffc-f7e8b912994b",
   "metadata": {},
   "outputs": [
    {
     "data": {
      "text/html": [
       "<div>\n",
       "<style scoped>\n",
       "    .dataframe tbody tr th:only-of-type {\n",
       "        vertical-align: middle;\n",
       "    }\n",
       "\n",
       "    .dataframe tbody tr th {\n",
       "        vertical-align: top;\n",
       "    }\n",
       "\n",
       "    .dataframe thead th {\n",
       "        text-align: right;\n",
       "    }\n",
       "</style>\n",
       "<table border=\"1\" class=\"dataframe\">\n",
       "  <thead>\n",
       "    <tr style=\"text-align: right;\">\n",
       "      <th></th>\n",
       "      <th>huml</th>\n",
       "      <th>humw</th>\n",
       "      <th>feml</th>\n",
       "      <th>tibl</th>\n",
       "      <th>tarl</th>\n",
       "      <th>tarw</th>\n",
       "    </tr>\n",
       "  </thead>\n",
       "  <tbody>\n",
       "    <tr>\n",
       "      <th>306</th>\n",
       "      <td>15.97</td>\n",
       "      <td>1.47</td>\n",
       "      <td>15.11</td>\n",
       "      <td>25.99</td>\n",
       "      <td>18.36</td>\n",
       "      <td>1.40</td>\n",
       "    </tr>\n",
       "    <tr>\n",
       "      <th>128</th>\n",
       "      <td>35.11</td>\n",
       "      <td>2.51</td>\n",
       "      <td>23.20</td>\n",
       "      <td>38.09</td>\n",
       "      <td>18.33</td>\n",
       "      <td>1.57</td>\n",
       "    </tr>\n",
       "    <tr>\n",
       "      <th>379</th>\n",
       "      <td>22.26</td>\n",
       "      <td>1.94</td>\n",
       "      <td>17.27</td>\n",
       "      <td>27.29</td>\n",
       "      <td>17.49</td>\n",
       "      <td>1.02</td>\n",
       "    </tr>\n",
       "    <tr>\n",
       "      <th>54</th>\n",
       "      <td>24.11</td>\n",
       "      <td>2.33</td>\n",
       "      <td>22.08</td>\n",
       "      <td>40.13</td>\n",
       "      <td>23.73</td>\n",
       "      <td>1.77</td>\n",
       "    </tr>\n",
       "    <tr>\n",
       "      <th>66</th>\n",
       "      <td>34.38</td>\n",
       "      <td>1.88</td>\n",
       "      <td>14.35</td>\n",
       "      <td>37.47</td>\n",
       "      <td>25.45</td>\n",
       "      <td>1.13</td>\n",
       "    </tr>\n",
       "    <tr>\n",
       "      <th>...</th>\n",
       "      <td>...</td>\n",
       "      <td>...</td>\n",
       "      <td>...</td>\n",
       "      <td>...</td>\n",
       "      <td>...</td>\n",
       "      <td>...</td>\n",
       "    </tr>\n",
       "    <tr>\n",
       "      <th>270</th>\n",
       "      <td>26.92</td>\n",
       "      <td>2.73</td>\n",
       "      <td>19.10</td>\n",
       "      <td>26.68</td>\n",
       "      <td>13.21</td>\n",
       "      <td>1.23</td>\n",
       "    </tr>\n",
       "    <tr>\n",
       "      <th>118</th>\n",
       "      <td>70.01</td>\n",
       "      <td>3.71</td>\n",
       "      <td>49.42</td>\n",
       "      <td>79.56</td>\n",
       "      <td>52.74</td>\n",
       "      <td>3.02</td>\n",
       "    </tr>\n",
       "    <tr>\n",
       "      <th>162</th>\n",
       "      <td>84.71</td>\n",
       "      <td>5.30</td>\n",
       "      <td>36.17</td>\n",
       "      <td>69.97</td>\n",
       "      <td>33.97</td>\n",
       "      <td>2.48</td>\n",
       "    </tr>\n",
       "    <tr>\n",
       "      <th>353</th>\n",
       "      <td>26.09</td>\n",
       "      <td>2.17</td>\n",
       "      <td>27.74</td>\n",
       "      <td>46.64</td>\n",
       "      <td>32.85</td>\n",
       "      <td>1.81</td>\n",
       "    </tr>\n",
       "    <tr>\n",
       "      <th>156</th>\n",
       "      <td>127.40</td>\n",
       "      <td>6.93</td>\n",
       "      <td>58.44</td>\n",
       "      <td>107.48</td>\n",
       "      <td>65.68</td>\n",
       "      <td>3.87</td>\n",
       "    </tr>\n",
       "  </tbody>\n",
       "</table>\n",
       "<p>267 rows × 6 columns</p>\n",
       "</div>"
      ],
      "text/plain": [
       "       huml  humw   feml    tibl   tarl  tarw\n",
       "306   15.97  1.47  15.11   25.99  18.36  1.40\n",
       "128   35.11  2.51  23.20   38.09  18.33  1.57\n",
       "379   22.26  1.94  17.27   27.29  17.49  1.02\n",
       "54    24.11  2.33  22.08   40.13  23.73  1.77\n",
       "66    34.38  1.88  14.35   37.47  25.45  1.13\n",
       "..      ...   ...    ...     ...    ...   ...\n",
       "270   26.92  2.73  19.10   26.68  13.21  1.23\n",
       "118   70.01  3.71  49.42   79.56  52.74  3.02\n",
       "162   84.71  5.30  36.17   69.97  33.97  2.48\n",
       "353   26.09  2.17  27.74   46.64  32.85  1.81\n",
       "156  127.40  6.93  58.44  107.48  65.68  3.87\n",
       "\n",
       "[267 rows x 6 columns]"
      ]
     },
     "execution_count": 37,
     "metadata": {},
     "output_type": "execute_result"
    }
   ],
   "source": [
    "X_train"
   ]
  },
  {
   "cell_type": "code",
   "execution_count": 38,
   "id": "1d7875fa-8b16-495b-b609-a9fcd7976362",
   "metadata": {},
   "outputs": [
    {
     "data": {
      "text/plain": [
       "array([2, 5, 2, 3, 3, 2, 2, 2, 0, 5, 5, 4, 2, 5, 4, 0, 5, 2, 2, 3, 2, 0,\n",
       "       1, 2, 2, 1, 3, 5, 3, 3, 0, 5, 3, 3, 2, 2, 3, 0, 3, 2, 2, 5, 1, 3,\n",
       "       2, 5, 1, 0, 1, 5, 2, 3, 2, 3, 0, 2, 4, 3, 2, 5, 5, 3, 0, 5, 5, 0,\n",
       "       3, 3, 3, 2, 3, 2, 4, 4, 2, 5, 2, 1, 2, 1, 2, 2, 2, 1, 2, 4, 3, 2,\n",
       "       0, 1, 5, 0, 0, 5, 2, 2, 2, 1, 2, 2, 1, 2, 3, 5, 0, 2, 5, 2, 2, 4,\n",
       "       5, 3, 5, 2, 5, 0, 2, 4, 0, 2, 3, 2, 3, 2, 5, 0, 3, 1, 3, 3, 3, 1,\n",
       "       4, 2, 4, 2, 3, 5, 2, 0, 0, 5, 3, 5, 2, 0, 4, 3, 2, 4, 2, 3, 2, 2,\n",
       "       2, 5, 0, 2, 2, 2, 5, 1, 5, 3, 2, 3, 1, 3, 2, 2, 3, 2, 0, 2, 3, 2,\n",
       "       2, 2, 3, 5, 3, 2, 1, 2, 2, 2, 4, 3, 2, 4, 4, 3, 3, 3, 1, 3, 2, 2,\n",
       "       2, 2, 2, 0, 2, 2, 2, 2, 2, 2, 0, 1, 3, 2, 0, 2, 5, 3, 3, 3, 5, 0,\n",
       "       3, 2, 5, 3, 2, 2, 3, 5, 2, 1, 2, 4, 2, 2, 3, 3, 0, 0, 2, 0, 1, 3,\n",
       "       3, 2, 2, 3, 2, 1, 2, 0, 2, 2, 2, 1, 4, 1, 5, 5, 2, 5, 2, 3, 0, 5,\n",
       "       5, 2, 5])"
      ]
     },
     "execution_count": 38,
     "metadata": {},
     "output_type": "execute_result"
    }
   ],
   "source": [
    "y_train"
   ]
  },
  {
   "cell_type": "code",
   "execution_count": null,
   "id": "e7e60e9c-c9c1-4024-b379-cb059e94ae27",
   "metadata": {},
   "outputs": [],
   "source": []
  },
  {
   "cell_type": "markdown",
   "id": "cb895949-0a44-474d-acc5-cb4be6a6c735",
   "metadata": {},
   "source": [
    " "
   ]
  },
  {
   "cell_type": "code",
   "execution_count": null,
   "id": "33f24ec7-e47a-475e-a48f-7f5afd5b4e8d",
   "metadata": {},
   "outputs": [],
   "source": []
  },
  {
   "cell_type": "markdown",
   "id": "40616070-85c6-4825-bb0e-a6c34873cbcf",
   "metadata": {},
   "source": [
    " \n",
    " "
   ]
  },
  {
   "cell_type": "code",
   "execution_count": null,
   "id": "fd68f493-1bb6-4a6f-a75c-b21775d0c41c",
   "metadata": {},
   "outputs": [],
   "source": []
  },
  {
   "cell_type": "markdown",
   "id": "e9ad41f7-2bbe-46f5-bb11-addb7acd2953",
   "metadata": {},
   "source": [
    " "
   ]
  },
  {
   "cell_type": "markdown",
   "id": "d9ec0fe1-1a8a-4bab-99b5-4b1ac0d8bbae",
   "metadata": {},
   "source": [
    " "
   ]
  },
  {
   "cell_type": "markdown",
   "id": "87427180-ae3f-4847-932e-a345ec20dcf0",
   "metadata": {},
   "source": [
    " "
   ]
  },
  {
   "cell_type": "code",
   "execution_count": 39,
   "id": "ecfcd425-8ea0-481b-8055-1e8153b65381",
   "metadata": {},
   "outputs": [
    {
     "name": "stdout",
     "output_type": "stream",
     "text": [
      "x_tr.shape= (267, 6)\n",
      "y_tr.shape= (267,)\n",
      "\n"
     ]
    }
   ],
   "source": [
    "print('x_tr.shape=', X_train.shape)\n",
    "print('y_tr.shape=', y_train.shape)\n",
    "print('')"
   ]
  },
  {
   "cell_type": "code",
   "execution_count": null,
   "id": "42e6e0bc-a74d-4ad2-90a2-b0579d0de6c8",
   "metadata": {},
   "outputs": [],
   "source": []
  },
  {
   "cell_type": "code",
   "execution_count": 40,
   "id": "064afe11-b169-4ef1-b05c-5cb297e9444c",
   "metadata": {},
   "outputs": [
    {
     "data": {
      "text/html": [
       "<div>\n",
       "<style scoped>\n",
       "    .dataframe tbody tr th:only-of-type {\n",
       "        vertical-align: middle;\n",
       "    }\n",
       "\n",
       "    .dataframe tbody tr th {\n",
       "        vertical-align: top;\n",
       "    }\n",
       "\n",
       "    .dataframe thead th {\n",
       "        text-align: right;\n",
       "    }\n",
       "</style>\n",
       "<table border=\"1\" class=\"dataframe\">\n",
       "  <thead>\n",
       "    <tr style=\"text-align: right;\">\n",
       "      <th></th>\n",
       "      <th>huml</th>\n",
       "      <th>humw</th>\n",
       "      <th>feml</th>\n",
       "      <th>tibl</th>\n",
       "      <th>tarl</th>\n",
       "      <th>tarw</th>\n",
       "    </tr>\n",
       "  </thead>\n",
       "  <tbody>\n",
       "    <tr>\n",
       "      <th>0</th>\n",
       "      <td>15.97</td>\n",
       "      <td>1.47</td>\n",
       "      <td>15.11</td>\n",
       "      <td>25.99</td>\n",
       "      <td>18.36</td>\n",
       "      <td>1.40</td>\n",
       "    </tr>\n",
       "    <tr>\n",
       "      <th>1</th>\n",
       "      <td>35.11</td>\n",
       "      <td>2.51</td>\n",
       "      <td>23.20</td>\n",
       "      <td>38.09</td>\n",
       "      <td>18.33</td>\n",
       "      <td>1.57</td>\n",
       "    </tr>\n",
       "    <tr>\n",
       "      <th>2</th>\n",
       "      <td>22.26</td>\n",
       "      <td>1.94</td>\n",
       "      <td>17.27</td>\n",
       "      <td>27.29</td>\n",
       "      <td>17.49</td>\n",
       "      <td>1.02</td>\n",
       "    </tr>\n",
       "    <tr>\n",
       "      <th>3</th>\n",
       "      <td>24.11</td>\n",
       "      <td>2.33</td>\n",
       "      <td>22.08</td>\n",
       "      <td>40.13</td>\n",
       "      <td>23.73</td>\n",
       "      <td>1.77</td>\n",
       "    </tr>\n",
       "    <tr>\n",
       "      <th>4</th>\n",
       "      <td>34.38</td>\n",
       "      <td>1.88</td>\n",
       "      <td>14.35</td>\n",
       "      <td>37.47</td>\n",
       "      <td>25.45</td>\n",
       "      <td>1.13</td>\n",
       "    </tr>\n",
       "    <tr>\n",
       "      <th>...</th>\n",
       "      <td>...</td>\n",
       "      <td>...</td>\n",
       "      <td>...</td>\n",
       "      <td>...</td>\n",
       "      <td>...</td>\n",
       "      <td>...</td>\n",
       "    </tr>\n",
       "    <tr>\n",
       "      <th>595</th>\n",
       "      <td>82.30</td>\n",
       "      <td>4.88</td>\n",
       "      <td>37.39</td>\n",
       "      <td>75.34</td>\n",
       "      <td>50.06</td>\n",
       "      <td>2.38</td>\n",
       "    </tr>\n",
       "    <tr>\n",
       "      <th>596</th>\n",
       "      <td>32.31</td>\n",
       "      <td>2.16</td>\n",
       "      <td>19.05</td>\n",
       "      <td>33.37</td>\n",
       "      <td>21.20</td>\n",
       "      <td>1.00</td>\n",
       "    </tr>\n",
       "    <tr>\n",
       "      <th>597</th>\n",
       "      <td>84.92</td>\n",
       "      <td>7.90</td>\n",
       "      <td>46.77</td>\n",
       "      <td>82.87</td>\n",
       "      <td>37.17</td>\n",
       "      <td>3.23</td>\n",
       "    </tr>\n",
       "    <tr>\n",
       "      <th>598</th>\n",
       "      <td>27.94</td>\n",
       "      <td>1.93</td>\n",
       "      <td>19.55</td>\n",
       "      <td>35.21</td>\n",
       "      <td>24.47</td>\n",
       "      <td>1.16</td>\n",
       "    </tr>\n",
       "    <tr>\n",
       "      <th>599</th>\n",
       "      <td>45.18</td>\n",
       "      <td>3.44</td>\n",
       "      <td>28.31</td>\n",
       "      <td>46.93</td>\n",
       "      <td>25.86</td>\n",
       "      <td>2.12</td>\n",
       "    </tr>\n",
       "  </tbody>\n",
       "</table>\n",
       "<p>600 rows × 6 columns</p>\n",
       "</div>"
      ],
      "text/plain": [
       "      huml  humw   feml   tibl   tarl  tarw\n",
       "0    15.97  1.47  15.11  25.99  18.36  1.40\n",
       "1    35.11  2.51  23.20  38.09  18.33  1.57\n",
       "2    22.26  1.94  17.27  27.29  17.49  1.02\n",
       "3    24.11  2.33  22.08  40.13  23.73  1.77\n",
       "4    34.38  1.88  14.35  37.47  25.45  1.13\n",
       "..     ...   ...    ...    ...    ...   ...\n",
       "595  82.30  4.88  37.39  75.34  50.06  2.38\n",
       "596  32.31  2.16  19.05  33.37  21.20  1.00\n",
       "597  84.92  7.90  46.77  82.87  37.17  3.23\n",
       "598  27.94  1.93  19.55  35.21  24.47  1.16\n",
       "599  45.18  3.44  28.31  46.93  25.86  2.12\n",
       "\n",
       "[600 rows x 6 columns]"
      ]
     },
     "execution_count": 40,
     "metadata": {},
     "output_type": "execute_result"
    }
   ],
   "source": [
    "\n",
    "\n",
    "# over = RandomOverSampler(sampling_strategy='auto')\n",
    "# under = RandomUnderSampler(sampling_strategy='auto')\n",
    "# pipeline = Pipeline(steps=[('o', over), ('u', under)])\n",
    "ros = RandomOverSampler(random_state=0)\n",
    "ros.fit(X_train, y_train)\n",
    "X_resampled, y_resampled = ros.fit_resample(X_train, y_train)\n",
    "X_resampled"
   ]
  },
  {
   "cell_type": "code",
   "execution_count": 41,
   "id": "2d0e5ab1-b061-4a1b-a62b-1c2cbe6a514f",
   "metadata": {},
   "outputs": [
    {
     "data": {
      "text/plain": [
       "600"
      ]
     },
     "execution_count": 41,
     "metadata": {},
     "output_type": "execute_result"
    }
   ],
   "source": [
    "len(y_resampled)"
   ]
  },
  {
   "cell_type": "markdown",
   "id": "c27f7150-c3c6-4dbd-994a-1712013b20aa",
   "metadata": {},
   "source": [
    " "
   ]
  },
  {
   "cell_type": "code",
   "execution_count": null,
   "id": "c762ed29-8da8-4d8c-9c0e-e553c3395168",
   "metadata": {},
   "outputs": [],
   "source": []
  },
  {
   "cell_type": "markdown",
   "id": "0d91297a-cb41-4877-b4b1-940909120cf1",
   "metadata": {},
   "source": [
    " "
   ]
  },
  {
   "cell_type": "code",
   "execution_count": null,
   "id": "c9d954ab-46d3-446e-be29-9446091a6cda",
   "metadata": {},
   "outputs": [],
   "source": []
  },
  {
   "cell_type": "markdown",
   "id": "1a2f2375-185b-44a3-be1c-56d269818f20",
   "metadata": {},
   "source": [
    " "
   ]
  },
  {
   "cell_type": "code",
   "execution_count": null,
   "id": "d42c1cc3-ea47-4ebf-bcfb-a63d70409886",
   "metadata": {},
   "outputs": [],
   "source": []
  },
  {
   "cell_type": "markdown",
   "id": "0d163a6f-a126-48ef-a7d5-29bab0bc14b8",
   "metadata": {},
   "source": [
    " "
   ]
  },
  {
   "cell_type": "code",
   "execution_count": 42,
   "id": "2ffdc897-3a4d-4aa6-aa2b-4bd3de930c41",
   "metadata": {},
   "outputs": [
    {
     "name": "stderr",
     "output_type": "stream",
     "text": [
      "/home/msc1/anaconda3/envs/Object-Detection-API/lib/python3.8/site-packages/sklearn/linear_model/_logistic.py:458: ConvergenceWarning: lbfgs failed to converge (status=1):\n",
      "STOP: TOTAL NO. of ITERATIONS REACHED LIMIT.\n",
      "\n",
      "Increase the number of iterations (max_iter) or scale the data as shown in:\n",
      "    https://scikit-learn.org/stable/modules/preprocessing.html\n",
      "Please also refer to the documentation for alternative solver options:\n",
      "    https://scikit-learn.org/stable/modules/linear_model.html#logistic-regression\n",
      "  n_iter_i = _check_optimize_result(\n"
     ]
    },
    {
     "name": "stdout",
     "output_type": "stream",
     "text": [
      "LogistReG accuracy: 0.7164179104477612\n",
      "LogistReg f1-score: 0.6823192239858907\n",
      "SupportVector Classifier accuracy: 0.7313432835820896\n",
      "SupportVector Classifier f1-score: 0.6377642825011246\n",
      "RandForest accuracy: 0.7761194029850746\n",
      "RandForest f1-score: 0.7393998340076772\n"
     ]
    }
   ],
   "source": [
    "\n",
    "\n",
    "lr=LogisticRegression()\n",
    "lr.fit(X_resampled,y_resampled)\n",
    "print('LogistReG accuracy:', accuracy_score(y_test, lr.predict(X_test) ))\n",
    "print('LogistReg f1-score:', f1_score(y_test,lr.predict(X_test), average='macro'))\n",
    "\n",
    "svc=SVC()\n",
    "svc.fit(X_resampled,y_resampled)\n",
    "print('SupportVector Classifier accuracy:', accuracy_score(y_test, svc.predict(X_test) ))\n",
    "print('SupportVector Classifier f1-score:', f1_score(y_test,svc.predict(X_test), average='macro'))\n",
    "\n",
    "rf=RandomForestClassifier(1000, max_depth=8)\n",
    "rf.fit(X_resampled,y_resampled)\n",
    "print('RandForest accuracy:', accuracy_score(y_test,rf.predict(X_test)))\n",
    "print('RandForest f1-score:', f1_score(y_test,rf.predict(X_test), average='macro'))"
   ]
  },
  {
   "cell_type": "markdown",
   "id": "23a14ca0-6391-4d26-b4ad-e9ca34d10f9d",
   "metadata": {},
   "source": [
    "# Ada Booster"
   ]
  },
  {
   "cell_type": "code",
   "execution_count": 43,
   "id": "3f4ac173-3958-4249-86bc-771bf954620b",
   "metadata": {},
   "outputs": [
    {
     "name": "stderr",
     "output_type": "stream",
     "text": [
      "/home/msc1/anaconda3/envs/Object-Detection-API/lib/python3.8/site-packages/sklearn/ensemble/_base.py:166: FutureWarning: `base_estimator` was renamed to `estimator` in version 1.2 and will be removed in 1.4.\n",
      "  warnings.warn(\n"
     ]
    },
    {
     "name": "stdout",
     "output_type": "stream",
     "text": [
      "Ada accuracy: 0.746268656716418\n",
      "Ada f1-score: 0.7321033541621776\n",
      "              precision    recall  f1-score   support\n",
      "\n",
      "           0       0.43      0.38      0.40         8\n",
      "           1       0.75      0.75      0.75         4\n",
      "           2       0.85      0.96      0.90        24\n",
      "           3       0.83      0.71      0.77        14\n",
      "           4       1.00      1.00      1.00         3\n",
      "           5       0.57      0.57      0.57        14\n",
      "\n",
      "    accuracy                           0.75        67\n",
      "   macro avg       0.74      0.73      0.73        67\n",
      "weighted avg       0.74      0.75      0.74        67\n",
      "\n"
     ]
    }
   ],
   "source": [
    "from sklearn.tree import DecisionTreeClassifier\n",
    "from sklearn.ensemble import AdaBoostClassifier\n",
    "\n",
    "tree_ada=DecisionTreeClassifier(criterion='entropy',random_state=1, max_depth=5)\n",
    "ada=AdaBoostClassifier(base_estimator=tree_ada,n_estimators=1000,learning_rate=0.1, random_state=5)\n",
    "ada.fit(X_resampled,y_resampled)\n",
    "y_pred=ada.predict(X_test)\n",
    "accuracy=accuracy_score(y_test,y_pred)\n",
    "precision=precision_score(y_test,y_pred, average='macro')\n",
    "recall=recall_score(y_test,y_pred, average='macro')\n",
    "f1=f1_score(y_test,y_pred, average='macro')\n",
    "# results=results.append(pd.DataFrame([['Ada Boost', 'criterion=entropy, max_depth=5', accuracy,precision,recall,f1]],\n",
    "#                                     columns=list(results.columns)))\n",
    "sns.heatmap(confusion_matrix(y_test,y_pred),xticklabels= enc.classes_,\n",
    "            yticklabels=enc.classes_, annot=True,fmt='d');\n",
    "plt.ylabel('true')\n",
    "plt.xlabel('predicted');\n",
    "# results.iloc[-1:]\n",
    "print('Ada accuracy:', accuracy_score(y_test,y_pred))\n",
    "print('Ada f1-score:', f1_score(y_test,y_pred, average='macro'))\n",
    "print(classification_report(y_test,y_pred))"
   ]
  },
  {
   "cell_type": "markdown",
   "id": "d903cebd-80c0-480b-b0e3-104c61b31f94",
   "metadata": {},
   "source": [
    "# Gradient Boosted Tree (Imbalance Data)\n"
   ]
  },
  {
   "cell_type": "code",
   "execution_count": 44,
   "id": "71e11f85-9a70-43d5-ae41-ee41f7fc0336",
   "metadata": {},
   "outputs": [
    {
     "name": "stdout",
     "output_type": "stream",
     "text": [
      "              precision    recall  f1-score   support\n",
      "\n",
      "           0       0.73      1.00      0.84         8\n",
      "           1       0.80      1.00      0.89         4\n",
      "           2       0.86      1.00      0.92        24\n",
      "           3       0.77      0.71      0.74        14\n",
      "           4       0.67      0.67      0.67         3\n",
      "           5       0.71      0.36      0.48        14\n",
      "\n",
      "    accuracy                           0.79        67\n",
      "   macro avg       0.76      0.79      0.76        67\n",
      "weighted avg       0.78      0.79      0.77        67\n",
      "\n"
     ]
    }
   ],
   "source": [
    "from sklearn.ensemble import GradientBoostingClassifier\n",
    "\n",
    "\n",
    "gb=GradientBoostingClassifier(random_state=5, n_estimators=1000, max_depth=4)\n",
    "gb.fit(X_resampled,y_resampled)\n",
    "y_pred=gb.predict(X_test)\n",
    "accuracy=accuracy_score(y_test,y_pred)\n",
    "precision=precision_score(y_test,y_pred, average='macro')\n",
    "recall=recall_score(y_test,y_pred, average='macro')\n",
    "f1=f1_score(y_test,y_pred, average='macro')\n",
    "# results=results.append(pd.DataFrame([['Gradient Boosted Classifier', 'n_estimators=1000, max_depth=4',\n",
    "#                                       accuracy,precision,recall,f1]],\n",
    "#                                     columns=list(results.columns)))\n",
    "sns.heatmap(confusion_matrix(y_test,y_pred),xticklabels= enc.classes_,\n",
    "            yticklabels=enc.classes_, annot=True,fmt='d');\n",
    "plt.ylabel('true')\n",
    "plt.xlabel('predicted');\n",
    "# results.iloc[-1:]\n",
    "print(classification_report(y_test,y_pred))"
   ]
  },
  {
   "cell_type": "markdown",
   "id": "14cb435d-56a3-4d40-9816-a5e2331d974f",
   "metadata": {},
   "source": [
    "# Classification Report for Logistic Regression "
   ]
  },
  {
   "cell_type": "code",
   "execution_count": 45,
   "id": "648e0d24-c0e1-4b44-81dd-97b8335a0485",
   "metadata": {},
   "outputs": [
    {
     "name": "stdout",
     "output_type": "stream",
     "text": [
      "              precision    recall  f1-score   support\n",
      "\n",
      "           0       0.46      0.75      0.57         8\n",
      "           1       0.50      1.00      0.67         4\n",
      "           2       0.95      0.83      0.89        24\n",
      "           3       0.77      0.71      0.74        14\n",
      "           4       0.60      1.00      0.75         3\n",
      "           5       0.71      0.36      0.48        14\n",
      "\n",
      "    accuracy                           0.72        67\n",
      "   macro avg       0.67      0.78      0.68        67\n",
      "weighted avg       0.76      0.72      0.71        67\n",
      "\n"
     ]
    }
   ],
   "source": [
    "print(classification_report(y_test,lr.predict(X_test)))"
   ]
  },
  {
   "cell_type": "markdown",
   "id": "fb02a438-1cda-47d2-a0c0-a611e7afe2ab",
   "metadata": {},
   "source": [
    "# Classification Report for Random Forest"
   ]
  },
  {
   "cell_type": "code",
   "execution_count": 46,
   "id": "d8a07621-f182-426c-87de-424d09be41ff",
   "metadata": {},
   "outputs": [
    {
     "name": "stdout",
     "output_type": "stream",
     "text": [
      "              precision    recall  f1-score   support\n",
      "\n",
      "           0       0.78      0.88      0.82         8\n",
      "           1       0.67      1.00      0.80         4\n",
      "           2       0.89      1.00      0.94        24\n",
      "           3       0.77      0.71      0.74        14\n",
      "           4       0.60      1.00      0.75         3\n",
      "           5       0.57      0.29      0.38        14\n",
      "\n",
      "    accuracy                           0.78        67\n",
      "   macro avg       0.71      0.81      0.74        67\n",
      "weighted avg       0.76      0.78      0.75        67\n",
      "\n"
     ]
    }
   ],
   "source": [
    "print(classification_report(y_test,rf.predict(X_test)))"
   ]
  },
  {
   "cell_type": "markdown",
   "id": "ad969413-9631-4ebd-be29-198db6449a65",
   "metadata": {},
   "source": [
    "# Classification Report for Support Vector Classifier"
   ]
  },
  {
   "cell_type": "code",
   "execution_count": 47,
   "id": "387ab2e0-f71b-4c51-ac1d-cedd7c257c12",
   "metadata": {},
   "outputs": [
    {
     "name": "stdout",
     "output_type": "stream",
     "text": [
      "              precision    recall  f1-score   support\n",
      "\n",
      "           0       0.64      0.88      0.74         8\n",
      "           1       0.67      1.00      0.80         4\n",
      "           2       0.86      1.00      0.92        24\n",
      "           3       0.69      0.79      0.73        14\n",
      "           4       0.40      0.67      0.50         3\n",
      "           5       1.00      0.07      0.13        14\n",
      "\n",
      "    accuracy                           0.73        67\n",
      "   macro avg       0.71      0.73      0.64        67\n",
      "weighted avg       0.79      0.73      0.67        67\n",
      "\n"
     ]
    }
   ],
   "source": [
    "print(classification_report(y_test,svc.predict(X_test)))"
   ]
  },
  {
   "cell_type": "markdown",
   "id": "69a53ff2-bd5e-4785-811f-7c79920f7517",
   "metadata": {},
   "source": [
    "# Evaluation metrics"
   ]
  },
  {
   "cell_type": "markdown",
   "id": "adb948e0-d86a-480f-8f73-9db5259a9d3e",
   "metadata": {},
   "source": [
    "# Confusion Matrix Logistic Regression"
   ]
  },
  {
   "cell_type": "code",
   "execution_count": 48,
   "id": "dfd61f66-0bdf-4e3f-b8c5-62e073dd7e05",
   "metadata": {},
   "outputs": [
    {
     "data": {
      "image/png": "[encoded data removed]",
      "text/plain": [
       "<Figure size 640x480 with 4 Axes>"
      ]
     },
     "metadata": {},
     "output_type": "display_data"
    }
   ],
   "source": [
    "sns.heatmap(confusion_matrix(y_test,lr.predict(X_test)),xticklabels= enc.classes_,\n",
    "            yticklabels=enc.classes_, annot=True,fmt='d')\n",
    "plt.show()"
   ]
  },
  {
   "cell_type": "markdown",
   "id": "297d9397-4b91-4073-82d3-e8aa02c1786d",
   "metadata": {},
   "source": [
    "# Confusion Matrix Random Forest"
   ]
  },
  {
   "cell_type": "markdown",
   "id": "deea399f-ffc4-4b1f-857a-5b800d2fcf43",
   "metadata": {},
   "source": [
    " "
   ]
  },
  {
   "cell_type": "code",
   "execution_count": 49,
   "id": "a05e0229-70e0-4a4d-8e81-800616b502fc",
   "metadata": {},
   "outputs": [
    {
     "data": {
      "image/png": "[encoded data removed]",
      "text/plain": [
       "<Figure size 640x480 with 2 Axes>"
      ]
     },
     "metadata": {},
     "output_type": "display_data"
    }
   ],
   "source": [
    "sns.heatmap(confusion_matrix(y_test,rf.predict(X_test)),xticklabels= enc.classes_,\n",
    "            yticklabels=enc.classes_, annot=True,fmt='d')\n",
    "plt.show()"
   ]
  },
  {
   "cell_type": "markdown",
   "id": "42d7a0bf-276b-4633-ab87-954b1937672b",
   "metadata": {},
   "source": [
    " "
   ]
  },
  {
   "cell_type": "markdown",
   "id": "dd6e8b9b-8b90-44f9-940e-85e5717e9e63",
   "metadata": {},
   "source": [
    " "
   ]
  },
  {
   "cell_type": "markdown",
   "id": "d4bcb874-5125-4148-b493-f10a30698a73",
   "metadata": {},
   "source": [
    "# Confusion Matrix for Support Vector Classifier"
   ]
  },
  {
   "cell_type": "code",
   "execution_count": 50,
   "id": "11abff51-32b9-4f85-bc54-bf045ddb14ee",
   "metadata": {},
   "outputs": [
    {
     "data": {
      "image/png": "[encoded data removed]",
      "text/plain": [
       "<Figure size 640x480 with 2 Axes>"
      ]
     },
     "metadata": {},
     "output_type": "display_data"
    }
   ],
   "source": [
    "sns.heatmap(confusion_matrix(y_test,svc.predict(X_test)),xticklabels= enc.classes_,\n",
    "            yticklabels=enc.classes_, annot=True,fmt='d')\n",
    "plt.show()"
   ]
  },
  {
   "cell_type": "markdown",
   "id": "9f264b68-2898-4e8b-b648-ee06258b6a9c",
   "metadata": {},
   "source": [
    "# AUC"
   ]
  },
  {
   "cell_type": "code",
   "execution_count": 51,
   "id": "d0b4b9cd-b6cf-4e95-9064-53259ce5ff87",
   "metadata": {},
   "outputs": [
    {
     "name": "stderr",
     "output_type": "stream",
     "text": [
      "/home/msc1/anaconda3/envs/Object-Detection-API/lib/python3.8/site-packages/sklearn/base.py:409: UserWarning: X does not have valid feature names, but AdaBoostClassifier was fitted with feature names\n",
      "  warnings.warn(\n"
     ]
    },
    {
     "data": {
      "text/plain": [
       "0.27034883720930236"
      ]
     },
     "execution_count": 51,
     "metadata": {},
     "output_type": "execute_result"
    }
   ],
   "source": [
    "from sklearn import metrics\n",
    "\n",
    "\n",
    "fpr, tpr, thresholds = metrics.roc_curve(y_test, ada.predict(np.array(X_test)), pos_label=2)\n",
    "auc= metrics.auc(fpr, tpr)\n",
    "auc"
   ]
  },
  {
   "cell_type": "code",
   "execution_count": 52,
   "id": "af71d564-6ea8-49cf-9f0b-efa9d251edab",
   "metadata": {},
   "outputs": [
    {
     "data": {
      "image/png": "[encoded data removed]",
      "text/plain": [
       "<Figure size 640x480 with 1 Axes>"
      ]
     },
     "metadata": {},
     "output_type": "display_data"
    }
   ],
   "source": [
    "plt.title('Receiver Operating Characteristic')\n",
    "plt.plot(fpr, tpr, 'b', label='AUC = %0.2f' % auc)\n",
    "plt.legend(loc='lower right')\n",
    "plt.plot([0, 1], [0, 1], 'r--')\n",
    "plt.xlim([0, 1])\n",
    "plt.ylim([0, 1])\n",
    "plt.ylabel('True Positive Rate')\n",
    "plt.xlabel('False Positive Rate')\n",
    "plt.show()"
   ]
  },
  {
   "cell_type": "markdown",
   "id": "1e0f9fce-9ac9-4d0a-934b-21e1dd644be4",
   "metadata": {},
   "source": [
    " "
   ]
  },
  {
   "cell_type": "markdown",
   "id": "15a72a08-cc2c-4bba-be14-a158b3d8e186",
   "metadata": {},
   "source": [
    " "
   ]
  },
  {
   "cell_type": "code",
   "execution_count": null,
   "id": "0475a5b4-0ee1-456d-b0b4-68bf3c39c7ec",
   "metadata": {},
   "outputs": [],
   "source": []
  },
  {
   "cell_type": "code",
   "execution_count": null,
   "id": "1e0c43c2-21f2-4f00-8ab2-9d8929e1bfc2",
   "metadata": {},
   "outputs": [],
   "source": []
  },
  {
   "cell_type": "code",
   "execution_count": null,
   "id": "3906dbf3-6d4d-40da-adf3-a8eac4620536",
   "metadata": {},
   "outputs": [],
   "source": []
  },
  {
   "cell_type": "code",
   "execution_count": null,
   "id": "aecdba6e-b0d5-4e9d-8d0a-2407c7b36489",
   "metadata": {},
   "outputs": [],
   "source": []
  },
  {
   "cell_type": "code",
   "execution_count": null,
   "id": "91a61696-37d8-4200-8ca4-311e49c32341",
   "metadata": {},
   "outputs": [],
   "source": []
  },
  {
   "cell_type": "markdown",
   "id": "f2659301-13e1-4c84-9c1b-defb3709b890",
   "metadata": {},
   "source": [
    " "
   ]
  },
  {
   "cell_type": "code",
   "execution_count": null,
   "id": "5569ba5a-c8c8-453a-adda-1549bb6415d4",
   "metadata": {},
   "outputs": [],
   "source": []
  },
  {
   "cell_type": "code",
   "execution_count": null,
   "id": "ad8a141d",
   "metadata": {},
   "outputs": [],
   "source": []
  },
  {
   "cell_type": "code",
   "execution_count": null,
   "id": "a4448a87-dad8-4207-b698-43508f3e8919",
   "metadata": {},
   "outputs": [],
   "source": [
    " "
   ]
  },
  {
   "cell_type": "code",
   "execution_count": null,
   "id": "7038f609-b637-4352-820b-a39e519055d5",
   "metadata": {},
   "outputs": [],
   "source": [
    " "
   ]
  },
  {
   "cell_type": "markdown",
   "id": "c2e87a95-b9eb-4843-b165-5a13e475cdf8",
   "metadata": {},
   "source": [
    " "
   ]
  },
  {
   "cell_type": "code",
   "execution_count": null,
   "id": "34d14895-09cd-4fcf-aa6a-b0b9940dc4c5",
   "metadata": {},
   "outputs": [],
   "source": []
  },
  {
   "cell_type": "code",
   "execution_count": null,
   "id": "d99fb27a-dcc9-45e8-89a9-b2c66471e078",
   "metadata": {},
   "outputs": [],
   "source": []
  },
  {
   "cell_type": "code",
   "execution_count": null,
   "id": "2a800af2",
   "metadata": {},
   "outputs": [],
   "source": []
  },
  {
   "cell_type": "code",
   "execution_count": null,
   "id": "41182584-419e-44e6-af54-c9319f1ca52b",
   "metadata": {},
   "outputs": [],
   "source": []
  },
  {
   "cell_type": "code",
   "execution_count": null,
   "id": "795d8f35",
   "metadata": {},
   "outputs": [],
   "source": []
  },
  {
   "cell_type": "code",
   "execution_count": null,
   "id": "c5a9c141",
   "metadata": {},
   "outputs": [],
   "source": []
  },
  {
   "cell_type": "code",
   "execution_count": null,
   "id": "c7c5ac95",
   "metadata": {},
   "outputs": [],
   "source": []
  },
  {
   "cell_type": "code",
   "execution_count": null,
   "id": "b85b9e74",
   "metadata": {},
   "outputs": [],
   "source": []
  },
  {
   "cell_type": "code",
   "execution_count": null,
   "id": "40cec77f",
   "metadata": {},
   "outputs": [],
   "source": []
  },
  {
   "cell_type": "code",
   "execution_count": null,
   "id": "1db9d402",
   "metadata": {},
   "outputs": [],
   "source": []
  },
  {
   "cell_type": "code",
   "execution_count": null,
   "id": "06f14144",
   "metadata": {},
   "outputs": [],
   "source": []
  },
  {
   "cell_type": "code",
   "execution_count": null,
   "id": "dae14d4b",
   "metadata": {},
   "outputs": [],
   "source": []
  },
  {
   "cell_type": "code",
   "execution_count": null,
   "id": "c6e3ec8f",
   "metadata": {},
   "outputs": [],
   "source": []
  },
  {
   "cell_type": "code",
   "execution_count": null,
   "id": "324abcb4-3143-496c-9a79-f8601c4a0dcc",
   "metadata": {},
   "outputs": [],
   "source": []
  }
 ],
 "metadata": {
  "kernelspec": {
   "display_name": "Python 3",
   "language": "python",
   "name": "python3"
  },
  "language_info": {
   "codemirror_mode": {
    "name": "ipython",
    "version": 3
   },
   "file_extension": ".py",
   "mimetype": "text/x-python",
   "name": "python",
   "nbconvert_exporter": "python",
   "pygments_lexer": "ipython3",
   "version": "3.7.11"
  }
 },
 "nbformat": 4,
 "nbformat_minor": 5
}
