{
 "cells": [
  {
   "cell_type": "markdown",
   "id": "2b8b3862-743b-43b4-a6df-bcebaea6e7ba",
   "metadata": {},
   "source": [
    "# <center>Classification of birds species based on bones using machine learning approach</center>"
   ]
  },
  {
   "cell_type": "markdown",
   "id": "6bbcd78a-1d6e-4014-a815-1c4f1f720ff4",
   "metadata": {},
   "source": [
    "### &rarr; Data Description\n",
    "#### This Bird's dataset have six classes and have various ecological groupings based on their habitats and dietary preferences. In this project, we will be dealing with 6 ecological bird groups and each bird has been labelled by its ecological group."
   ]
  },
  {
   "cell_type": "markdown",
   "id": "6f299bc4-3f9c-4cbf-8609-c1a940b45a0b",
   "metadata": {},
   "source": [
    "- Swimming Birds (labelled as: SW)\n",
    "- Wading Birds (labelled as: W)\n",
    "- Terrestrial Birds (labelled as: T)\n",
    "- Raptors (labelled as: R)\n",
    "- Scansorial Birds (labelled as: P)\n",
    "- Singing Birds (labelled as: SO)\n"
   ]
  },
  {
   "cell_type": "markdown",
   "id": "7c18d6e3-ab79-4b43-b023-390586313465",
   "metadata": {},
   "source": [
    "#### This dataset have 420 records having different bird species. For the representation of each bird there are 10 measurements which are listed below.\n",
    "\n",
    "- Length and Diameter of Humerus\n",
    "- Length and Diameter of Ulna\n",
    "- Length and Diameter of Femur\n",
    "- Length and Diameter of Tibiotarsus\n",
    "- Length and Diameter of Tarsometatarsus\n",
    "\n",
    "#### The type of all measurements are continuous float values (mm), and empty strings are used to represent any missing values. This dataset contains bones from the Natural History Museum of Los Angeles County. They are members of 153 genera, 21 orders, and 245 species.\n"
   ]
  },
  {
   "cell_type": "markdown",
   "id": "2e91e5d4-d7c4-45ee-b18c-686f92aefd7f",
   "metadata": {},
   "source": [
    "### &rarr; Machine Learning ALgorithms\n",
    "\n",
    "#### In this project, five different algorithms has been implemented for the classification of birds species. \n",
    "\n",
    "- SGD Classifier\n",
    "- Random Forest\n",
    "- Gradient Boosted Classifier\n",
    "- Ada Boosting Classifier\n",
    "- KNN (K-Nearest Neighbour)\n",
    "\n",
    "#### The purpose of using five algorithms is to determine which algorithm yields the best results. To set the best hyperparameters of these algorithms \"GridSearchCV\" has been used."
   ]
  },
  {
   "cell_type": "markdown",
   "id": "483d361e-f6a3-4689-804a-80d1a1400eee",
   "metadata": {},
   "source": [
    "  "
   ]
  },
  {
   "cell_type": "markdown",
   "id": "9f7eb019-27ba-4d6f-bc28-9669fc2886d8",
   "metadata": {},
   "source": [
    "## <ins>Following are the required python libraries or packages for the classification<ins>"
   ]
  },
  {
   "cell_type": "code",
   "execution_count": 1,
   "id": "a5238ca5",
   "metadata": {},
   "outputs": [],
   "source": [
    "################ Exploratory Data Analysis and Pre-processing #################\n",
    "\n",
    "import pandas as pd # For data manipulation and analysis\n",
    "import numpy as np # To perform high level mathematical operations\n",
    "import matplotlib.pyplot as plt # For animated and interactive visualisations\n",
    "import seaborn as sns # For visualisations of data\n",
    "from tabulate import tabulate # To create table\n",
    "import warnings # To ignore unsual warnings from some functions\n",
    "\n",
    "# pandas-profiling primary goal is to provide a one-line Exploratory Data Analysis (EDA) experience\n",
    "# in a consistent and fast solution.\n",
    "from pandas_profiling import ProfileReport\n",
    "\n",
    "from imblearn.over_sampling import RandomOverSampler #To generate new samples in the classes which are under-represented.\n",
    "\n",
    "################ Conversion ################\n",
    "# The sklearn. preprocessing package provides several common utility functions and transformer classes \n",
    "# to change raw feature vectors into a representation that is more suitable for the downstream estimators. \n",
    "from sklearn.preprocessing import LabelEncoder #Encode target labels with value between 0 and n_classes-1\n",
    "from sklearn.preprocessing import StandardScaler\n",
    "from sklearn.preprocessing import LabelBinarizer\n",
    "\n",
    "################ Model Selection and Model Training #################\n",
    "\n",
    "# Model_selection is a method for setting a blueprint to analyze data and then \n",
    "# use it to measure new data\n",
    "from sklearn.model_selection import train_test_split # Split arrays or matrices into random train and test subsets.\n",
    "\n",
    "################ Hyperparameter Tuning ################\n",
    "from sklearn.model_selection import GridSearchCV #To find the optimal parameter values for models\n",
    "\n",
    "################ Algorithms ################\n",
    "from sklearn.ensemble import RandomForestClassifier # An ensemble tree-based learning algorithm\n",
    "from sklearn.tree import DecisionTreeClassifier\n",
    "from sklearn.ensemble import AdaBoostClassifier\n",
    "from sklearn.ensemble import GradientBoostingClassifier\n",
    "from sklearn.neighbors import KNeighborsClassifier\n",
    "from sklearn.linear_model import SGDClassifier\n",
    "\n",
    "\n",
    "################ Metrics and Scoring #################\n",
    "\n",
    "from sklearn.metrics import classification_report # Build a text report showing the main classification metrics\n",
    "from sklearn.metrics import accuracy_score, f1_score # To check accuracy and F1 score of the models\n",
    "from sklearn.metrics import confusion_matrix, precision_score, recall_score\n",
    "from sklearn.metrics import RocCurveDisplay\n",
    "from sklearn.metrics import roc_curve\n",
    "\n",
    "################ Loss Function ####################\n",
    "from sklearn.metrics import log_loss # To calculate loss of each model\n"
   ]
  },
  {
   "cell_type": "markdown",
   "id": "832a4e54-d63a-4ed3-a97c-efee3e93b1b5",
   "metadata": {},
   "source": [
    " "
   ]
  },
  {
   "cell_type": "markdown",
   "id": "b275ee9b-6ebe-4655-9612-1c8a375d7f94",
   "metadata": {},
   "source": [
    "## <ins>Read dataset (in csv format) from the directory</ins>"
   ]
  },
  {
   "cell_type": "code",
   "execution_count": 2,
   "id": "6918406f",
   "metadata": {},
   "outputs": [],
   "source": [
    "birdsDataset = pd.read_csv('./bird.csv') # Load dataset and assign it to the \"birdsDataset\" variable"
   ]
  },
  {
   "cell_type": "markdown",
   "id": "78c4004f-bf64-4134-a2ea-830d030b3c00",
   "metadata": {},
   "source": [
    " "
   ]
  },
  {
   "cell_type": "markdown",
   "id": "9e3de3a2-9587-4f09-a969-946d22e66331",
   "metadata": {},
   "source": [
    "  "
   ]
  },
  {
   "cell_type": "markdown",
   "id": "8ed3aa91-b615-402f-a88c-757937b1b061",
   "metadata": {},
   "source": [
    "## <ins>Exploratory Data Analysis (EDA)</ins>"
   ]
  },
  {
   "cell_type": "markdown",
   "id": "ddd59b14-bc1b-44e6-b295-7b7f162e2502",
   "metadata": {},
   "source": [
    "#### Dataframe info() method gives the precise summary of dataset. "
   ]
  },
  {
   "cell_type": "code",
   "execution_count": 3,
   "id": "bddb0c62-c3a0-4f79-ad5f-428c44775c9e",
   "metadata": {},
   "outputs": [
    {
     "name": "stdout",
     "output_type": "stream",
     "text": [
      "<class 'pandas.core.frame.DataFrame'>\n",
      "RangeIndex: 420 entries, 0 to 419\n",
      "Data columns (total 12 columns):\n",
      " #   Column  Non-Null Count  Dtype  \n",
      "---  ------  --------------  -----  \n",
      " 0   id      420 non-null    int64  \n",
      " 1   huml    419 non-null    float64\n",
      " 2   humw    419 non-null    float64\n",
      " 3   ulnal   417 non-null    float64\n",
      " 4   ulnaw   418 non-null    float64\n",
      " 5   feml    418 non-null    float64\n",
      " 6   femw    419 non-null    float64\n",
      " 7   tibl    418 non-null    float64\n",
      " 8   tibw    419 non-null    float64\n",
      " 9   tarl    419 non-null    float64\n",
      " 10  tarw    419 non-null    float64\n",
      " 11  type    420 non-null    object \n",
      "dtypes: float64(10), int64(1), object(1)\n",
      "memory usage: 39.5+ KB\n"
     ]
    }
   ],
   "source": [
    " birdsDataset.info()"
   ]
  },
  {
   "cell_type": "markdown",
   "id": "62197b12-c313-4c42-a9f7-a9cb9a641123",
   "metadata": {},
   "source": [
    "#### From above we can see, there is a list of columns/features of the dataset, with their number of occurrences and data types. All the variables are numeric other than the \"type\" which is an object, having 6 ecological groups."
   ]
  },
  {
   "cell_type": "markdown",
   "id": "e94db2a8-cb39-42f9-9fd2-de65041cebfd",
   "metadata": {},
   "source": [
    " --------------------------------------------------------------------------------------------------------"
   ]
  },
  {
   "cell_type": "code",
   "execution_count": 4,
   "id": "b2a6c77b-28c3-4fc3-a36c-0cdc33efd699",
   "metadata": {},
   "outputs": [
    {
     "data": {
      "text/html": [
       "<div>\n",
       "<style scoped>\n",
       "    .dataframe tbody tr th:only-of-type {\n",
       "        vertical-align: middle;\n",
       "    }\n",
       "\n",
       "    .dataframe tbody tr th {\n",
       "        vertical-align: top;\n",
       "    }\n",
       "\n",
       "    .dataframe thead th {\n",
       "        text-align: right;\n",
       "    }\n",
       "</style>\n",
       "<table border=\"1\" class=\"dataframe\">\n",
       "  <thead>\n",
       "    <tr style=\"text-align: right;\">\n",
       "      <th></th>\n",
       "      <th>count</th>\n",
       "      <th>mean</th>\n",
       "      <th>std</th>\n",
       "      <th>min</th>\n",
       "      <th>25%</th>\n",
       "      <th>50%</th>\n",
       "      <th>75%</th>\n",
       "      <th>max</th>\n",
       "    </tr>\n",
       "  </thead>\n",
       "  <tbody>\n",
       "    <tr>\n",
       "      <th>id</th>\n",
       "      <td>420.0</td>\n",
       "      <td>209.500000</td>\n",
       "      <td>121.387808</td>\n",
       "      <td>0.00</td>\n",
       "      <td>104.7500</td>\n",
       "      <td>209.500</td>\n",
       "      <td>314.250</td>\n",
       "      <td>419.00</td>\n",
       "    </tr>\n",
       "    <tr>\n",
       "      <th>huml</th>\n",
       "      <td>419.0</td>\n",
       "      <td>64.650501</td>\n",
       "      <td>53.834549</td>\n",
       "      <td>9.85</td>\n",
       "      <td>25.1700</td>\n",
       "      <td>44.180</td>\n",
       "      <td>90.310</td>\n",
       "      <td>420.00</td>\n",
       "    </tr>\n",
       "    <tr>\n",
       "      <th>humw</th>\n",
       "      <td>419.0</td>\n",
       "      <td>4.370573</td>\n",
       "      <td>2.854617</td>\n",
       "      <td>1.14</td>\n",
       "      <td>2.1900</td>\n",
       "      <td>3.500</td>\n",
       "      <td>5.810</td>\n",
       "      <td>17.84</td>\n",
       "    </tr>\n",
       "    <tr>\n",
       "      <th>ulnal</th>\n",
       "      <td>417.0</td>\n",
       "      <td>69.115372</td>\n",
       "      <td>58.784775</td>\n",
       "      <td>14.09</td>\n",
       "      <td>28.0500</td>\n",
       "      <td>43.710</td>\n",
       "      <td>97.520</td>\n",
       "      <td>422.00</td>\n",
       "    </tr>\n",
       "    <tr>\n",
       "      <th>ulnaw</th>\n",
       "      <td>418.0</td>\n",
       "      <td>3.597249</td>\n",
       "      <td>2.186747</td>\n",
       "      <td>1.00</td>\n",
       "      <td>1.8700</td>\n",
       "      <td>2.945</td>\n",
       "      <td>4.770</td>\n",
       "      <td>12.00</td>\n",
       "    </tr>\n",
       "    <tr>\n",
       "      <th>feml</th>\n",
       "      <td>418.0</td>\n",
       "      <td>36.872416</td>\n",
       "      <td>19.979082</td>\n",
       "      <td>11.83</td>\n",
       "      <td>21.2975</td>\n",
       "      <td>31.130</td>\n",
       "      <td>47.120</td>\n",
       "      <td>117.07</td>\n",
       "    </tr>\n",
       "    <tr>\n",
       "      <th>femw</th>\n",
       "      <td>419.0</td>\n",
       "      <td>3.220883</td>\n",
       "      <td>2.023581</td>\n",
       "      <td>0.93</td>\n",
       "      <td>1.7150</td>\n",
       "      <td>2.520</td>\n",
       "      <td>4.135</td>\n",
       "      <td>11.64</td>\n",
       "    </tr>\n",
       "    <tr>\n",
       "      <th>tibl</th>\n",
       "      <td>418.0</td>\n",
       "      <td>64.662823</td>\n",
       "      <td>37.838145</td>\n",
       "      <td>5.50</td>\n",
       "      <td>36.4175</td>\n",
       "      <td>52.120</td>\n",
       "      <td>82.870</td>\n",
       "      <td>240.00</td>\n",
       "    </tr>\n",
       "    <tr>\n",
       "      <th>tibw</th>\n",
       "      <td>419.0</td>\n",
       "      <td>3.182339</td>\n",
       "      <td>2.080827</td>\n",
       "      <td>0.87</td>\n",
       "      <td>1.5650</td>\n",
       "      <td>2.490</td>\n",
       "      <td>4.255</td>\n",
       "      <td>11.03</td>\n",
       "    </tr>\n",
       "    <tr>\n",
       "      <th>tarl</th>\n",
       "      <td>419.0</td>\n",
       "      <td>39.229976</td>\n",
       "      <td>23.184313</td>\n",
       "      <td>7.77</td>\n",
       "      <td>23.0350</td>\n",
       "      <td>31.740</td>\n",
       "      <td>50.250</td>\n",
       "      <td>175.00</td>\n",
       "    </tr>\n",
       "    <tr>\n",
       "      <th>tarw</th>\n",
       "      <td>419.0</td>\n",
       "      <td>2.930024</td>\n",
       "      <td>2.185673</td>\n",
       "      <td>0.66</td>\n",
       "      <td>1.4250</td>\n",
       "      <td>2.230</td>\n",
       "      <td>3.500</td>\n",
       "      <td>14.09</td>\n",
       "    </tr>\n",
       "  </tbody>\n",
       "</table>\n",
       "</div>"
      ],
      "text/plain": [
       "       count        mean         std    min       25%      50%      75%  \\\n",
       "id     420.0  209.500000  121.387808   0.00  104.7500  209.500  314.250   \n",
       "huml   419.0   64.650501   53.834549   9.85   25.1700   44.180   90.310   \n",
       "humw   419.0    4.370573    2.854617   1.14    2.1900    3.500    5.810   \n",
       "ulnal  417.0   69.115372   58.784775  14.09   28.0500   43.710   97.520   \n",
       "ulnaw  418.0    3.597249    2.186747   1.00    1.8700    2.945    4.770   \n",
       "feml   418.0   36.872416   19.979082  11.83   21.2975   31.130   47.120   \n",
       "femw   419.0    3.220883    2.023581   0.93    1.7150    2.520    4.135   \n",
       "tibl   418.0   64.662823   37.838145   5.50   36.4175   52.120   82.870   \n",
       "tibw   419.0    3.182339    2.080827   0.87    1.5650    2.490    4.255   \n",
       "tarl   419.0   39.229976   23.184313   7.77   23.0350   31.740   50.250   \n",
       "tarw   419.0    2.930024    2.185673   0.66    1.4250    2.230    3.500   \n",
       "\n",
       "          max  \n",
       "id     419.00  \n",
       "huml   420.00  \n",
       "humw    17.84  \n",
       "ulnal  422.00  \n",
       "ulnaw   12.00  \n",
       "feml   117.07  \n",
       "femw    11.64  \n",
       "tibl   240.00  \n",
       "tibw    11.03  \n",
       "tarl   175.00  \n",
       "tarw    14.09  "
      ]
     },
     "execution_count": 4,
     "metadata": {},
     "output_type": "execute_result"
    }
   ],
   "source": [
    "birdsDataset.describe().transpose()"
   ]
  },
  {
   "cell_type": "markdown",
   "id": "0233700f-ea26-4d2d-93f2-2cad4fd3d656",
   "metadata": {},
   "source": [
    "#### The DataFrame's data are described by the describe() method. The currrent dataFrame contains numerical data, so the description contains following information for each column\n",
    "- count\n",
    "- mean\n",
    "- std (standard deviation)\n",
    "- min\n",
    "- max\n",
    "- 25%, 50%, 75% percentile*\n"
   ]
  },
  {
   "cell_type": "markdown",
   "id": "2c6dc86f-7e73-4bdd-9427-89c8ef546e46",
   "metadata": {},
   "source": [
    "--------------------------------------------------------------------------------------------------------"
   ]
  },
  {
   "cell_type": "code",
   "execution_count": 5,
   "id": "6339c8bb-8b67-44f5-83de-3f20562a4cbc",
   "metadata": {},
   "outputs": [
    {
     "data": {
      "text/plain": [
       "(420, 12)"
      ]
     },
     "execution_count": 5,
     "metadata": {},
     "output_type": "execute_result"
    }
   ],
   "source": [
    "birdsDataset.shape"
   ]
  },
  {
   "cell_type": "markdown",
   "id": "1eccff09-d86a-43c9-84ce-5ddb7c7c62e0",
   "metadata": {},
   "source": [
    "#### Shape method gives the total number of rows and columns in the dataset. Here we can see that there are 420 rows and 12 columns"
   ]
  },
  {
   "cell_type": "markdown",
   "id": "023ba2dc-89d8-4613-bf0d-e220609b3add",
   "metadata": {},
   "source": [
    "---------------------------------------------------------------------------------------------------------"
   ]
  },
  {
   "cell_type": "markdown",
   "id": "c05d3327-8e89-4909-b300-8aa5044f305e",
   "metadata": {},
   "source": [
    " #### Dataframe head method is used to check the first five rows of the dataset. We can also pass values inside head function if we want to see more number of records or rows."
   ]
  },
  {
   "cell_type": "code",
   "execution_count": 6,
   "id": "7731e118-e925-48b3-ae54-d5da2c035480",
   "metadata": {},
   "outputs": [
    {
     "data": {
      "text/html": [
       "<div>\n",
       "<style scoped>\n",
       "    .dataframe tbody tr th:only-of-type {\n",
       "        vertical-align: middle;\n",
       "    }\n",
       "\n",
       "    .dataframe tbody tr th {\n",
       "        vertical-align: top;\n",
       "    }\n",
       "\n",
       "    .dataframe thead th {\n",
       "        text-align: right;\n",
       "    }\n",
       "</style>\n",
       "<table border=\"1\" class=\"dataframe\">\n",
       "  <thead>\n",
       "    <tr style=\"text-align: right;\">\n",
       "      <th></th>\n",
       "      <th>id</th>\n",
       "      <th>huml</th>\n",
       "      <th>humw</th>\n",
       "      <th>ulnal</th>\n",
       "      <th>ulnaw</th>\n",
       "      <th>feml</th>\n",
       "      <th>femw</th>\n",
       "      <th>tibl</th>\n",
       "      <th>tibw</th>\n",
       "      <th>tarl</th>\n",
       "      <th>tarw</th>\n",
       "      <th>type</th>\n",
       "    </tr>\n",
       "  </thead>\n",
       "  <tbody>\n",
       "    <tr>\n",
       "      <th>0</th>\n",
       "      <td>0</td>\n",
       "      <td>80.78</td>\n",
       "      <td>6.68</td>\n",
       "      <td>72.01</td>\n",
       "      <td>4.88</td>\n",
       "      <td>41.81</td>\n",
       "      <td>3.70</td>\n",
       "      <td>5.50</td>\n",
       "      <td>4.03</td>\n",
       "      <td>38.70</td>\n",
       "      <td>3.84</td>\n",
       "      <td>SW</td>\n",
       "    </tr>\n",
       "    <tr>\n",
       "      <th>1</th>\n",
       "      <td>1</td>\n",
       "      <td>88.91</td>\n",
       "      <td>6.63</td>\n",
       "      <td>80.53</td>\n",
       "      <td>5.59</td>\n",
       "      <td>47.04</td>\n",
       "      <td>4.30</td>\n",
       "      <td>80.22</td>\n",
       "      <td>4.51</td>\n",
       "      <td>41.50</td>\n",
       "      <td>4.01</td>\n",
       "      <td>SW</td>\n",
       "    </tr>\n",
       "    <tr>\n",
       "      <th>2</th>\n",
       "      <td>2</td>\n",
       "      <td>79.97</td>\n",
       "      <td>6.37</td>\n",
       "      <td>69.26</td>\n",
       "      <td>5.28</td>\n",
       "      <td>43.07</td>\n",
       "      <td>3.90</td>\n",
       "      <td>75.35</td>\n",
       "      <td>4.04</td>\n",
       "      <td>38.31</td>\n",
       "      <td>3.34</td>\n",
       "      <td>SW</td>\n",
       "    </tr>\n",
       "    <tr>\n",
       "      <th>3</th>\n",
       "      <td>3</td>\n",
       "      <td>77.65</td>\n",
       "      <td>5.70</td>\n",
       "      <td>65.76</td>\n",
       "      <td>4.77</td>\n",
       "      <td>40.04</td>\n",
       "      <td>3.52</td>\n",
       "      <td>69.17</td>\n",
       "      <td>3.40</td>\n",
       "      <td>35.78</td>\n",
       "      <td>3.41</td>\n",
       "      <td>SW</td>\n",
       "    </tr>\n",
       "    <tr>\n",
       "      <th>4</th>\n",
       "      <td>4</td>\n",
       "      <td>62.80</td>\n",
       "      <td>4.84</td>\n",
       "      <td>52.09</td>\n",
       "      <td>3.73</td>\n",
       "      <td>33.95</td>\n",
       "      <td>2.72</td>\n",
       "      <td>56.27</td>\n",
       "      <td>2.96</td>\n",
       "      <td>31.88</td>\n",
       "      <td>3.13</td>\n",
       "      <td>SW</td>\n",
       "    </tr>\n",
       "  </tbody>\n",
       "</table>\n",
       "</div>"
      ],
      "text/plain": [
       "   id   huml  humw  ulnal  ulnaw   feml  femw   tibl  tibw   tarl  tarw type\n",
       "0   0  80.78  6.68  72.01   4.88  41.81  3.70   5.50  4.03  38.70  3.84   SW\n",
       "1   1  88.91  6.63  80.53   5.59  47.04  4.30  80.22  4.51  41.50  4.01   SW\n",
       "2   2  79.97  6.37  69.26   5.28  43.07  3.90  75.35  4.04  38.31  3.34   SW\n",
       "3   3  77.65  5.70  65.76   4.77  40.04  3.52  69.17  3.40  35.78  3.41   SW\n",
       "4   4  62.80  4.84  52.09   3.73  33.95  2.72  56.27  2.96  31.88  3.13   SW"
      ]
     },
     "execution_count": 6,
     "metadata": {},
     "output_type": "execute_result"
    }
   ],
   "source": [
    "birdsDataset.head()"
   ]
  },
  {
   "cell_type": "markdown",
   "id": "f001c601-3c50-406f-880c-185bff2fa24c",
   "metadata": {},
   "source": [
    " "
   ]
  },
  {
   "cell_type": "markdown",
   "id": "4e2e0e40-3bf1-46f1-9d99-674a0f76e674",
   "metadata": {},
   "source": [
    " --------------------------------------------------------------------------------------------------------"
   ]
  },
  {
   "cell_type": "markdown",
   "id": "e759ec93-943b-4c98-a74e-36d782895e70",
   "metadata": {},
   "source": [
    "### Check Missing Values in the Dataset "
   ]
  },
  {
   "cell_type": "code",
   "execution_count": 7,
   "id": "1ec90919-f5d6-4817-a0ce-68ef2df908a0",
   "metadata": {},
   "outputs": [
    {
     "data": {
      "image/png": "[encoded data removed]",
      "text/plain": [
       "<Figure size 640x480 with 2 Axes>"
      ]
     },
     "metadata": {},
     "output_type": "display_data"
    }
   ],
   "source": [
    "# heatmap() method of seaborn has been used to visualise missing values\n",
    "sns.heatmap(birdsDataset.isna()); # isna() method to check NaN values in the dataset\n",
    "plt.show()"
   ]
  },
  {
   "cell_type": "markdown",
   "id": "97228f03-af9a-4a2b-a58f-ad39d3d99789",
   "metadata": {},
   "source": [
    "#### Vertical axis shows the specific row where there is a missing value. Horizontal axis shows columns having missing values. From above we can see that there are some rows having more than one missing value and some do not have any missing value."
   ]
  },
  {
   "cell_type": "markdown",
   "id": "75bdd929-4851-476d-a8de-f36dd698b16f",
   "metadata": {},
   "source": [
    "---------------------------------------------------------------------------------------------------------"
   ]
  },
  {
   "cell_type": "markdown",
   "id": "ef7d7f97-c1a9-4f32-8e3d-be5f7276df88",
   "metadata": {},
   "source": [
    "### Class Distribution"
   ]
  },
  {
   "cell_type": "code",
   "execution_count": 8,
   "id": "cc2a2260-c39b-4820-a291-17fc8e474b7b",
   "metadata": {},
   "outputs": [
    {
     "data": {
      "text/plain": [
       "SO    128\n",
       "SW    116\n",
       "W      65\n",
       "R      50\n",
       "P      38\n",
       "T      23\n",
       "Name: type, dtype: int64"
      ]
     },
     "execution_count": 8,
     "metadata": {},
     "output_type": "execute_result"
    }
   ],
   "source": [
    "birdsDataset['type'].value_counts() # Count the values of each class in column 'type'"
   ]
  },
  {
   "cell_type": "markdown",
   "id": "228341df-fc89-49df-9724-59b7f108bc4b",
   "metadata": {},
   "source": [
    "#### Above list shows the class imbalance as each class has different number of records"
   ]
  },
  {
   "cell_type": "markdown",
   "id": "d47596b2-cd12-40b4-9700-14490be3ef09",
   "metadata": {},
   "source": [
    " "
   ]
  },
  {
   "cell_type": "markdown",
   "id": "075e6932-229c-486d-bc81-210427282370",
   "metadata": {},
   "source": [
    "#### Visualising class distribution"
   ]
  },
  {
   "cell_type": "code",
   "execution_count": 9,
   "id": "66af4e34-dabc-484d-bfe2-488629d574c8",
   "metadata": {},
   "outputs": [
    {
     "data": {
      "image/png": "[encoded data removed]",
      "text/plain": [
       "<Figure size 640x480 with 1 Axes>"
      ]
     },
     "metadata": {},
     "output_type": "display_data"
    }
   ],
   "source": [
    "birdsDataset['type'].value_counts().plot(kind='pie',autopct='%1.1f%%'); # Visualisation of class proportion using pie chart\n",
    "plt.title('Class Distribution')\n",
    "plt.show()"
   ]
  },
  {
   "cell_type": "markdown",
   "id": "0860f96a-996c-442c-a7c8-493cada40b41",
   "metadata": {},
   "source": [
    "#### From above pie chart we can see that our class is not equally distributed which shows class imbalance."
   ]
  },
  {
   "cell_type": "markdown",
   "id": "8df9773e-40e5-4dd1-8213-400e7caca29f",
   "metadata": {},
   "source": [
    "---------------------------------------------------------------------------------------------------------"
   ]
  },
  {
   "cell_type": "markdown",
   "id": "b5811946-0c1a-4042-9add-da6f637868f4",
   "metadata": {},
   "source": [
    "### Check outliers in the dataset"
   ]
  },
  {
   "cell_type": "markdown",
   "id": "72db4959-f36d-455e-a79d-e31fbe25a43a",
   "metadata": {},
   "source": [
    " #### A data point that is different from the others is called an outlier."
   ]
  },
  {
   "cell_type": "code",
   "execution_count": 10,
   "id": "edd2f603-2bf8-416b-ab2c-2a1f2e35d437",
   "metadata": {},
   "outputs": [],
   "source": [
    "# Below function 'outlier_boxplot' has been defined to plot all the columns/features in the \n",
    "# boxplot to check the outliers in the dataset\n",
    "\n",
    "def outlier_boxplot(columns):\n",
    "    print(columns) # Print to check number of features coming from declaration of function\n",
    "    plt.figure(figsize=(12,5));\n",
    "    plt.subplot(1,2,1); # create a grid of subplots\n",
    "    sns.boxplot(x='type', y=columns[0], data=birdsDataset);\n",
    "    plt.title(columns[0]); # Title of the plot 1 (Left side)\n",
    "    plt.subplot(1,2,2);\n",
    "    sns.boxplot(x='type', y=columns[1], data=birdsDataset);\n",
    "    plt.title(columns[1]); # Title of the plot 2 (Right side)\n"
   ]
  },
  {
   "cell_type": "code",
   "execution_count": 11,
   "id": "63c16679-e7c1-41a9-9206-f6edf28ae8fc",
   "metadata": {},
   "outputs": [
    {
     "name": "stdout",
     "output_type": "stream",
     "text": [
      "Index(['huml', 'humw'], dtype='object')\n",
      "Index(['ulnal', 'ulnaw'], dtype='object')\n",
      "Index(['feml', 'femw'], dtype='object')\n",
      "Index(['tibl', 'tibw'], dtype='object')\n",
      "Index(['tarl', 'tarw'], dtype='object')\n"
     ]
    },
    {
     "data": {
      "image/png": "[encoded data removed]",
      "text/plain": [
       "<Figure size 1200x500 with 2 Axes>"
      ]
     },
     "metadata": {},
     "output_type": "display_data"
    },
    {
     "data": {
      "image/png": "[encoded data removed]",
      "text/plain": [
       "<Figure size 1200x500 with 2 Axes>"
      ]
     },
     "metadata": {},
     "output_type": "display_data"
    },
    {
     "data": {
      "image/png": "[encoded data removed]",
      "text/plain": [
       "<Figure size 1200x500 with 2 Axes>"
      ]
     },
     "metadata": {},
     "output_type": "display_data"
    },
    {
     "data": {
      "image/png": "[encoded data removed]",
      "text/plain": [
       "<Figure size 1200x500 with 2 Axes>"
      ]
     },
     "metadata": {},
     "output_type": "display_data"
    },
    {
     "data": {
      "image/png": "[encoded data removed]",
      "text/plain": [
       "<Figure size 1200x500 with 2 Axes>"
      ]
     },
     "metadata": {},
     "output_type": "display_data"
    }
   ],
   "source": [
    "outlier_boxplot(birdsDataset.columns[1:3]) # function declaration\n",
    "outlier_boxplot(birdsDataset.columns[3:5])\n",
    "outlier_boxplot(birdsDataset.columns[5:7])\n",
    "outlier_boxplot(birdsDataset.columns[7:9])\n",
    "outlier_boxplot(birdsDataset.columns[9:11])\n",
    "\n",
    "plt.show()"
   ]
  },
  {
   "cell_type": "markdown",
   "id": "6e012ad5-40a1-40b8-9deb-03009ca852aa",
   "metadata": {},
   "source": [
    "  "
   ]
  },
  {
   "cell_type": "markdown",
   "id": "2b289d7c-7c97-446a-8605-d211cce2faa6",
   "metadata": {},
   "source": [
    "#### When analysing a box plot, data points outside the box plot's whiskers is referred to as an outlier. From the above subplots, \"*\" these data points are outliers."
   ]
  },
  {
   "cell_type": "markdown",
   "id": "b2c2ce13-0d0f-461c-8272-aad980da2c27",
   "metadata": {},
   "source": [
    "---------------------------------------------------------------------------------------------------------"
   ]
  },
  {
   "cell_type": "markdown",
   "id": "8e382edd-cd14-4fd3-9885-f621c243deed",
   "metadata": {},
   "source": [
    "### Correlation"
   ]
  },
  {
   "cell_type": "code",
   "execution_count": 12,
   "id": "dc2c759d-cf56-427f-86fd-402b629f62ee",
   "metadata": {},
   "outputs": [
    {
     "data": {
      "image/png": "[encoded data removed]",
      "text/plain": [
       "<Figure size 640x480 with 2 Axes>"
      ]
     },
     "metadata": {},
     "output_type": "display_data"
    }
   ],
   "source": [
    "sns.heatmap(birdsDataset.iloc[:,:-1].corr(), annot=True, fmt='.2f');\n",
    "plt.show()"
   ]
  },
  {
   "cell_type": "markdown",
   "id": "a325ce9e-a107-4476-a263-24634627543f",
   "metadata": {},
   "source": [
    "#### Above heatmap shows the correlation between all the features. We can see that \"id\" column has a negative association with other variables and rest of the correlation ranges from 0.61 - 0.98. "
   ]
  },
  {
   "cell_type": "markdown",
   "id": "8a4b312a-208a-4eb6-8f73-8ccae7c9dce1",
   "metadata": {},
   "source": [
    "#### In data pre-processing, we will remove \"id\" column because it shows negative association and we will also remove those features having high correlaion. If correlation coefficient >= 0.96 between two features we will remove one of it. Otherwise it will be like we are classifying having same features."
   ]
  },
  {
   "cell_type": "markdown",
   "id": "0e42d765-f547-4cd9-be94-6a84ef2a3e87",
   "metadata": {},
   "source": [
    "| Feature 1 | Feature 2 | Correlation Coefficient >= 0.96 |\n",
    "| --- | --- | --- |\n",
    "| ulnal | huml | 0.98 |\n",
    "| ulnaw | humw | 0.96 |\n",
    "| tibw | femw | 0.96 |"
   ]
  },
  {
   "cell_type": "markdown",
   "id": "00b7e6ba-eddd-43b4-b9f7-f92bb81b1730",
   "metadata": {},
   "source": [
    " -------------------------------------------------------------------------------------------------------"
   ]
  },
  {
   "cell_type": "markdown",
   "id": "eef57917-eafb-480c-8822-f55f5952a5f3",
   "metadata": {},
   "source": [
    "## <ins>Data Pre-processing</ins>"
   ]
  },
  {
   "cell_type": "markdown",
   "id": "fe55b724-dcff-43b0-b2e2-e147d5cba0e0",
   "metadata": {},
   "source": [
    " "
   ]
  },
  {
   "cell_type": "markdown",
   "id": "53f4fa50-47e1-4065-8c12-8cd396563756",
   "metadata": {},
   "source": [
    "---------------------------------------------------------------------------------------------------------"
   ]
  },
  {
   "cell_type": "markdown",
   "id": "36d8467c-9154-4cb0-850d-ee5cd47de0e3",
   "metadata": {},
   "source": [
    "### Dealing with missing values"
   ]
  },
  {
   "cell_type": "code",
   "execution_count": 13,
   "id": "d57417b9-f513-4743-b0c7-b8abd7a71597",
   "metadata": {},
   "outputs": [],
   "source": [
    " birdsDataset.fillna(method='bfill', inplace=True)"
   ]
  },
  {
   "cell_type": "markdown",
   "id": "dfb42db6-4a39-4425-a1d0-5878adcc11e2",
   "metadata": {},
   "source": [
    "#### As we have small dataset we are not removing those rows having missing values rather replacing them with the 'bfill' method of fillna function. It fills the missing value with the value below it."
   ]
  },
  {
   "cell_type": "code",
   "execution_count": 14,
   "id": "6fa3dab0-5421-437a-8d3f-f1707306467e",
   "metadata": {},
   "outputs": [
    {
     "data": {
      "text/plain": [
       "id       0\n",
       "huml     0\n",
       "humw     0\n",
       "ulnal    0\n",
       "ulnaw    0\n",
       "feml     0\n",
       "femw     0\n",
       "tibl     0\n",
       "tibw     0\n",
       "tarl     0\n",
       "tarw     0\n",
       "type     0\n",
       "dtype: int64"
      ]
     },
     "execution_count": 14,
     "metadata": {},
     "output_type": "execute_result"
    }
   ],
   "source": [
    "birdsDataset.isnull().sum() # After filling missing values"
   ]
  },
  {
   "cell_type": "markdown",
   "id": "60aad8db-06ae-438a-b290-50fa4a474070",
   "metadata": {},
   "source": [
    " "
   ]
  },
  {
   "cell_type": "markdown",
   "id": "1b14e74a-1715-4090-8fcd-72bb663bce5a",
   "metadata": {},
   "source": [
    "---------------------------------------------------------------------------------------------------------"
   ]
  },
  {
   "cell_type": "markdown",
   "id": "d07cb1dd-a337-4fa9-bc73-fcc7a615a3b2",
   "metadata": {},
   "source": [
    "### Drop features having high correlation"
   ]
  },
  {
   "cell_type": "markdown",
   "id": "dc07825c-01ff-4816-b5c9-6e576e9c8914",
   "metadata": {},
   "source": [
    "#### High correlation features are more linearly dependant and hence have approximately the same impact on the dependent variable so we are dropping one of the feature among two."
   ]
  },
  {
   "cell_type": "markdown",
   "id": "de866be8-6a11-4da9-962a-eb341416aa62",
   "metadata": {},
   "source": [
    "| Feature 1 | Feature 2 | Correlation Coefficient >= 0.96 |\n",
    "| --- | --- | --- |\n",
    "| ulnal | huml | 0.98 |\n",
    "| ulnaw | humw | 0.96 |\n",
    "| tibw | femw | 0.96 |"
   ]
  },
  {
   "cell_type": "markdown",
   "id": "b8b1bf51-16f7-4f3e-bf5b-80b469e3120c",
   "metadata": {},
   "source": [
    " "
   ]
  },
  {
   "cell_type": "code",
   "execution_count": 15,
   "id": "93488d09-28e3-44c7-b2d0-4d11f2367558",
   "metadata": {},
   "outputs": [],
   "source": [
    "birdsDataset= birdsDataset.drop(columns=['id','ulnal','humw','femw']).dropna(how='any')"
   ]
  },
  {
   "cell_type": "markdown",
   "id": "f13392bb-7af7-4d72-a4ec-d893228a5067",
   "metadata": {},
   "source": [
    "---------------------------------------------------------------------------------------------------------"
   ]
  },
  {
   "cell_type": "markdown",
   "id": "55bbe5c9",
   "metadata": {},
   "source": [
    "### Removing Outliers"
   ]
  },
  {
   "cell_type": "markdown",
   "id": "d4411776-4904-44d1-8146-219ab00b2083",
   "metadata": {},
   "source": [
    "#### Here we are using quantile function to remove the outliers as it determines how many values in a distribution fall inside or exceed a specific threshold."
   ]
  },
  {
   "cell_type": "markdown",
   "id": "6282a878-e877-4064-a9d3-0985bda53ca7",
   "metadata": {},
   "source": [
    " "
   ]
  },
  {
   "cell_type": "code",
   "execution_count": 16,
   "id": "f7b27238",
   "metadata": {},
   "outputs": [],
   "source": [
    "def remove_outlier(df_in, col_name):\n",
    "    q1 = df_in[col_name].quantile(0.25)\n",
    "    q3 = df_in[col_name].quantile(0.75)\n",
    "    iqr = q3-q1 #Interquantile range\n",
    "    fence_low  = q1-1.5*iqr\n",
    "    fence_high = q3+1.5*iqr\n",
    "    df_out = df_in.loc[(df_in[col_name] > fence_low) & (df_in[col_name] < fence_high)]\n",
    "    return df_out"
   ]
  },
  {
   "cell_type": "code",
   "execution_count": 17,
   "id": "19c1d599-b863-4575-b372-bdae7058cae2",
   "metadata": {},
   "outputs": [
    {
     "data": {
      "text/html": [
       "<div>\n",
       "<style scoped>\n",
       "    .dataframe tbody tr th:only-of-type {\n",
       "        vertical-align: middle;\n",
       "    }\n",
       "\n",
       "    .dataframe tbody tr th {\n",
       "        vertical-align: top;\n",
       "    }\n",
       "\n",
       "    .dataframe thead th {\n",
       "        text-align: right;\n",
       "    }\n",
       "</style>\n",
       "<table border=\"1\" class=\"dataframe\">\n",
       "  <thead>\n",
       "    <tr style=\"text-align: right;\">\n",
       "      <th></th>\n",
       "      <th>huml</th>\n",
       "      <th>ulnaw</th>\n",
       "      <th>feml</th>\n",
       "      <th>tibl</th>\n",
       "      <th>tibw</th>\n",
       "      <th>tarl</th>\n",
       "      <th>tarw</th>\n",
       "      <th>type</th>\n",
       "    </tr>\n",
       "  </thead>\n",
       "  <tbody>\n",
       "    <tr>\n",
       "      <th>0</th>\n",
       "      <td>80.78</td>\n",
       "      <td>4.88</td>\n",
       "      <td>41.81</td>\n",
       "      <td>5.50</td>\n",
       "      <td>4.03</td>\n",
       "      <td>38.70</td>\n",
       "      <td>3.84</td>\n",
       "      <td>SW</td>\n",
       "    </tr>\n",
       "    <tr>\n",
       "      <th>1</th>\n",
       "      <td>88.91</td>\n",
       "      <td>5.59</td>\n",
       "      <td>47.04</td>\n",
       "      <td>80.22</td>\n",
       "      <td>4.51</td>\n",
       "      <td>41.50</td>\n",
       "      <td>4.01</td>\n",
       "      <td>SW</td>\n",
       "    </tr>\n",
       "    <tr>\n",
       "      <th>2</th>\n",
       "      <td>79.97</td>\n",
       "      <td>5.28</td>\n",
       "      <td>43.07</td>\n",
       "      <td>75.35</td>\n",
       "      <td>4.04</td>\n",
       "      <td>38.31</td>\n",
       "      <td>3.34</td>\n",
       "      <td>SW</td>\n",
       "    </tr>\n",
       "    <tr>\n",
       "      <th>3</th>\n",
       "      <td>77.65</td>\n",
       "      <td>4.77</td>\n",
       "      <td>40.04</td>\n",
       "      <td>69.17</td>\n",
       "      <td>3.40</td>\n",
       "      <td>35.78</td>\n",
       "      <td>3.41</td>\n",
       "      <td>SW</td>\n",
       "    </tr>\n",
       "    <tr>\n",
       "      <th>4</th>\n",
       "      <td>62.80</td>\n",
       "      <td>3.73</td>\n",
       "      <td>33.95</td>\n",
       "      <td>56.27</td>\n",
       "      <td>2.96</td>\n",
       "      <td>31.88</td>\n",
       "      <td>3.13</td>\n",
       "      <td>SW</td>\n",
       "    </tr>\n",
       "    <tr>\n",
       "      <th>...</th>\n",
       "      <td>...</td>\n",
       "      <td>...</td>\n",
       "      <td>...</td>\n",
       "      <td>...</td>\n",
       "      <td>...</td>\n",
       "      <td>...</td>\n",
       "      <td>...</td>\n",
       "      <td>...</td>\n",
       "    </tr>\n",
       "    <tr>\n",
       "      <th>415</th>\n",
       "      <td>17.96</td>\n",
       "      <td>1.33</td>\n",
       "      <td>18.36</td>\n",
       "      <td>31.25</td>\n",
       "      <td>1.33</td>\n",
       "      <td>21.99</td>\n",
       "      <td>1.15</td>\n",
       "      <td>SO</td>\n",
       "    </tr>\n",
       "    <tr>\n",
       "      <th>416</th>\n",
       "      <td>19.21</td>\n",
       "      <td>1.49</td>\n",
       "      <td>19.24</td>\n",
       "      <td>33.21</td>\n",
       "      <td>1.28</td>\n",
       "      <td>23.60</td>\n",
       "      <td>1.15</td>\n",
       "      <td>SO</td>\n",
       "    </tr>\n",
       "    <tr>\n",
       "      <th>417</th>\n",
       "      <td>18.79</td>\n",
       "      <td>1.53</td>\n",
       "      <td>20.96</td>\n",
       "      <td>34.45</td>\n",
       "      <td>1.41</td>\n",
       "      <td>22.86</td>\n",
       "      <td>1.21</td>\n",
       "      <td>SO</td>\n",
       "    </tr>\n",
       "    <tr>\n",
       "      <th>418</th>\n",
       "      <td>20.38</td>\n",
       "      <td>1.50</td>\n",
       "      <td>21.35</td>\n",
       "      <td>36.09</td>\n",
       "      <td>1.53</td>\n",
       "      <td>25.98</td>\n",
       "      <td>1.24</td>\n",
       "      <td>SO</td>\n",
       "    </tr>\n",
       "    <tr>\n",
       "      <th>419</th>\n",
       "      <td>17.89</td>\n",
       "      <td>1.10</td>\n",
       "      <td>17.62</td>\n",
       "      <td>29.81</td>\n",
       "      <td>1.24</td>\n",
       "      <td>21.69</td>\n",
       "      <td>1.05</td>\n",
       "      <td>SO</td>\n",
       "    </tr>\n",
       "  </tbody>\n",
       "</table>\n",
       "<p>329 rows × 8 columns</p>\n",
       "</div>"
      ],
      "text/plain": [
       "      huml  ulnaw   feml   tibl  tibw   tarl  tarw type\n",
       "0    80.78   4.88  41.81   5.50  4.03  38.70  3.84   SW\n",
       "1    88.91   5.59  47.04  80.22  4.51  41.50  4.01   SW\n",
       "2    79.97   5.28  43.07  75.35  4.04  38.31  3.34   SW\n",
       "3    77.65   4.77  40.04  69.17  3.40  35.78  3.41   SW\n",
       "4    62.80   3.73  33.95  56.27  2.96  31.88  3.13   SW\n",
       "..     ...    ...    ...    ...   ...    ...   ...  ...\n",
       "415  17.96   1.33  18.36  31.25  1.33  21.99  1.15   SO\n",
       "416  19.21   1.49  19.24  33.21  1.28  23.60  1.15   SO\n",
       "417  18.79   1.53  20.96  34.45  1.41  22.86  1.21   SO\n",
       "418  20.38   1.50  21.35  36.09  1.53  25.98  1.24   SO\n",
       "419  17.89   1.10  17.62  29.81  1.24  21.69  1.05   SO\n",
       "\n",
       "[329 rows x 8 columns]"
      ]
     },
     "execution_count": 17,
     "metadata": {},
     "output_type": "execute_result"
    }
   ],
   "source": [
    "columns = ['huml', 'ulnaw', 'feml', 'tibl','tibw','tarl','tarw']\n",
    "for column in columns:\n",
    "    birdsDataset = remove_outlier(birdsDataset, column)\n",
    "birdsDataset"
   ]
  },
  {
   "cell_type": "markdown",
   "id": "b2446817-c15f-44cf-9cbe-9319ce30ab60",
   "metadata": {},
   "source": [
    "--------------------------------------------------------------------------------------------------------"
   ]
  },
  {
   "cell_type": "markdown",
   "id": "941c8e7e-1f9d-4941-96e5-97284f2945ef",
   "metadata": {},
   "source": [
    "## <ins>Splitting the dataset for training</ins>"
   ]
  },
  {
   "cell_type": "code",
   "execution_count": 18,
   "id": "62b8a7b0-d690-4c33-b3ac-e6c21a241058",
   "metadata": {},
   "outputs": [
    {
     "data": {
      "text/plain": [
       "(329, 8)"
      ]
     },
     "execution_count": 18,
     "metadata": {},
     "output_type": "execute_result"
    }
   ],
   "source": [
    "birdsDataset.shape # check the shape of the data before splitting into train and test sets"
   ]
  },
  {
   "cell_type": "markdown",
   "id": "15ef9bf8-3598-4faa-b1db-d341dae3010e",
   "metadata": {},
   "source": [
    "---------------------------------------------------------------------------------------------------------"
   ]
  },
  {
   "cell_type": "markdown",
   "id": "03a55069-2140-41f7-8578-f741b4774918",
   "metadata": {},
   "source": [
    "### Separate independent variables from the dataset"
   ]
  },
  {
   "cell_type": "code",
   "execution_count": 19,
   "id": "4ae42176-7c95-429b-9044-85bb721a90dc",
   "metadata": {},
   "outputs": [],
   "source": [
    "X = birdsDataset.drop(['type'], axis=1) # Drop the dependent or target variable"
   ]
  },
  {
   "cell_type": "markdown",
   "id": "57ba2e40-bb92-44cb-99e4-83d16c4da2fe",
   "metadata": {},
   "source": [
    "#### Above command drops the type column from the dataset and save remaning columns to 'X' variable. Because type column is our dependent variable and the rest are independent variables."
   ]
  },
  {
   "cell_type": "code",
   "execution_count": 20,
   "id": "7715fdfe-59a5-4bf7-a9cb-05733b2f407b",
   "metadata": {},
   "outputs": [
    {
     "data": {
      "text/html": [
       "<div>\n",
       "<style scoped>\n",
       "    .dataframe tbody tr th:only-of-type {\n",
       "        vertical-align: middle;\n",
       "    }\n",
       "\n",
       "    .dataframe tbody tr th {\n",
       "        vertical-align: top;\n",
       "    }\n",
       "\n",
       "    .dataframe thead th {\n",
       "        text-align: right;\n",
       "    }\n",
       "</style>\n",
       "<table border=\"1\" class=\"dataframe\">\n",
       "  <thead>\n",
       "    <tr style=\"text-align: right;\">\n",
       "      <th></th>\n",
       "      <th>huml</th>\n",
       "      <th>ulnaw</th>\n",
       "      <th>feml</th>\n",
       "      <th>tibl</th>\n",
       "      <th>tibw</th>\n",
       "      <th>tarl</th>\n",
       "      <th>tarw</th>\n",
       "    </tr>\n",
       "  </thead>\n",
       "  <tbody>\n",
       "    <tr>\n",
       "      <th>0</th>\n",
       "      <td>80.78</td>\n",
       "      <td>4.88</td>\n",
       "      <td>41.81</td>\n",
       "      <td>5.50</td>\n",
       "      <td>4.03</td>\n",
       "      <td>38.70</td>\n",
       "      <td>3.84</td>\n",
       "    </tr>\n",
       "    <tr>\n",
       "      <th>1</th>\n",
       "      <td>88.91</td>\n",
       "      <td>5.59</td>\n",
       "      <td>47.04</td>\n",
       "      <td>80.22</td>\n",
       "      <td>4.51</td>\n",
       "      <td>41.50</td>\n",
       "      <td>4.01</td>\n",
       "    </tr>\n",
       "    <tr>\n",
       "      <th>2</th>\n",
       "      <td>79.97</td>\n",
       "      <td>5.28</td>\n",
       "      <td>43.07</td>\n",
       "      <td>75.35</td>\n",
       "      <td>4.04</td>\n",
       "      <td>38.31</td>\n",
       "      <td>3.34</td>\n",
       "    </tr>\n",
       "    <tr>\n",
       "      <th>3</th>\n",
       "      <td>77.65</td>\n",
       "      <td>4.77</td>\n",
       "      <td>40.04</td>\n",
       "      <td>69.17</td>\n",
       "      <td>3.40</td>\n",
       "      <td>35.78</td>\n",
       "      <td>3.41</td>\n",
       "    </tr>\n",
       "    <tr>\n",
       "      <th>4</th>\n",
       "      <td>62.80</td>\n",
       "      <td>3.73</td>\n",
       "      <td>33.95</td>\n",
       "      <td>56.27</td>\n",
       "      <td>2.96</td>\n",
       "      <td>31.88</td>\n",
       "      <td>3.13</td>\n",
       "    </tr>\n",
       "    <tr>\n",
       "      <th>...</th>\n",
       "      <td>...</td>\n",
       "      <td>...</td>\n",
       "      <td>...</td>\n",
       "      <td>...</td>\n",
       "      <td>...</td>\n",
       "      <td>...</td>\n",
       "      <td>...</td>\n",
       "    </tr>\n",
       "    <tr>\n",
       "      <th>415</th>\n",
       "      <td>17.96</td>\n",
       "      <td>1.33</td>\n",
       "      <td>18.36</td>\n",
       "      <td>31.25</td>\n",
       "      <td>1.33</td>\n",
       "      <td>21.99</td>\n",
       "      <td>1.15</td>\n",
       "    </tr>\n",
       "    <tr>\n",
       "      <th>416</th>\n",
       "      <td>19.21</td>\n",
       "      <td>1.49</td>\n",
       "      <td>19.24</td>\n",
       "      <td>33.21</td>\n",
       "      <td>1.28</td>\n",
       "      <td>23.60</td>\n",
       "      <td>1.15</td>\n",
       "    </tr>\n",
       "    <tr>\n",
       "      <th>417</th>\n",
       "      <td>18.79</td>\n",
       "      <td>1.53</td>\n",
       "      <td>20.96</td>\n",
       "      <td>34.45</td>\n",
       "      <td>1.41</td>\n",
       "      <td>22.86</td>\n",
       "      <td>1.21</td>\n",
       "    </tr>\n",
       "    <tr>\n",
       "      <th>418</th>\n",
       "      <td>20.38</td>\n",
       "      <td>1.50</td>\n",
       "      <td>21.35</td>\n",
       "      <td>36.09</td>\n",
       "      <td>1.53</td>\n",
       "      <td>25.98</td>\n",
       "      <td>1.24</td>\n",
       "    </tr>\n",
       "    <tr>\n",
       "      <th>419</th>\n",
       "      <td>17.89</td>\n",
       "      <td>1.10</td>\n",
       "      <td>17.62</td>\n",
       "      <td>29.81</td>\n",
       "      <td>1.24</td>\n",
       "      <td>21.69</td>\n",
       "      <td>1.05</td>\n",
       "    </tr>\n",
       "  </tbody>\n",
       "</table>\n",
       "<p>329 rows × 7 columns</p>\n",
       "</div>"
      ],
      "text/plain": [
       "      huml  ulnaw   feml   tibl  tibw   tarl  tarw\n",
       "0    80.78   4.88  41.81   5.50  4.03  38.70  3.84\n",
       "1    88.91   5.59  47.04  80.22  4.51  41.50  4.01\n",
       "2    79.97   5.28  43.07  75.35  4.04  38.31  3.34\n",
       "3    77.65   4.77  40.04  69.17  3.40  35.78  3.41\n",
       "4    62.80   3.73  33.95  56.27  2.96  31.88  3.13\n",
       "..     ...    ...    ...    ...   ...    ...   ...\n",
       "415  17.96   1.33  18.36  31.25  1.33  21.99  1.15\n",
       "416  19.21   1.49  19.24  33.21  1.28  23.60  1.15\n",
       "417  18.79   1.53  20.96  34.45  1.41  22.86  1.21\n",
       "418  20.38   1.50  21.35  36.09  1.53  25.98  1.24\n",
       "419  17.89   1.10  17.62  29.81  1.24  21.69  1.05\n",
       "\n",
       "[329 rows x 7 columns]"
      ]
     },
     "execution_count": 20,
     "metadata": {},
     "output_type": "execute_result"
    }
   ],
   "source": [
    "X # check dataset without type column"
   ]
  },
  {
   "cell_type": "markdown",
   "id": "e0d40ad1-f212-4220-b1e2-809bb87dc6c0",
   "metadata": {},
   "source": [
    "--------------------------------------------------------------------------------------------------------"
   ]
  },
  {
   "cell_type": "markdown",
   "id": "07c953b2-efb6-4334-a227-3b48a015318e",
   "metadata": {},
   "source": [
    "### Transform non-numerical dependent variable 'type' to numerical values"
   ]
  },
  {
   "cell_type": "code",
   "execution_count": 21,
   "id": "5c1e889f-68ed-407c-9128-d48ed1d66ad0",
   "metadata": {},
   "outputs": [],
   "source": [
    "enc=LabelEncoder() # To transform non-numerical to numerical labels\n",
    "y=enc.fit_transform(birdsDataset['type'])"
   ]
  },
  {
   "cell_type": "markdown",
   "id": "9c99ad59-612a-4f0a-aba1-d49d9404fdf5",
   "metadata": {},
   "source": [
    "#### LabelEncoder() has been used to transform non-numerical labels to numerical labels."
   ]
  },
  {
   "cell_type": "code",
   "execution_count": 22,
   "id": "8f0078e5-c4c6-47fb-80ce-752258088830",
   "metadata": {},
   "outputs": [
    {
     "data": {
      "text/plain": [
       "array([3, 3, 3, 3, 3, 3, 3, 3, 3, 3, 3, 3, 3, 3, 3, 3, 3, 3, 3, 3, 3, 3,\n",
       "       3, 3, 3, 3, 3, 3, 3, 3, 3, 3, 3, 3, 3, 3, 3, 3, 3, 3, 3, 3, 3, 3,\n",
       "       3, 3, 3, 3, 3, 3, 3, 3, 3, 3, 3, 3, 3, 3, 3, 3, 3, 3, 3, 3, 3, 3,\n",
       "       3, 3, 3, 3, 3, 5, 5, 5, 5, 5, 5, 5, 5, 5, 5, 5, 5, 5, 5, 5, 5, 5,\n",
       "       5, 5, 5, 5, 5, 5, 5, 5, 5, 5, 5, 5, 5, 5, 5, 5, 5, 5, 5, 5, 5, 5,\n",
       "       5, 5, 5, 5, 5, 5, 5, 5, 5, 5, 5, 5, 5, 5, 4, 4, 4, 4, 4, 4, 4, 4,\n",
       "       4, 4, 4, 4, 4, 4, 4, 4, 4, 4, 4, 4, 1, 1, 1, 1, 1, 1, 1, 1, 1, 1,\n",
       "       1, 1, 1, 1, 1, 1, 1, 1, 1, 0, 0, 0, 0, 0, 0, 0, 0, 0, 0, 0, 0, 0,\n",
       "       0, 0, 0, 0, 0, 0, 0, 0, 0, 0, 0, 0, 0, 0, 0, 0, 0, 0, 0, 0, 0, 0,\n",
       "       0, 0, 0, 2, 2, 2, 2, 2, 2, 2, 2, 2, 2, 2, 2, 2, 2, 2, 2, 2, 2, 2,\n",
       "       2, 2, 2, 2, 2, 2, 2, 2, 2, 2, 2, 2, 2, 2, 2, 2, 2, 2, 2, 2, 2, 2,\n",
       "       2, 2, 2, 2, 2, 2, 2, 2, 2, 2, 2, 2, 2, 2, 2, 2, 2, 2, 2, 2, 2, 2,\n",
       "       2, 2, 2, 2, 2, 2, 2, 2, 2, 2, 2, 2, 2, 2, 2, 2, 2, 2, 2, 2, 2, 2,\n",
       "       2, 2, 2, 2, 2, 2, 2, 2, 2, 2, 2, 2, 2, 2, 2, 2, 2, 2, 2, 2, 2, 2,\n",
       "       2, 2, 2, 2, 2, 2, 2, 2, 2, 2, 2, 2, 2, 2, 2, 2, 2, 2, 2, 2, 2])"
      ]
     },
     "execution_count": 22,
     "metadata": {},
     "output_type": "execute_result"
    }
   ],
   "source": [
    "y # check dependent variable after transformation"
   ]
  },
  {
   "cell_type": "markdown",
   "id": "dcf3e114-3ab6-4e21-95f9-be8d0b6dcbfc",
   "metadata": {},
   "source": [
    "--------------------------------------------------------------------------------------------------------"
   ]
  },
  {
   "cell_type": "markdown",
   "id": "1e6bd378-8193-40b2-a245-9086f0907f9d",
   "metadata": {},
   "source": [
    " "
   ]
  },
  {
   "cell_type": "markdown",
   "id": "aaf3274b-685a-47ca-ba5d-70343f23a411",
   "metadata": {},
   "source": [
    "### Normalise Dataset using Standard scaler method of scikit learn preprocessing \n"
   ]
  },
  {
   "cell_type": "markdown",
   "id": "3be9c24f-1f48-43a0-aa8c-96b9841ce851",
   "metadata": {},
   "source": [
    "#### StandardScaler removes the mean and scales each feature/variable to unit variance"
   ]
  },
  {
   "cell_type": "code",
   "execution_count": 23,
   "id": "336719ef-0a3a-4128-b6e3-cd817cce0d6a",
   "metadata": {},
   "outputs": [
    {
     "data": {
      "text/plain": [
       "(329, 7)"
      ]
     },
     "execution_count": 23,
     "metadata": {},
     "output_type": "execute_result"
    }
   ],
   "source": [
    "scaler=StandardScaler()\n",
    "X = scaler.fit_transform(X)\n",
    "X.shape"
   ]
  },
  {
   "cell_type": "markdown",
   "id": "f954b3be-261d-4a9a-9166-46dfda0bbfaf",
   "metadata": {},
   "source": [
    "---------------------------------------------------------------------------------------------------------"
   ]
  },
  {
   "cell_type": "markdown",
   "id": "a2065a1a-1f5a-48f5-bcc2-3cc11da95e1f",
   "metadata": {},
   "source": [
    "### Splitting of dataset into train and test sets"
   ]
  },
  {
   "cell_type": "markdown",
   "id": "c090caa2-37ea-457e-a535-666903115328",
   "metadata": {},
   "source": [
    "#### We are splitting the data into 80/20 rule, 80% for training and 20% for test. We are applying this rule as in most cases, 80% of effects come from 20% of causes. Below parameter test_size=0.2 shows 20% data for test set. The hyperparameter random_state = 42 has been used as it can reduce the error and enhance model performance."
   ]
  },
  {
   "cell_type": "code",
   "execution_count": 24,
   "id": "9a1b0b14-6938-4d77-86e8-23ba413f9485",
   "metadata": {},
   "outputs": [],
   "source": [
    "X_train, X_test, y_train, y_test = train_test_split(X,y,test_size= 0.2, random_state = 42)"
   ]
  },
  {
   "cell_type": "code",
   "execution_count": 25,
   "id": "ecdb2d41-ae03-46a7-b0ae-0d0da6eac035",
   "metadata": {},
   "outputs": [
    {
     "data": {
      "text/plain": [
       "(263, 7)"
      ]
     },
     "execution_count": 25,
     "metadata": {},
     "output_type": "execute_result"
    }
   ],
   "source": [
    "X_train.shape #Check training independent variables"
   ]
  },
  {
   "cell_type": "code",
   "execution_count": 26,
   "id": "1926dd63-5e37-41f8-a324-9d6e2c6a090b",
   "metadata": {},
   "outputs": [
    {
     "data": {
      "text/plain": [
       "(66, 7)"
      ]
     },
     "execution_count": 26,
     "metadata": {},
     "output_type": "execute_result"
    }
   ],
   "source": [
    "X_test.shape #Check test independent variables"
   ]
  },
  {
   "cell_type": "code",
   "execution_count": 27,
   "id": "e5da4e58-d296-4128-85f3-27f72e37a68d",
   "metadata": {},
   "outputs": [
    {
     "data": {
      "text/plain": [
       "(263,)"
      ]
     },
     "execution_count": 27,
     "metadata": {},
     "output_type": "execute_result"
    }
   ],
   "source": [
    "y_train.shape #Check training dependent variable"
   ]
  },
  {
   "cell_type": "code",
   "execution_count": 28,
   "id": "69e5852c-3cbf-40a5-826e-4653e505e030",
   "metadata": {},
   "outputs": [
    {
     "data": {
      "text/plain": [
       "(66,)"
      ]
     },
     "execution_count": 28,
     "metadata": {},
     "output_type": "execute_result"
    }
   ],
   "source": [
    "y_test.shape #Check test dependent variable"
   ]
  },
  {
   "cell_type": "markdown",
   "id": "452b26f7-7f10-4886-b0f9-72439a929ed0",
   "metadata": {},
   "source": [
    "---------------------------------------------------------------------------------------------------------"
   ]
  },
  {
   "cell_type": "markdown",
   "id": "9189ee80-b493-49e2-9c89-e8e5f64c1fc3",
   "metadata": {},
   "source": [
    "### Class Balancing using oversampling technique RandomOverSampler"
   ]
  },
  {
   "cell_type": "markdown",
   "id": "ca1f200a-74f0-4fa9-87c9-54f76771c20d",
   "metadata": {},
   "source": [
    "#### The purpose of class balancing is to prevent model to give biased results towards one class. In this dataset model can be biased for classes \"SO\" and \"SW\" as these both classes have more records than others. To avoid biasing we are using \"RandomOverSampler\" re-sampling technique. Oversampling technique has been used for this dataset becasue of the small size of the data."
   ]
  },
  {
   "cell_type": "markdown",
   "id": "5aa00f5e-4095-4cda-aca0-80f9c412024c",
   "metadata": {},
   "source": [
    " "
   ]
  },
  {
   "cell_type": "code",
   "execution_count": 29,
   "id": "064afe11-b169-4ef1-b05c-5cb297e9444c",
   "metadata": {},
   "outputs": [
    {
     "data": {
      "text/plain": [
       "618"
      ]
     },
     "execution_count": 29,
     "metadata": {},
     "output_type": "execute_result"
    }
   ],
   "source": [
    "ros = RandomOverSampler(random_state=0)\n",
    "ros.fit(X_train, y_train)\n",
    "X_resampled, y_resampled = ros.fit_resample(X_train, y_train)\n",
    "len(X_resampled) # length of "
   ]
  },
  {
   "cell_type": "code",
   "execution_count": 30,
   "id": "f823b8ed-8199-4b99-8e07-faca08c74e86",
   "metadata": {},
   "outputs": [
    {
     "data": {
      "text/plain": [
       "618"
      ]
     },
     "execution_count": 30,
     "metadata": {},
     "output_type": "execute_result"
    }
   ],
   "source": [
    "len(y_resampled)"
   ]
  },
  {
   "cell_type": "markdown",
   "id": "43e93b9b-dc3d-420c-8617-9adfddb5b935",
   "metadata": {},
   "source": [
    "#### Check classes after balancing"
   ]
  },
  {
   "cell_type": "code",
   "execution_count": 31,
   "id": "2d0e5ab1-b061-4a1b-a62b-1c2cbe6a514f",
   "metadata": {},
   "outputs": [
    {
     "name": "stdout",
     "output_type": "stream",
     "text": [
      "Class  0 : 103\n",
      "Class  1 : 103\n",
      "Class  2 : 103\n",
      "Class  3 : 103\n",
      "Class  4 : 103\n",
      "Class  5 : 103\n"
     ]
    }
   ],
   "source": [
    "arr = np.array(y_resampled)\n",
    "classes, counts = np.unique(arr, return_counts=True)\n",
    "for clas in classes: \n",
    "    print('Class ',clas,':', counts[clas])\n"
   ]
  },
  {
   "cell_type": "markdown",
   "id": "c27f7150-c3c6-4dbd-994a-1712013b20aa",
   "metadata": {},
   "source": [
    " "
   ]
  },
  {
   "cell_type": "markdown",
   "id": "f23dd609-751e-4c62-9a94-fcaec98fde19",
   "metadata": {},
   "source": [
    "--------------------------------------------------------------------------------------------------------"
   ]
  },
  {
   "cell_type": "markdown",
   "id": "8ecb3e0f-4378-4038-8182-9c5184d761a2",
   "metadata": {},
   "source": [
    "## <ins>Classfication of birds species using different classifiers</ins>"
   ]
  },
  {
   "cell_type": "markdown",
   "id": "09296dd7-1565-4c95-bd9a-7c85a55dd07a",
   "metadata": {},
   "source": [
    "-------------------------------------------------------------------------------------------------------"
   ]
  },
  {
   "cell_type": "code",
   "execution_count": 82,
   "id": "95e063de-a59a-4f8b-aaa0-5ec931dae467",
   "metadata": {},
   "outputs": [],
   "source": [
    "table_columns = [\"Model\", \"Accuracy\", \"Precision\", \"Recall\", \"F1 score\", \"Sensitivity\", \"Specificity\"] # List to set the columns for the table in which results of all the models will be shown"
   ]
  },
  {
   "cell_type": "code",
   "execution_count": 83,
   "id": "15eacd2a-f4c4-4434-bc48-38e01c88b297",
   "metadata": {},
   "outputs": [],
   "source": [
    "result_with_class_balance = [] # An array of the results of the all models"
   ]
  },
  {
   "cell_type": "code",
   "execution_count": 84,
   "id": "1cac2d84-0365-4388-97ed-1a1d86edc490",
   "metadata": {},
   "outputs": [],
   "source": [
    "mis_loss_classification_table = [\"Model\", \"Mis-Classification\", \"Loss\"] # List to set the columns for the table in which mis-classification and loss of all the models will be shown"
   ]
  },
  {
   "cell_type": "code",
   "execution_count": 85,
   "id": "8bfe8e4c-1114-498c-bd96-ea0175842f2f",
   "metadata": {},
   "outputs": [],
   "source": [
    "mis_loss_classification_results = [] # An array of the misclassified and loss of the all models"
   ]
  },
  {
   "cell_type": "markdown",
   "id": "79a0827a-9032-4b9d-a8b3-10fe0d52ec8b",
   "metadata": {},
   "source": [
    "---------------------------------------------------------------------------------------------------------"
   ]
  },
  {
   "cell_type": "markdown",
   "id": "0d91297a-cb41-4877-b4b1-940909120cf1",
   "metadata": {},
   "source": [
    " ### **SGD Classifier**"
   ]
  },
  {
   "cell_type": "markdown",
   "id": "d4da2c53-c910-4db9-91d8-b2c0eb678a79",
   "metadata": {},
   "source": [
    "---------------------------------------------------------------------------------------------------------"
   ]
  },
  {
   "cell_type": "markdown",
   "id": "dacc37e8-cf64-4990-a86c-163e8e40f54d",
   "metadata": {},
   "source": [
    " ### *<ins>Hyperparmaters Tuning using Grid Search</ins>*"
   ]
  },
  {
   "cell_type": "markdown",
   "id": "2f042dde-9bd9-4fb0-9e6c-0ba362614380",
   "metadata": {},
   "source": [
    "#### Let's perform hyperparameter tuning because it can give optimised hyperparameter values which can increase the predicted accuracy of the model."
   ]
  },
  {
   "cell_type": "code",
   "execution_count": 86,
   "id": "1fab1301-d9ab-4f85-bc26-478de1be7e49",
   "metadata": {},
   "outputs": [
    {
     "name": "stdout",
     "output_type": "stream",
     "text": [
      "SGDClassifier(alpha=0.001, penalty='l1')\n"
     ]
    }
   ],
   "source": [
    "warnings.filterwarnings('ignore') #ignore warning from the below GridSearch function so we do not need to scroll more\n",
    "\n",
    "params = { # list of parameters\n",
    "    \"loss\" : [\"hinge\", \"log\", \"squared_hinge\", \"modified_huber\"],\n",
    "    \"alpha\" : [0.0001, 0.001, 0.01, 0.1],\n",
    "    \"penalty\" : [\"l2\", \"l1\", \"none\"],\n",
    "}\n",
    "\n",
    "model = SGDClassifier(max_iter=1000)\n",
    "clf = GridSearchCV(model, param_grid=params) # Passing SGD classifier and parameters to grid search cv\n",
    "clf.fit(X_resampled,y_resampled) # fitting the data to grid search to get the best parameters\n",
    "print(clf.best_estimator_) # Print best parameters for SGD classifier "
   ]
  },
  {
   "cell_type": "code",
   "execution_count": 87,
   "id": "c9d954ab-46d3-446e-be29-9446091a6cda",
   "metadata": {},
   "outputs": [],
   "source": [
    "sgd_classifier = SGDClassifier(alpha=0.001, loss='log', penalty='none') #SGD Classifier with hyperparameters\n",
    "sgd_classifier.fit(X_resampled,y_resampled) # train the model on train set\n",
    "y_pred = sgd_classifier.predict(X_test) # Prediction\n",
    "\n",
    "accuracy = accuracy_score(y_test, y_pred) #Check accuracy of the trained model\n",
    "precision = precision_score(y_test, y_pred, average='macro') #Check precision of the trained model\n",
    "recall = recall_score(y_test, y_pred, average='macro') #Check recall of the trained model"
   ]
  },
  {
   "cell_type": "code",
   "execution_count": 88,
   "id": "512b0866-8a27-4bd6-b1c1-d8f9fe8cabbc",
   "metadata": {},
   "outputs": [],
   "source": [
    "conf_matrix=confusion_matrix(y_test,sgd_classifier.predict(X_test)) #Confusion matrix\n",
    "\n",
    "FP = conf_matrix.sum(axis=0) - np.diag(conf_matrix) # False Positive\n",
    "FN = conf_matrix.sum(axis=1) - np.diag(conf_matrix) # False Negative\n",
    "TP = np.diag(conf_matrix) # True Positive\n",
    "TN = conf_matrix.sum() - (FP + FN + TP) #True Negative\n",
    "\n",
    "# FPR = FP/(FP+TN)\n",
    "# TPR = TP/(TP+FN) # Recall\n",
    "\n",
    "specificity_of_all_classes = TN/(TN+FP) #Array of specificity of all classes\n",
    "sum_of_all_classes = 0\n",
    "for i in specificity_of_all_classes:\n",
    "    sum_of_all_classes = sum_of_all_classes +i\n",
    "average_specificity = sum_of_all_classes/ len(specificity_of_all_classes) #Specificity of the model\n"
   ]
  },
  {
   "cell_type": "code",
   "execution_count": 89,
   "id": "d56d1553-6c30-4b26-9f84-3dc01fc1586e",
   "metadata": {},
   "outputs": [],
   "source": [
    "result_with_class_balance.append(['SGD Classifier', accuracy, precision, recall, f1_score(y_test,y_pred, average='macro'), recall, average_specificity]);"
   ]
  },
  {
   "cell_type": "code",
   "execution_count": 90,
   "id": "d83c06d5-ef9c-42bc-88cb-ea14c5788b89",
   "metadata": {},
   "outputs": [
    {
     "name": "stdout",
     "output_type": "stream",
     "text": [
      "╒════════════════╤════════════╤═════════════╤══════════╤════════════╤═══════════════╤═══════════════╕\n",
      "│ Model          │   Accuracy │   Precision │   Recall │   F1 score │   Sensitivity │   Specificity │\n",
      "╞════════════════╪════════════╪═════════════╪══════════╪════════════╪═══════════════╪═══════════════╡\n",
      "│ SGD Classifier │   0.727273 │    0.628131 │ 0.720058 │   0.624344 │      0.720058 │      0.945806 │\n",
      "╘════════════════╧════════════╧═════════════╧══════════╧════════════╧═══════════════╧═══════════════╛\n"
     ]
    }
   ],
   "source": [
    "print(tabulate(result_with_class_balance, headers=table_columns, tablefmt=\"fancy_grid\"))"
   ]
  },
  {
   "cell_type": "markdown",
   "id": "504351b5-3269-452d-9623-d12f0521437e",
   "metadata": {},
   "source": [
    "---------------------------------------------------------------------------------------------------------"
   ]
  },
  {
   "cell_type": "markdown",
   "id": "8d49604f-af5e-444a-aaba-2e41c47d593c",
   "metadata": {},
   "source": [
    " ### *<ins>Mis-Classification</ins>*"
   ]
  },
  {
   "cell_type": "code",
   "execution_count": 91,
   "id": "d1909ae3-1bfd-4a5d-8cc3-48c00d496684",
   "metadata": {},
   "outputs": [
    {
     "name": "stdout",
     "output_type": "stream",
     "text": [
      "Mis-Classification:  0.09090909090909093\n"
     ]
    }
   ],
   "source": [
    "#Misclassification of the model\n",
    "mis_classification = (FP + FN) / (TP + TN + FP + FN)\n",
    "sum_of_all = 0\n",
    "for i in mis_classification:\n",
    "    sum_of_all = sum_of_all +i\n",
    "average_mis_classification = sum_of_all/ len(mis_classification) #Misclassification\n",
    "print(\"Mis-Classification: \",average_mis_classification)"
   ]
  },
  {
   "cell_type": "markdown",
   "id": "187ed42d-409d-4629-bd16-ae0438de5731",
   "metadata": {},
   "source": [
    "--------------------------------------------------------------------------------------------------------------------------"
   ]
  },
  {
   "cell_type": "markdown",
   "id": "f158c11e-11cf-434f-9cbc-d1d457b7ff8c",
   "metadata": {},
   "source": [
    " ### *<ins>Loss</ins>*"
   ]
  },
  {
   "cell_type": "code",
   "execution_count": 92,
   "id": "9b834902-01ce-4420-8df5-a9df8df61cec",
   "metadata": {},
   "outputs": [
    {
     "name": "stdout",
     "output_type": "stream",
     "text": [
      "Loss:  0.272727272727273\n"
     ]
    }
   ],
   "source": [
    "error_rate = []\n",
    "for i in y_test: # This loop is checking where predicted result and target result is not matching and saving to error rate array\n",
    "    error_rate.append(np.mean(y_pred != y_test))\n",
    "\n",
    "\n",
    "sum_of_all_loss = 0\n",
    "for i in error_rate: #Sum of the error rates\n",
    "    sum_of_all_loss = sum_of_all_loss +i\n",
    "overall_loss = sum_of_all_loss/ len(error_rate) #Overall loss of the model\n",
    "print(\"Loss: \",overall_loss)"
   ]
  },
  {
   "cell_type": "markdown",
   "id": "53d8288e-e1fd-480c-8666-32d88dfefa48",
   "metadata": {},
   "source": [
    "--------------------------------------------------------------------------------------------------------------------------"
   ]
  },
  {
   "cell_type": "markdown",
   "id": "f518d821-07b4-4842-bc7f-f11e63fb5daf",
   "metadata": {},
   "source": [
    " ### *<ins>Mis-Classification and Loss Table</ins>*"
   ]
  },
  {
   "cell_type": "code",
   "execution_count": 93,
   "id": "e7fbe310-4f06-42e4-9758-9123ffaa5311",
   "metadata": {},
   "outputs": [],
   "source": [
    "mis_loss_classification_results.append(['SGD Classifier', average_mis_classification, overall_loss]);"
   ]
  },
  {
   "cell_type": "code",
   "execution_count": 94,
   "id": "f7448d73-ae6e-4906-a8a4-8d2ea460ac72",
   "metadata": {},
   "outputs": [
    {
     "name": "stdout",
     "output_type": "stream",
     "text": [
      "╒════════════════╤══════════════════════╤══════════╕\n",
      "│ Model          │   Mis-Classification │     Loss │\n",
      "╞════════════════╪══════════════════════╪══════════╡\n",
      "│ SGD Classifier │            0.0909091 │ 0.272727 │\n",
      "╘════════════════╧══════════════════════╧══════════╛\n"
     ]
    }
   ],
   "source": [
    "print(tabulate(mis_loss_classification_results, headers=mis_loss_classification_table, tablefmt=\"fancy_grid\"))"
   ]
  },
  {
   "cell_type": "markdown",
   "id": "e851b001-81c9-400a-94bc-e2116db76872",
   "metadata": {},
   "source": [
    "---------------------------------------------------------------------------------------------------------"
   ]
  },
  {
   "cell_type": "markdown",
   "id": "b762e28c-8afa-4da4-88ac-1c339739d693",
   "metadata": {},
   "source": [
    " ### *<ins>Confusion Matrix</ins>*"
   ]
  },
  {
   "cell_type": "code",
   "execution_count": 95,
   "id": "72f41ddd-4ad5-4ddb-bb85-f4227dbf4447",
   "metadata": {},
   "outputs": [
    {
     "data": {
      "image/png": "[encoded data removed]",
      "text/plain": [
       "<Figure size 640x480 with 2 Axes>"
      ]
     },
     "metadata": {},
     "output_type": "display_data"
    }
   ],
   "source": [
    "sns.heatmap(confusion_matrix(y_test,sgd_classifier.predict(X_test)),xticklabels= enc.classes_,\n",
    "            yticklabels=enc.classes_, annot=True,fmt='d')\n",
    "plt.show()"
   ]
  },
  {
   "cell_type": "markdown",
   "id": "28689432-6f49-42ac-9065-25f76785201a",
   "metadata": {},
   "source": [
    "#### The above matrix table define the performance of the classification algorithm. The diagonal elements represents the number of points where the predicted value is true while the off-diagonal elements represents the number of points which are mis-classified by the algorithm. "
   ]
  },
  {
   "cell_type": "markdown",
   "id": "59c493d1-130c-44f8-9d64-465f782236f0",
   "metadata": {},
   "source": [
    "--------------------------------------------------------------------------------------------------------------------------"
   ]
  },
  {
   "cell_type": "markdown",
   "id": "9547661d-99c1-4246-bcc3-9d5248c644e8",
   "metadata": {},
   "source": [
    " ### *<ins>Classification Report</ins>*"
   ]
  },
  {
   "cell_type": "code",
   "execution_count": 96,
   "id": "f91f7d8f-e80c-44b2-a96d-1234582cc0f6",
   "metadata": {},
   "outputs": [
    {
     "name": "stdout",
     "output_type": "stream",
     "text": [
      "              precision    recall  f1-score   support\n",
      "\n",
      "           0       0.60      0.33      0.43         9\n",
      "           1       0.43      1.00      0.60         3\n",
      "           2       0.93      1.00      0.96        25\n",
      "           3       0.71      0.71      0.71        14\n",
      "           4       0.50      1.00      0.67         4\n",
      "           5       0.60      0.27      0.37        11\n",
      "\n",
      "    accuracy                           0.73        66\n",
      "   macro avg       0.63      0.72      0.62        66\n",
      "weighted avg       0.73      0.73      0.70        66\n",
      "\n"
     ]
    }
   ],
   "source": [
    "print(classification_report(y_test,y_pred)) # This method gives the overall report of the trained model"
   ]
  },
  {
   "cell_type": "markdown",
   "id": "fc899095-73a8-4a05-8647-005f0b72b786",
   "metadata": {},
   "source": [
    "#### From above report we an see the precision, recall, f1-score and support of all the 6 classes"
   ]
  },
  {
   "cell_type": "markdown",
   "id": "d854474e-e73d-4937-827a-40188bb67da9",
   "metadata": {},
   "source": [
    "---------------------------------------------------------------------------------------------------------"
   ]
  },
  {
   "cell_type": "markdown",
   "id": "0b578d3d-b188-4499-ba4a-52d93a400801",
   "metadata": {},
   "source": [
    " ### *<ins>Area Under the Curve</ins>*"
   ]
  },
  {
   "cell_type": "code",
   "execution_count": 97,
   "id": "dc8c3c00-fa20-4947-9f6d-b884a98e89f4",
   "metadata": {},
   "outputs": [
    {
     "data": {
      "text/plain": [
       "(66, 6)"
      ]
     },
     "execution_count": 97,
     "metadata": {},
     "output_type": "execute_result"
    }
   ],
   "source": [
    "lb = LabelBinarizer().fit(y_train)\n",
    "y_lb_test = lb.transform(y_test)\n",
    "y_lb_test.shape "
   ]
  },
  {
   "cell_type": "code",
   "execution_count": 98,
   "id": "1838e670-8810-40a6-a341-0f0e920a2ee7",
   "metadata": {},
   "outputs": [
    {
     "data": {
      "image/png": "[encoded data removed]",
      "text/plain": [
       "<Figure size 640x480 with 1 Axes>"
      ]
     },
     "metadata": {},
     "output_type": "display_data"
    }
   ],
   "source": [
    "y_score = sgd_classifier.fit(X_resampled, y_resampled).predict_proba(X_test)\n",
    "\n",
    "RocCurveDisplay.from_predictions(\n",
    "    y_lb_test.ravel(),\n",
    "    y_score.ravel(),\n",
    "    name=\"micro-average OvR\",\n",
    "    color=\"darkorange\",\n",
    ")\n",
    "plt.plot([0, 1], [0, 1], \"k--\", label=\"chance level (AUC = 0.5)\")\n",
    "plt.axis(\"square\")\n",
    "plt.xlabel(\"False Positive Rate\")\n",
    "plt.ylabel(\"True Positive Rate\")\n",
    "plt.title(\"Micro-averaged One-vs-Rest\\nReceiver Operating Characteristic\")\n",
    "plt.legend()\n",
    "plt.show()"
   ]
  },
  {
   "cell_type": "markdown",
   "id": "b80689a1-827b-4864-80a8-fc6e9b3531cd",
   "metadata": {},
   "source": [
    " "
   ]
  },
  {
   "cell_type": "markdown",
   "id": "55b4470f-143f-4163-9be4-a8aa6207b981",
   "metadata": {},
   "source": [
    "---------------------------------------------------------------------------------------------------------"
   ]
  },
  {
   "cell_type": "markdown",
   "id": "0f3d2cec-3092-4a2d-9fea-ecb4a9c5ebb8",
   "metadata": {},
   "source": [
    " ### **Random Forest**"
   ]
  },
  {
   "cell_type": "markdown",
   "id": "acedd115-ffda-44c6-a390-33938f8d778e",
   "metadata": {},
   "source": [
    "---------------------------------------------------------------------------------------------------------"
   ]
  },
  {
   "cell_type": "markdown",
   "id": "fcb46d60-15a2-49f4-ae1b-536e578a0b0c",
   "metadata": {},
   "source": [
    " ### *<ins>Hyperparmaters Tuning using Grid Search</ins>*"
   ]
  },
  {
   "cell_type": "markdown",
   "id": "6fa6c67d-3ecd-477a-8d3a-f15d10029bf2",
   "metadata": {},
   "source": [
    "#### Let's perform hyperparameter tuning because it can give optimised hyperparameter values which can increase the predicted accuracy of your model."
   ]
  },
  {
   "cell_type": "code",
   "execution_count": 81,
   "id": "357745e9-e3e8-492e-a273-b36ced0c0c51",
   "metadata": {},
   "outputs": [
    {
     "name": "stdout",
     "output_type": "stream",
     "text": [
      "Fitting 3 folds for each of 288 candidates, totalling 864 fits\n"
     ]
    },
    {
     "data": {
      "text/plain": [
       "{'bootstrap': True,\n",
       " 'max_depth': 80,\n",
       " 'max_features': 2,\n",
       " 'min_samples_leaf': 3,\n",
       " 'min_samples_split': 8,\n",
       " 'n_estimators': 300}"
      ]
     },
     "execution_count": 81,
     "metadata": {},
     "output_type": "execute_result"
    }
   ],
   "source": [
    "# Create the parameter grid based on the results of random search \n",
    "param_grid = {\n",
    "    'bootstrap': [True],\n",
    "    'max_depth': [80, 90, 100, 110],\n",
    "    'max_features': [2, 3],\n",
    "    'min_samples_leaf': [3, 4, 5],\n",
    "    'min_samples_split': [8, 10, 12],\n",
    "    'n_estimators': [100, 200, 300, 1000]\n",
    "}\n",
    "# Create a based model\n",
    "rf = RandomForestClassifier()\n",
    "grid_search = GridSearchCV(estimator = rf, param_grid = param_grid, \n",
    "                          cv = 3, n_jobs = -1, verbose = 2)\n",
    "# Instantiate the grid search model\n",
    "grid_search.fit(X_resampled, y_resampled)\n",
    "grid_search.best_params_"
   ]
  },
  {
   "cell_type": "markdown",
   "id": "0ae541af-48a9-45f6-8d1f-0e70dc6eadc0",
   "metadata": {},
   "source": [
    " "
   ]
  },
  {
   "cell_type": "code",
   "execution_count": 99,
   "id": "2ffdc897-3a4d-4aa6-aa2b-4bd3de930c41",
   "metadata": {},
   "outputs": [],
   "source": [
    "random_forest=RandomForestClassifier(bootstrap= True,\n",
    " max_depth= 80,\n",
    " max_features= 2,\n",
    " min_samples_leaf= 3,\n",
    " min_samples_split= 8,\n",
    " n_estimators= 300)\n",
    "random_forest.fit(X_resampled, y_resampled) # train the model on train set\n",
    "y_pred = random_forest.predict(X_test) # Prediction\n",
    "\n",
    "\n",
    "accuracy = accuracy_score(y_test, y_pred) #Check accuracy of the trained model\n",
    "precision = precision_score(y_test, y_pred, average='macro') #Check precision of the trained model\n",
    "recall = recall_score(y_test, y_pred, average='macro') #Check recall of the trained model"
   ]
  },
  {
   "cell_type": "code",
   "execution_count": 100,
   "id": "f9ddcfc3-421f-4071-9966-c9318bb9847f",
   "metadata": {},
   "outputs": [],
   "source": [
    "conf_matrix=confusion_matrix(y_test,random_forest.predict(X_test)) #Confusion matrix\n",
    "\n",
    "FP = conf_matrix.sum(axis=0) - np.diag(conf_matrix) # False Positive\n",
    "FN = conf_matrix.sum(axis=1) - np.diag(conf_matrix) # False Negative\n",
    "TP = np.diag(conf_matrix) # True Positive\n",
    "TN = conf_matrix.sum() - (FP + FN + TP) #True Negative\n",
    "\n",
    "specificity_of_all_classes = TN/(TN+FP) #Array of specificity of all classes\n",
    "sum_of_all_classes = 0\n",
    "for i in specificity_of_all_classes:\n",
    "    sum_of_all_classes = sum_of_all_classes +i\n",
    "average_specificity = sum_of_all_classes/ len(specificity_of_all_classes) #Specificity of the model\n"
   ]
  },
  {
   "cell_type": "code",
   "execution_count": 101,
   "id": "b820c330-3503-4a9f-8f0f-00d475c053dc",
   "metadata": {},
   "outputs": [],
   "source": [
    "result_with_class_balance.append(['Random Forest', accuracy, precision, recall, f1_score(y_test,y_pred, average='macro'), recall, average_specificity]);"
   ]
  },
  {
   "cell_type": "code",
   "execution_count": 102,
   "id": "73a8e670-6d33-4cfb-bf4d-0ebd58bf0d61",
   "metadata": {},
   "outputs": [
    {
     "name": "stdout",
     "output_type": "stream",
     "text": [
      "╒════════════════╤════════════╤═════════════╤══════════╤════════════╤═══════════════╤═══════════════╕\n",
      "│ Model          │   Accuracy │   Precision │   Recall │   F1 score │   Sensitivity │   Specificity │\n",
      "╞════════════════╪════════════╪═════════════╪══════════╪════════════╪═══════════════╪═══════════════╡\n",
      "│ SGD Classifier │   0.727273 │    0.628131 │ 0.720058 │   0.624344 │      0.720058 │      0.945806 │\n",
      "├────────────────┼────────────┼─────────────┼──────────┼────────────┼───────────────┼───────────────┤\n",
      "│ Random Forest  │   0.818182 │    0.781    │ 0.787939 │   0.761949 │      0.787939 │      0.960602 │\n",
      "╘════════════════╧════════════╧═════════════╧══════════╧════════════╧═══════════════╧═══════════════╛\n"
     ]
    }
   ],
   "source": [
    "print(tabulate(result_with_class_balance, headers=table_columns, tablefmt=\"fancy_grid\"))"
   ]
  },
  {
   "cell_type": "markdown",
   "id": "bc5800e8-7fad-43ea-b797-a2bbda4d9705",
   "metadata": {},
   "source": [
    "---------------------------------------------------------------------------------------------------------"
   ]
  },
  {
   "cell_type": "markdown",
   "id": "3226b03d-24c4-4200-8261-431bce79d1de",
   "metadata": {},
   "source": [
    " ### *<ins>Mis-Classification</ins>*"
   ]
  },
  {
   "cell_type": "code",
   "execution_count": 103,
   "id": "a77e39d5-d49d-4828-bd58-0f702f6fdf22",
   "metadata": {},
   "outputs": [
    {
     "name": "stdout",
     "output_type": "stream",
     "text": [
      "Mis-Classification:  0.06060606060606061\n"
     ]
    }
   ],
   "source": [
    "#Misclassification of the model\n",
    "mis_classification = (FP + FN) / (TP + TN + FP + FN)\n",
    "sum_of_all = 0\n",
    "for i in mis_classification:\n",
    "    sum_of_all = sum_of_all +i\n",
    "average_mis_classification = sum_of_all/ len(mis_classification) #Misclassification\n",
    "print(\"Mis-Classification: \",average_mis_classification)"
   ]
  },
  {
   "cell_type": "markdown",
   "id": "73b3ade3-d6a4-416a-90dd-983b718617fb",
   "metadata": {},
   "source": [
    "--------------------------------------------------------------------------------------------------------------------"
   ]
  },
  {
   "cell_type": "markdown",
   "id": "8d6a6f1e-f7c7-4cdc-811e-41946c29b1e3",
   "metadata": {},
   "source": [
    " ### *<ins>Loss</ins>*"
   ]
  },
  {
   "cell_type": "code",
   "execution_count": 104,
   "id": "e2b16ac4-7c24-4c27-b74b-eaac8aa6a4ae",
   "metadata": {},
   "outputs": [
    {
     "name": "stdout",
     "output_type": "stream",
     "text": [
      "Loss:  0.1818181818181817\n"
     ]
    }
   ],
   "source": [
    "error_rate = []\n",
    "for i in y_test: # This loop is checking where predicted result and target result is not matching and saving to error rate array\n",
    "    error_rate.append(np.mean(y_pred != y_test))\n",
    "\n",
    "\n",
    "sum_of_all_loss = 0\n",
    "for i in error_rate: #Sum of the error rates\n",
    "    sum_of_all_loss = sum_of_all_loss +i\n",
    "overall_loss = sum_of_all_loss/ len(error_rate) #Overall loss of the model\n",
    "print(\"Loss: \",overall_loss)"
   ]
  },
  {
   "cell_type": "markdown",
   "id": "03e07a19-edc1-4458-9ee1-96580fc202d9",
   "metadata": {},
   "source": [
    "--------------------------------------------------------------------------------------------------------------------"
   ]
  },
  {
   "cell_type": "markdown",
   "id": "eefa9d17-b826-46b7-8021-c9aae8699679",
   "metadata": {},
   "source": [
    " ### *<ins>Mis-Classification and Loss Table</ins>*"
   ]
  },
  {
   "cell_type": "code",
   "execution_count": 105,
   "id": "6af091c9-a5c9-4bab-bc4a-2b4feefea630",
   "metadata": {},
   "outputs": [],
   "source": [
    "mis_loss_classification_results.append(['Random Forest', average_mis_classification, overall_loss]);"
   ]
  },
  {
   "cell_type": "code",
   "execution_count": 106,
   "id": "5744ab9b-62b1-4279-b6df-430c0fd32b44",
   "metadata": {},
   "outputs": [
    {
     "name": "stdout",
     "output_type": "stream",
     "text": [
      "╒════════════════╤══════════════════════╤══════════╕\n",
      "│ Model          │   Mis-Classification │     Loss │\n",
      "╞════════════════╪══════════════════════╪══════════╡\n",
      "│ SGD Classifier │            0.0909091 │ 0.272727 │\n",
      "├────────────────┼──────────────────────┼──────────┤\n",
      "│ Random Forest  │            0.0606061 │ 0.181818 │\n",
      "╘════════════════╧══════════════════════╧══════════╛\n"
     ]
    }
   ],
   "source": [
    "print(tabulate(mis_loss_classification_results, headers=mis_loss_classification_table, tablefmt=\"fancy_grid\"))"
   ]
  },
  {
   "cell_type": "markdown",
   "id": "74035a55-88b9-466d-ad15-b540d7dbc316",
   "metadata": {},
   "source": [
    "---------------------------------------------------------------------------------------------------------"
   ]
  },
  {
   "cell_type": "markdown",
   "id": "7e23f91c-451a-4bd5-8c09-6bccb5620511",
   "metadata": {},
   "source": [
    " ### *<ins>Confusion Matrix</ins>*"
   ]
  },
  {
   "cell_type": "code",
   "execution_count": 107,
   "id": "55727454-716c-4b88-93b4-a348c82a7a38",
   "metadata": {},
   "outputs": [
    {
     "data": {
      "image/png": "[encoded data removed]",
      "text/plain": [
       "<Figure size 640x480 with 2 Axes>"
      ]
     },
     "metadata": {},
     "output_type": "display_data"
    }
   ],
   "source": [
    "sns.heatmap(confusion_matrix(y_test,random_forest.predict(X_test)),xticklabels= enc.classes_,\n",
    "            yticklabels=enc.classes_, annot=True,fmt='d')\n",
    "plt.show()"
   ]
  },
  {
   "cell_type": "markdown",
   "id": "c9ed71bb-73e5-488a-b003-296139b7e0d5",
   "metadata": {},
   "source": [
    "#### The above matrix table define the performance of the classification algorithm. The diagonal elements represents the number of points where the predicted value is true while the off-diagonal elements represents the number of points which are mis-classified by the algorithm. "
   ]
  },
  {
   "cell_type": "markdown",
   "id": "6ffb7599-1b50-4a52-9c97-41218eaec326",
   "metadata": {},
   "source": [
    "--------------------------------------------------------------------------------------------------------------------"
   ]
  },
  {
   "cell_type": "markdown",
   "id": "bdb27285-4105-48cb-87f3-e1533ecf2a86",
   "metadata": {},
   "source": [
    " ### *<ins>Classification Report</ins>*"
   ]
  },
  {
   "cell_type": "code",
   "execution_count": 108,
   "id": "d92ba341-5fb5-4124-ac69-66422a4733d9",
   "metadata": {},
   "outputs": [
    {
     "name": "stdout",
     "output_type": "stream",
     "text": [
      "              precision    recall  f1-score   support\n",
      "\n",
      "           0       1.00      0.56      0.71         9\n",
      "           1       0.60      1.00      0.75         3\n",
      "           2       0.86      1.00      0.93        25\n",
      "           3       0.85      0.79      0.81        14\n",
      "           4       0.60      0.75      0.67         4\n",
      "           5       0.78      0.64      0.70        11\n",
      "\n",
      "    accuracy                           0.82        66\n",
      "   macro avg       0.78      0.79      0.76        66\n",
      "weighted avg       0.84      0.82      0.81        66\n",
      "\n"
     ]
    }
   ],
   "source": [
    "print(classification_report(y_test,y_pred)) # This method gives the overall report of the trained model"
   ]
  },
  {
   "cell_type": "markdown",
   "id": "273253db-cd33-4d2b-bf4b-b4d6272d29f3",
   "metadata": {},
   "source": [
    "---------------------------------------------------------------------------------------------------------"
   ]
  },
  {
   "cell_type": "markdown",
   "id": "0c830022-0763-45cd-9831-4440670b1918",
   "metadata": {},
   "source": [
    " ### *<ins>Area Under the Curve</ins>*"
   ]
  },
  {
   "cell_type": "code",
   "execution_count": 109,
   "id": "2334ad7a-4fb3-48ab-92ea-bd0ffa09fc8d",
   "metadata": {},
   "outputs": [
    {
     "data": {
      "image/png": "[encoded data removed]",
      "text/plain": [
       "<Figure size 640x480 with 1 Axes>"
      ]
     },
     "metadata": {},
     "output_type": "display_data"
    }
   ],
   "source": [
    "y_score = random_forest.fit(X_resampled, y_resampled).predict_proba(X_test)\n",
    "\n",
    "RocCurveDisplay.from_predictions(\n",
    "    y_lb_test.ravel(),\n",
    "    y_score.ravel(),\n",
    "    name=\"micro-average OvR\",\n",
    "    color=\"darkorange\",\n",
    ")\n",
    "plt.plot([0, 1], [0, 1], \"k--\", label=\"chance level (AUC = 0.5)\")\n",
    "plt.axis(\"square\")\n",
    "plt.xlabel(\"False Positive Rate\")\n",
    "plt.ylabel(\"True Positive Rate\")\n",
    "plt.title(\"Micro-averaged One-vs-Rest\\nReceiver Operating Characteristic\")\n",
    "plt.legend()\n",
    "plt.show()"
   ]
  },
  {
   "cell_type": "markdown",
   "id": "622f3909-1a39-4c4f-836f-516c9168cf32",
   "metadata": {},
   "source": [
    "---------------------------------------------------------------------------------------------------------"
   ]
  },
  {
   "cell_type": "markdown",
   "id": "d0ba21b6-bfd1-4d2c-8d8e-de40e1ca3466",
   "metadata": {},
   "source": [
    " ### **Ada Boost Classifier**"
   ]
  },
  {
   "cell_type": "markdown",
   "id": "f4d5e781-be62-49bc-b41d-8f06deb701dd",
   "metadata": {},
   "source": [
    "---------------------------------------------------------------------------------------------------------"
   ]
  },
  {
   "cell_type": "markdown",
   "id": "74b1b926-f2e2-4aa7-93ce-17f85f5c44b7",
   "metadata": {},
   "source": [
    "#### Best Hyperparameters == criterion='entropy',random_state=1, max_depth=5"
   ]
  },
  {
   "cell_type": "code",
   "execution_count": 110,
   "id": "3f4ac173-3958-4249-86bc-771bf954620b",
   "metadata": {},
   "outputs": [],
   "source": [
    "decision_tree_ada = DecisionTreeClassifier(criterion='entropy',random_state=1, max_depth=5)\n",
    "ada_boost_classifier = AdaBoostClassifier( base_estimator = decision_tree_ada, n_estimators=500, learning_rate=0.1, random_state=5)\n",
    "ada_boost_classifier.fit(X_resampled, y_resampled) # train the model on train set\n",
    "y_pred = ada_boost_classifier.predict(X_test) # Prediction\n",
    "\n",
    "\n",
    "accuracy = accuracy_score(y_test, y_pred) #Check accuracy of the trained model\n",
    "precision = precision_score(y_test, y_pred, average='macro') #Check precision of the trained model\n",
    "recall = recall_score(y_test, y_pred, average='macro') #Check recall of the trained model"
   ]
  },
  {
   "cell_type": "code",
   "execution_count": 111,
   "id": "c3b8d59f-1468-404b-b748-0755b0e6305b",
   "metadata": {},
   "outputs": [],
   "source": [
    "conf_matrix=confusion_matrix(y_test,ada_boost_classifier.predict(X_test)) #Confusion matrix\n",
    "\n",
    "FP = conf_matrix.sum(axis=0) - np.diag(conf_matrix) # False Positive\n",
    "FN = conf_matrix.sum(axis=1) - np.diag(conf_matrix) # False Negative\n",
    "TP = np.diag(conf_matrix) # True Positive\n",
    "TN = conf_matrix.sum() - (FP + FN + TP) #True Negative\n",
    "\n",
    "specificity_of_all_classes = TN/(TN+FP) #Array of specificity of all classes\n",
    "sum_of_all_classes = 0\n",
    "for i in specificity_of_all_classes:\n",
    "    sum_of_all_classes = sum_of_all_classes +i\n",
    "average_specificity = sum_of_all_classes/ len(specificity_of_all_classes) #Specificity of the model\n"
   ]
  },
  {
   "cell_type": "code",
   "execution_count": 112,
   "id": "4d4fa7ee-76ac-47a5-9462-2131834477b3",
   "metadata": {},
   "outputs": [],
   "source": [
    "result_with_class_balance.append(['Ada Boost', accuracy, precision, recall, f1_score(y_test,y_pred, average='macro'), recall, average_specificity]);"
   ]
  },
  {
   "cell_type": "code",
   "execution_count": 113,
   "id": "a5e4d9b7-3441-43d1-941d-bd7ea529fde0",
   "metadata": {},
   "outputs": [
    {
     "name": "stdout",
     "output_type": "stream",
     "text": [
      "╒════════════════╤════════════╤═════════════╤══════════╤════════════╤═══════════════╤═══════════════╕\n",
      "│ Model          │   Accuracy │   Precision │   Recall │   F1 score │   Sensitivity │   Specificity │\n",
      "╞════════════════╪════════════╪═════════════╪══════════╪════════════╪═══════════════╪═══════════════╡\n",
      "│ SGD Classifier │   0.727273 │    0.628131 │ 0.720058 │   0.624344 │      0.720058 │      0.945806 │\n",
      "├────────────────┼────────────┼─────────────┼──────────┼────────────┼───────────────┼───────────────┤\n",
      "│ Random Forest  │   0.818182 │    0.781    │ 0.787939 │   0.761949 │      0.787939 │      0.960602 │\n",
      "├────────────────┼────────────┼─────────────┼──────────┼────────────┼───────────────┼───────────────┤\n",
      "│ Ada Boost      │   0.772727 │    0.717476 │ 0.710445 │   0.706692 │      0.710445 │      0.950347 │\n",
      "╘════════════════╧════════════╧═════════════╧══════════╧════════════╧═══════════════╧═══════════════╛\n"
     ]
    }
   ],
   "source": [
    "print(tabulate(result_with_class_balance, headers=table_columns, tablefmt=\"fancy_grid\"))"
   ]
  },
  {
   "cell_type": "markdown",
   "id": "8c4352e3-e607-4d08-9caa-85c23bccaf5f",
   "metadata": {},
   "source": [
    "---------------------------------------------------------------------------------------------------------"
   ]
  },
  {
   "cell_type": "markdown",
   "id": "e653cab8-e793-42c5-9322-a7906c083df1",
   "metadata": {},
   "source": [
    " ### *<ins>Mis-Classification</ins>*"
   ]
  },
  {
   "cell_type": "code",
   "execution_count": 114,
   "id": "c80a20ad-33a0-4e9c-a066-ae053314b210",
   "metadata": {},
   "outputs": [
    {
     "name": "stdout",
     "output_type": "stream",
     "text": [
      "Mis-Classification:  0.07575757575757576\n"
     ]
    }
   ],
   "source": [
    "#Misclassification of the model\n",
    "mis_classification = (FP + FN) / (TP + TN + FP + FN)\n",
    "sum_of_all = 0\n",
    "for i in mis_classification:\n",
    "    sum_of_all = sum_of_all +i\n",
    "average_mis_classification = sum_of_all/ len(mis_classification) #Misclassification\n",
    "print(\"Mis-Classification: \",average_mis_classification)"
   ]
  },
  {
   "cell_type": "markdown",
   "id": "7443bb7e-2a36-417c-972c-6b93211596df",
   "metadata": {},
   "source": [
    "--------------------------------------------------------------------------------------------------------------------"
   ]
  },
  {
   "cell_type": "markdown",
   "id": "59ffb1f3-11fe-4d0a-94d2-b23b8e710eca",
   "metadata": {},
   "source": [
    " ### *<ins>Loss</ins>*"
   ]
  },
  {
   "cell_type": "code",
   "execution_count": 115,
   "id": "1eae7138-0259-4f8e-a7f6-d5ba2198df0d",
   "metadata": {},
   "outputs": [
    {
     "name": "stdout",
     "output_type": "stream",
     "text": [
      "Loss:  0.22727272727272702\n"
     ]
    }
   ],
   "source": [
    "error_rate = []\n",
    "for i in y_test: # This loop is checking where predicted result and target result is not matching and saving to error rate array\n",
    "    error_rate.append(np.mean(y_pred != y_test))\n",
    "\n",
    "\n",
    "sum_of_all_loss = 0\n",
    "for i in error_rate: #Sum of the error rates\n",
    "    sum_of_all_loss = sum_of_all_loss +i\n",
    "overall_loss = sum_of_all_loss/ len(error_rate) #Overall loss of the model\n",
    "print(\"Loss: \",overall_loss)"
   ]
  },
  {
   "cell_type": "markdown",
   "id": "22a0a842-8a46-4cb8-a617-14cf02daadf8",
   "metadata": {},
   "source": [
    "--------------------------------------------------------------------------------------------------------------------"
   ]
  },
  {
   "cell_type": "markdown",
   "id": "4f6b66a3-aed0-4a4a-80a3-1a2f458674f3",
   "metadata": {},
   "source": [
    " ### *<ins>Mis-Classification and Loss Table</ins>*"
   ]
  },
  {
   "cell_type": "code",
   "execution_count": 116,
   "id": "c86d8ee7-9620-4c86-89be-665e5a7c31da",
   "metadata": {},
   "outputs": [],
   "source": [
    "mis_loss_classification_results.append(['Ada Boost', average_mis_classification, overall_loss]);"
   ]
  },
  {
   "cell_type": "code",
   "execution_count": 117,
   "id": "91da5c2a-243a-40f1-bd18-2f4e4c41b2aa",
   "metadata": {},
   "outputs": [
    {
     "name": "stdout",
     "output_type": "stream",
     "text": [
      "╒════════════════╤══════════════════════╤══════════╕\n",
      "│ Model          │   Mis-Classification │     Loss │\n",
      "╞════════════════╪══════════════════════╪══════════╡\n",
      "│ SGD Classifier │            0.0909091 │ 0.272727 │\n",
      "├────────────────┼──────────────────────┼──────────┤\n",
      "│ Random Forest  │            0.0606061 │ 0.181818 │\n",
      "├────────────────┼──────────────────────┼──────────┤\n",
      "│ Ada Boost      │            0.0757576 │ 0.227273 │\n",
      "╘════════════════╧══════════════════════╧══════════╛\n"
     ]
    }
   ],
   "source": [
    "print(tabulate(mis_loss_classification_results, headers=mis_loss_classification_table, tablefmt=\"fancy_grid\"))"
   ]
  },
  {
   "cell_type": "markdown",
   "id": "a0345c67-97c4-4544-8fa5-38fc5019b0ca",
   "metadata": {},
   "source": [
    "---------------------------------------------------------------------------------------------------------"
   ]
  },
  {
   "cell_type": "markdown",
   "id": "483b893b-5555-4a5d-b9a5-48929c08c59b",
   "metadata": {},
   "source": [
    " ### *<ins>Confusion Matrix</ins>*"
   ]
  },
  {
   "cell_type": "code",
   "execution_count": 118,
   "id": "dd640757-e938-48fc-b4e6-58cf54282d02",
   "metadata": {},
   "outputs": [
    {
     "data": {
      "image/png": "[encoded data removed]",
      "text/plain": [
       "<Figure size 640x480 with 2 Axes>"
      ]
     },
     "metadata": {},
     "output_type": "display_data"
    }
   ],
   "source": [
    "sns.heatmap(confusion_matrix(y_test,ada_boost_classifier.predict(X_test)),xticklabels= enc.classes_,\n",
    "            yticklabels=enc.classes_, annot=True,fmt='d')\n",
    "plt.show()"
   ]
  },
  {
   "cell_type": "markdown",
   "id": "fd84d6fe-ea65-46b1-99f7-365deb65614f",
   "metadata": {},
   "source": [
    "#### The above matrix table define the performance of the classification algorithm. The diagonal elements represents the number of points where the predicted value is true while the off-diagonal elements represents the number of points which are mis-classified by the algorithm. "
   ]
  },
  {
   "cell_type": "markdown",
   "id": "5e3aef76-d2ad-4da0-ae53-802ea06e47cc",
   "metadata": {},
   "source": [
    "--------------------------------------------------------------------------------------------------------------------"
   ]
  },
  {
   "cell_type": "markdown",
   "id": "afe92e2c-80ce-4956-8633-f7a86a3277b2",
   "metadata": {},
   "source": [
    " ### *<ins>Classification Report</ins>*"
   ]
  },
  {
   "cell_type": "code",
   "execution_count": 119,
   "id": "c1cb58b0-bc84-450e-9916-24cf04e95f38",
   "metadata": {
    "tags": []
   },
   "outputs": [
    {
     "name": "stdout",
     "output_type": "stream",
     "text": [
      "              precision    recall  f1-score   support\n",
      "\n",
      "           0       0.67      0.44      0.53         9\n",
      "           1       0.50      0.67      0.57         3\n",
      "           2       0.83      0.96      0.89        25\n",
      "           3       0.83      0.71      0.77        14\n",
      "           4       0.75      0.75      0.75         4\n",
      "           5       0.73      0.73      0.73        11\n",
      "\n",
      "    accuracy                           0.77        66\n",
      "   macro avg       0.72      0.71      0.71        66\n",
      "weighted avg       0.77      0.77      0.77        66\n",
      "\n"
     ]
    }
   ],
   "source": [
    "print(classification_report(y_test,y_pred)) # This method gives the overall report of the trained model"
   ]
  },
  {
   "cell_type": "markdown",
   "id": "48cd4440-3d13-4c40-8ac9-18d8b2efcce8",
   "metadata": {},
   "source": [
    "---------------------------------------------------------------------------------------------------------"
   ]
  },
  {
   "cell_type": "markdown",
   "id": "b4ac0af2-0f4b-41b6-b8d6-180a2cdb3e03",
   "metadata": {},
   "source": [
    " ### *<ins>Area Under the Curve</ins>*"
   ]
  },
  {
   "cell_type": "code",
   "execution_count": 120,
   "id": "c94495a1-291b-4314-a137-0918f03e51ef",
   "metadata": {},
   "outputs": [
    {
     "data": {
      "image/png": "[encoded data removed]",
      "text/plain": [
       "<Figure size 640x480 with 1 Axes>"
      ]
     },
     "metadata": {},
     "output_type": "display_data"
    }
   ],
   "source": [
    "y_score = ada_boost_classifier.fit(X_resampled, y_resampled).predict_proba(X_test)\n",
    "\n",
    "RocCurveDisplay.from_predictions(\n",
    "    y_lb_test.ravel(),\n",
    "    y_score.ravel(),\n",
    "    name=\"micro-average OvR\",\n",
    "    color=\"darkorange\",\n",
    ")\n",
    "plt.plot([0, 1], [0, 1], \"k--\", label=\"chance level (AUC = 0.5)\")\n",
    "plt.axis(\"square\")\n",
    "plt.xlabel(\"False Positive Rate\")\n",
    "plt.ylabel(\"True Positive Rate\")\n",
    "plt.title(\"Micro-averaged One-vs-Rest\\nReceiver Operating Characteristic\")\n",
    "plt.legend()\n",
    "plt.show()"
   ]
  },
  {
   "cell_type": "markdown",
   "id": "1dcfb27b-cb6a-42c5-a24e-a7ca9785a63c",
   "metadata": {},
   "source": [
    "---------------------------------------------------------------------------------------------------------"
   ]
  },
  {
   "cell_type": "markdown",
   "id": "f0e2680e-149a-47e1-b935-32d9bb0d3d9e",
   "metadata": {},
   "source": [
    " ### **Gradient Boost Classifier**"
   ]
  },
  {
   "cell_type": "markdown",
   "id": "6afd6e5e-24ed-4851-87a1-6cda19bf09fa",
   "metadata": {},
   "source": [
    "-------------------------------------------------------------------------------------------------------------------"
   ]
  },
  {
   "cell_type": "markdown",
   "id": "c6a5fe08-9535-46ff-a208-fedf1711e50d",
   "metadata": {},
   "source": [
    "#### Best hyperparameters = random_state=5, n_estimators=1000, max_depth=4"
   ]
  },
  {
   "cell_type": "code",
   "execution_count": 121,
   "id": "88ac0de1-dbc2-4d18-883a-e87a292e2b88",
   "metadata": {},
   "outputs": [],
   "source": [
    "gb_boost_classifier = GradientBoostingClassifier(random_state=5, n_estimators=1000, max_depth=4)\n",
    "gb_boost_classifier.fit(X_resampled,y_resampled) # train the model on train set\n",
    "y_pred = gb_boost_classifier.predict(X_test) # Prediction\n",
    "\n",
    "\n",
    "accuracy = accuracy_score(y_test, y_pred) #Check accuracy of the trained model\n",
    "precision = precision_score(y_test, y_pred, average='macro') #Check precision of the trained model\n",
    "recall = recall_score(y_test, y_pred, average='macro') #Check recall of the trained model"
   ]
  },
  {
   "cell_type": "code",
   "execution_count": 122,
   "id": "26253049-da97-435a-911b-0389faa2a8b0",
   "metadata": {},
   "outputs": [],
   "source": [
    "conf_matrix=confusion_matrix(y_test,gb_boost_classifier.predict(X_test)) #Confusion matrix\n",
    "\n",
    "FP = conf_matrix.sum(axis=0) - np.diag(conf_matrix) # False Positive\n",
    "FN = conf_matrix.sum(axis=1) - np.diag(conf_matrix) # False Negative\n",
    "TP = np.diag(conf_matrix) # True Positive\n",
    "TN = conf_matrix.sum() - (FP + FN + TP) #True Negative\n",
    "\n",
    "specificity_of_all_classes = TN/(TN+FP) #Array of specificity of all classes\n",
    "sum_of_all_classes = 0\n",
    "for i in specificity_of_all_classes:\n",
    "    sum_of_all_classes = sum_of_all_classes +i\n",
    "average_specificity = sum_of_all_classes/ len(specificity_of_all_classes) #Specificity of the model\n"
   ]
  },
  {
   "cell_type": "code",
   "execution_count": 123,
   "id": "8a4c5e4c-5e82-4a47-bd38-3e7aca18bf6b",
   "metadata": {},
   "outputs": [],
   "source": [
    "result_with_class_balance.append(['Gradient Boost', accuracy, precision, recall, f1_score(y_test,y_pred, average='macro'), recall, average_specificity]);"
   ]
  },
  {
   "cell_type": "code",
   "execution_count": 124,
   "id": "e0fef0b6-6f83-4bfb-8a4d-43fafea73e96",
   "metadata": {},
   "outputs": [
    {
     "name": "stdout",
     "output_type": "stream",
     "text": [
      "╒════════════════╤════════════╤═════════════╤══════════╤════════════╤═══════════════╤═══════════════╕\n",
      "│ Model          │   Accuracy │   Precision │   Recall │   F1 score │   Sensitivity │   Specificity │\n",
      "╞════════════════╪════════════╪═════════════╪══════════╪════════════╪═══════════════╪═══════════════╡\n",
      "│ SGD Classifier │   0.727273 │    0.628131 │ 0.720058 │   0.624344 │      0.720058 │      0.945806 │\n",
      "├────────────────┼────────────┼─────────────┼──────────┼────────────┼───────────────┼───────────────┤\n",
      "│ Random Forest  │   0.818182 │    0.781    │ 0.787939 │   0.761949 │      0.787939 │      0.960602 │\n",
      "├────────────────┼────────────┼─────────────┼──────────┼────────────┼───────────────┼───────────────┤\n",
      "│ Ada Boost      │   0.772727 │    0.717476 │ 0.710445 │   0.706692 │      0.710445 │      0.950347 │\n",
      "├────────────────┼────────────┼─────────────┼──────────┼────────────┼───────────────┼───────────────┤\n",
      "│ Gradient Boost │   0.818182 │    0.752315 │ 0.785248 │   0.764135 │      0.785248 │      0.963078 │\n",
      "╘════════════════╧════════════╧═════════════╧══════════╧════════════╧═══════════════╧═══════════════╛\n"
     ]
    }
   ],
   "source": [
    "print(tabulate(result_with_class_balance, headers=table_columns, tablefmt=\"fancy_grid\"))"
   ]
  },
  {
   "cell_type": "markdown",
   "id": "56e8bb2f-aa57-4927-8c9d-7edbb312015a",
   "metadata": {},
   "source": [
    "--------------------------------------------------------------------------------------------------------"
   ]
  },
  {
   "cell_type": "markdown",
   "id": "bf0de06a-b3f2-4eac-b510-4aae67d21818",
   "metadata": {},
   "source": [
    " ### *<ins>Mis-Classification</ins>*"
   ]
  },
  {
   "cell_type": "code",
   "execution_count": 125,
   "id": "2b370281-ec60-4cf9-b895-bc0fb5523e8f",
   "metadata": {},
   "outputs": [
    {
     "name": "stdout",
     "output_type": "stream",
     "text": [
      "Mis-Classification:  0.06060606060606061\n"
     ]
    }
   ],
   "source": [
    "#Misclassification of the model\n",
    "mis_classification = (FP + FN) / (TP + TN + FP + FN)\n",
    "sum_of_all = 0\n",
    "for i in mis_classification:\n",
    "    sum_of_all = sum_of_all +i\n",
    "average_mis_classification = sum_of_all/ len(mis_classification) #Misclassification\n",
    "print(\"Mis-Classification: \",average_mis_classification)"
   ]
  },
  {
   "cell_type": "markdown",
   "id": "f73774c2-fd1b-486e-87a3-c94c6bca159d",
   "metadata": {},
   "source": [
    "--------------------------------------------------------------------------------------------------------------------"
   ]
  },
  {
   "cell_type": "markdown",
   "id": "1d891551-bcdd-4a3a-9432-f4e1b94daf0a",
   "metadata": {},
   "source": [
    " ### *<ins>Loss</ins>*"
   ]
  },
  {
   "cell_type": "code",
   "execution_count": 126,
   "id": "45c7c81f-ef9d-4d09-8cd8-0c4e9353661d",
   "metadata": {},
   "outputs": [
    {
     "name": "stdout",
     "output_type": "stream",
     "text": [
      "Loss:  0.1818181818181817\n"
     ]
    }
   ],
   "source": [
    "error_rate = []\n",
    "for i in y_test: # This loop is checking where predicted result and target result is not matching and saving to error rate array\n",
    "    error_rate.append(np.mean(y_pred != y_test))\n",
    "\n",
    "\n",
    "sum_of_all_loss = 0\n",
    "for i in error_rate: #Sum of the error rates\n",
    "    sum_of_all_loss = sum_of_all_loss +i\n",
    "overall_loss = sum_of_all_loss/ len(error_rate) #Overall loss of the model\n",
    "print(\"Loss: \",overall_loss)"
   ]
  },
  {
   "cell_type": "markdown",
   "id": "b09d5c49-1437-410e-87bb-2c648ef766c0",
   "metadata": {},
   "source": [
    "--------------------------------------------------------------------------------------------------------------------"
   ]
  },
  {
   "cell_type": "markdown",
   "id": "30f6989a-460e-419c-8d31-ebd3a1047f96",
   "metadata": {},
   "source": [
    " ### *<ins>Mis-Classification and Loss Table</ins>*"
   ]
  },
  {
   "cell_type": "code",
   "execution_count": 127,
   "id": "fc1d9716-74ac-4d1b-8707-8137af1751c3",
   "metadata": {},
   "outputs": [],
   "source": [
    "mis_loss_classification_results.append(['Gradient Boost', average_mis_classification, overall_loss]);"
   ]
  },
  {
   "cell_type": "code",
   "execution_count": 128,
   "id": "0b0c6947-6764-4dd1-beb9-53337e93d4f3",
   "metadata": {},
   "outputs": [
    {
     "name": "stdout",
     "output_type": "stream",
     "text": [
      "╒════════════════╤══════════════════════╤══════════╕\n",
      "│ Model          │   Mis-Classification │     Loss │\n",
      "╞════════════════╪══════════════════════╪══════════╡\n",
      "│ SGD Classifier │            0.0909091 │ 0.272727 │\n",
      "├────────────────┼──────────────────────┼──────────┤\n",
      "│ Random Forest  │            0.0606061 │ 0.181818 │\n",
      "├────────────────┼──────────────────────┼──────────┤\n",
      "│ Ada Boost      │            0.0757576 │ 0.227273 │\n",
      "├────────────────┼──────────────────────┼──────────┤\n",
      "│ Gradient Boost │            0.0606061 │ 0.181818 │\n",
      "╘════════════════╧══════════════════════╧══════════╛\n"
     ]
    }
   ],
   "source": [
    "print(tabulate(mis_loss_classification_results, headers=mis_loss_classification_table, tablefmt=\"fancy_grid\"))"
   ]
  },
  {
   "cell_type": "markdown",
   "id": "c66fbee2-efa2-4d2f-bbf3-95d8bd7dec4d",
   "metadata": {},
   "source": [
    "---------------------------------------------------------------------------------------------------------"
   ]
  },
  {
   "cell_type": "markdown",
   "id": "9acb9033-59ae-4305-bf29-3d774938355c",
   "metadata": {},
   "source": [
    " ### *<ins>Confusion Matrix</ins>*"
   ]
  },
  {
   "cell_type": "code",
   "execution_count": 199,
   "id": "dd4d1a16-4337-436b-be28-434f897e1e8c",
   "metadata": {},
   "outputs": [
    {
     "data": {
      "image/png": "[encoded data removed]",
      "text/plain": [
       "<Figure size 640x480 with 2 Axes>"
      ]
     },
     "metadata": {},
     "output_type": "display_data"
    }
   ],
   "source": [
    "sns.heatmap(confusion_matrix(y_test,gb_boost_classifier.predict(X_test)),xticklabels= enc.classes_,\n",
    "            yticklabels=enc.classes_, annot=True,fmt='d')\n",
    "plt.show()"
   ]
  },
  {
   "cell_type": "markdown",
   "id": "0ca1b662-0d42-4a62-8800-2cd8b5de457a",
   "metadata": {},
   "source": [
    "#### The above matrix table define the performance of the classification algorithm. The diagonal elements represents the number of points where the predicted value is true while the off-diagonal elements represents the number of points which are mis-classified by the algorithm. "
   ]
  },
  {
   "cell_type": "markdown",
   "id": "ce650277-0ee6-4ef4-9a9a-1a994e212abd",
   "metadata": {},
   "source": [
    "--------------------------------------------------------------------------------------------------------------------"
   ]
  },
  {
   "cell_type": "markdown",
   "id": "b0d840f4-fc1f-486a-a3a4-bad2b2b354cc",
   "metadata": {},
   "source": [
    " ### *<ins>Classification Report</ins>*"
   ]
  },
  {
   "cell_type": "code",
   "execution_count": 129,
   "id": "0d42c24b-bebe-4eb2-a161-fff46377f353",
   "metadata": {},
   "outputs": [
    {
     "name": "stdout",
     "output_type": "stream",
     "text": [
      "              precision    recall  f1-score   support\n",
      "\n",
      "           0       0.89      0.89      0.89         9\n",
      "           1       0.75      1.00      0.86         3\n",
      "           2       0.96      0.92      0.94        25\n",
      "           3       0.75      0.86      0.80        14\n",
      "           4       0.50      0.50      0.50         4\n",
      "           5       0.67      0.55      0.60        11\n",
      "\n",
      "    accuracy                           0.82        66\n",
      "   macro avg       0.75      0.79      0.76        66\n",
      "weighted avg       0.82      0.82      0.82        66\n",
      "\n"
     ]
    }
   ],
   "source": [
    "print(classification_report(y_test,y_pred)) # This method gives the overall report of the trained model"
   ]
  },
  {
   "cell_type": "markdown",
   "id": "0d5794db-8ded-441f-9a0c-c8a082720e6e",
   "metadata": {},
   "source": [
    "---------------------------------------------------------------------------------------------------------"
   ]
  },
  {
   "cell_type": "markdown",
   "id": "cdb1c6f7-d1f5-47cd-9301-f6bfabf96cae",
   "metadata": {},
   "source": [
    " ### *<ins>Area Under the Curve</ins>*"
   ]
  },
  {
   "cell_type": "code",
   "execution_count": 130,
   "id": "2f13f9a2-4885-470e-97c6-e845da2ae775",
   "metadata": {},
   "outputs": [
    {
     "data": {
      "image/png": "[encoded data removed]",
      "text/plain": [
       "<Figure size 640x480 with 1 Axes>"
      ]
     },
     "metadata": {},
     "output_type": "display_data"
    }
   ],
   "source": [
    "y_score = gb_boost_classifier.fit(X_resampled, y_resampled).predict_proba(X_test)\n",
    "\n",
    "RocCurveDisplay.from_predictions(\n",
    "    y_lb_test.ravel(),\n",
    "    y_score.ravel(),\n",
    "    name=\"micro-average OvR\",\n",
    "    color=\"darkorange\",\n",
    ")\n",
    "plt.plot([0, 1], [0, 1], \"k--\", label=\"chance level (AUC = 0.5)\")\n",
    "plt.axis(\"square\")\n",
    "plt.xlabel(\"False Positive Rate\")\n",
    "plt.ylabel(\"True Positive Rate\")\n",
    "plt.title(\"Micro-averaged One-vs-Rest\\nReceiver Operating Characteristic\")\n",
    "plt.legend()\n",
    "plt.show()"
   ]
  },
  {
   "cell_type": "markdown",
   "id": "4e211c10-e8db-41d9-bfb3-de9e19d2faa5",
   "metadata": {},
   "source": [
    "---------------------------------------------------------------------------------------------------------"
   ]
  },
  {
   "cell_type": "markdown",
   "id": "bc074476-a3c7-46c1-8dfe-78e267839561",
   "metadata": {},
   "source": [
    " ### **K-Nearest Neighbour**"
   ]
  },
  {
   "cell_type": "markdown",
   "id": "125d4bdb-a78d-4d15-b064-776d64026cb8",
   "metadata": {},
   "source": [
    "-------------------------------------------------------------------------------------------------------------------"
   ]
  },
  {
   "cell_type": "markdown",
   "id": "6d7d46a4-c86d-41e3-80cf-cc0e734d168f",
   "metadata": {},
   "source": [
    " ### *<ins>Hyperparmaters Tuning using Grid Search</ins>*"
   ]
  },
  {
   "cell_type": "markdown",
   "id": "4a09cca3-590b-4cdb-85ea-5d19323f8356",
   "metadata": {},
   "source": [
    "#### Let's perform hyperparameter tuning because it can give optimised hyperparameter values which can increase the predicted accuracy of your model."
   ]
  },
  {
   "cell_type": "code",
   "execution_count": 131,
   "id": "692df0d3-3c73-41d2-98bd-068862486a7f",
   "metadata": {},
   "outputs": [
    {
     "name": "stdout",
     "output_type": "stream",
     "text": [
      "Fitting 10 folds for each of 30 candidates, totalling 300 fits\n",
      "{'n_neighbors': 1}\n"
     ]
    }
   ],
   "source": [
    "knn = KNeighborsClassifier()\n",
    "k_range = list(range(1, 31))\n",
    "param_grid = dict(n_neighbors=k_range)\n",
    "  \n",
    "# defining parameter range\n",
    "grid = GridSearchCV(knn, param_grid, cv=10, scoring='accuracy', return_train_score=False,verbose=1)\n",
    "  \n",
    "# fitting the model for grid search\n",
    "grid_search=grid.fit(X_resampled, y_resampled)\n",
    "print(grid_search.best_params_)\n"
   ]
  },
  {
   "cell_type": "code",
   "execution_count": 132,
   "id": "fdd644c4-8332-46dd-849c-33a2a5ba6adb",
   "metadata": {},
   "outputs": [],
   "source": [
    "knn_classifier = KNeighborsClassifier(n_neighbors= 1)\n",
    "knn_classifier.fit(X_resampled,y_resampled) # train the model on train set\n",
    "y_pred = knn_classifier.predict(X_test) # Prediction\n",
    "\n",
    "\n",
    "accuracy = accuracy_score(y_test, y_pred) #Check accuracy of the trained model\n",
    "precision = precision_score(y_test, y_pred, average='macro') #Check precision of the trained model\n",
    "recall = recall_score(y_test, y_pred, average='macro') #Check recall of the trained model"
   ]
  },
  {
   "cell_type": "code",
   "execution_count": 133,
   "id": "3d597d96-f91b-46ac-9547-d9446d2d655e",
   "metadata": {},
   "outputs": [],
   "source": [
    "conf_matrix=confusion_matrix(y_test,knn_classifier.predict(X_test)) #Confusion matrix\n",
    "\n",
    "FP = conf_matrix.sum(axis=0) - np.diag(conf_matrix) # False Positive\n",
    "FN = conf_matrix.sum(axis=1) - np.diag(conf_matrix) # False Negative\n",
    "TP = np.diag(conf_matrix) # True Positive\n",
    "TN = conf_matrix.sum() - (FP + FN + TP) #True Negative\n",
    "\n",
    "specificity_of_all_classes = TN/(TN+FP) #Array of specificity of all classes\n",
    "sum_of_all_classes = 0\n",
    "for i in specificity_of_all_classes:\n",
    "    sum_of_all_classes = sum_of_all_classes +i\n",
    "average_specificity = sum_of_all_classes/ len(specificity_of_all_classes) #Specificity of the model\n"
   ]
  },
  {
   "cell_type": "code",
   "execution_count": 134,
   "id": "e7338092-b485-4f75-8fd2-2f6356538601",
   "metadata": {},
   "outputs": [],
   "source": [
    "result_with_class_balance.append(['KNN', accuracy, precision, recall, f1_score(y_test,y_pred, average='macro'), recall, average_specificity]);"
   ]
  },
  {
   "cell_type": "code",
   "execution_count": 135,
   "id": "3041d244-a16e-4832-8cc5-7638be32db27",
   "metadata": {},
   "outputs": [
    {
     "name": "stdout",
     "output_type": "stream",
     "text": [
      "╒════════════════╤════════════╤═════════════╤══════════╤════════════╤═══════════════╤═══════════════╕\n",
      "│ Model          │   Accuracy │   Precision │   Recall │   F1 score │   Sensitivity │   Specificity │\n",
      "╞════════════════╪════════════╪═════════════╪══════════╪════════════╪═══════════════╪═══════════════╡\n",
      "│ SGD Classifier │   0.727273 │    0.628131 │ 0.720058 │   0.624344 │      0.720058 │      0.945806 │\n",
      "├────────────────┼────────────┼─────────────┼──────────┼────────────┼───────────────┼───────────────┤\n",
      "│ Random Forest  │   0.818182 │    0.781    │ 0.787939 │   0.761949 │      0.787939 │      0.960602 │\n",
      "├────────────────┼────────────┼─────────────┼──────────┼────────────┼───────────────┼───────────────┤\n",
      "│ Ada Boost      │   0.772727 │    0.717476 │ 0.710445 │   0.706692 │      0.710445 │      0.950347 │\n",
      "├────────────────┼────────────┼─────────────┼──────────┼────────────┼───────────────┼───────────────┤\n",
      "│ Gradient Boost │   0.818182 │    0.752315 │ 0.785248 │   0.764135 │      0.785248 │      0.963078 │\n",
      "├────────────────┼────────────┼─────────────┼──────────┼────────────┼───────────────┼───────────────┤\n",
      "│ KNN            │   0.863636 │    0.826667 │ 0.848733 │   0.822683 │      0.848733 │      0.972404 │\n",
      "╘════════════════╧════════════╧═════════════╧══════════╧════════════╧═══════════════╧═══════════════╛\n"
     ]
    }
   ],
   "source": [
    "print(tabulate(result_with_class_balance, headers=table_columns, tablefmt=\"fancy_grid\"))"
   ]
  },
  {
   "cell_type": "markdown",
   "id": "14cb435d-56a3-4d40-9816-a5e2331d974f",
   "metadata": {},
   "source": [
    "---------------------------------------------------------------------------------------------------------"
   ]
  },
  {
   "cell_type": "markdown",
   "id": "dbd746e3-7a64-492b-b904-3ae9b0642670",
   "metadata": {},
   "source": [
    " ### *<ins>Mis-Classification</ins>*"
   ]
  },
  {
   "cell_type": "code",
   "execution_count": 136,
   "id": "d99ae789-fd55-4adc-ac52-5c0b5c56460e",
   "metadata": {},
   "outputs": [
    {
     "name": "stdout",
     "output_type": "stream",
     "text": [
      "Mis-Classification:  0.04545454545454545\n"
     ]
    }
   ],
   "source": [
    "#Misclassification of the model\n",
    "mis_classification = (FP + FN) / (TP + TN + FP + FN)\n",
    "sum_of_all = 0\n",
    "for i in mis_classification:\n",
    "    sum_of_all = sum_of_all +i\n",
    "average_mis_classification = sum_of_all/ len(mis_classification) #Misclassification\n",
    "print(\"Mis-Classification: \",average_mis_classification)"
   ]
  },
  {
   "cell_type": "markdown",
   "id": "c67f81aa-ae51-4067-97b3-06a3ba4060bb",
   "metadata": {},
   "source": [
    "--------------------------------------------------------------------------------------------------------------------"
   ]
  },
  {
   "cell_type": "markdown",
   "id": "b6a6d700-e4cf-42ac-8019-b3ee2a439d48",
   "metadata": {},
   "source": [
    " ### *<ins>Loss</ins>*"
   ]
  },
  {
   "cell_type": "code",
   "execution_count": 137,
   "id": "c3946e8c-ab8e-4ce0-acad-aed53057b9d1",
   "metadata": {},
   "outputs": [
    {
     "name": "stdout",
     "output_type": "stream",
     "text": [
      "Loss:  0.1363636363636365\n"
     ]
    }
   ],
   "source": [
    "error_rate = []\n",
    "for i in y_test: # This loop is checking where predicted result and target result is not matching and saving to error rate array\n",
    "    error_rate.append(np.mean(y_pred != y_test))\n",
    "\n",
    "\n",
    "sum_of_all_loss = 0\n",
    "for i in error_rate: #Sum of the error rates\n",
    "    sum_of_all_loss = sum_of_all_loss +i\n",
    "overall_loss = sum_of_all_loss/ len(error_rate) #Overall loss of the model\n",
    "print(\"Loss: \",overall_loss)"
   ]
  },
  {
   "cell_type": "markdown",
   "id": "44435c33-b11f-4839-bc48-ddf7cd75d9a5",
   "metadata": {},
   "source": [
    "--------------------------------------------------------------------------------------------------------------------"
   ]
  },
  {
   "cell_type": "markdown",
   "id": "e463671e-1058-4a6d-9420-b80a9a3ef164",
   "metadata": {},
   "source": [
    " ### *<ins>Mis-Classification and Loss Table</ins>*"
   ]
  },
  {
   "cell_type": "code",
   "execution_count": 138,
   "id": "0f602250-829b-40e5-8820-44ac0c3c428a",
   "metadata": {},
   "outputs": [],
   "source": [
    "mis_loss_classification_results.append(['KNN', average_mis_classification, overall_loss]);"
   ]
  },
  {
   "cell_type": "code",
   "execution_count": 139,
   "id": "66b0302a-7c54-4e9f-8573-c569a614b15d",
   "metadata": {},
   "outputs": [
    {
     "name": "stdout",
     "output_type": "stream",
     "text": [
      "╒════════════════╤══════════════════════╤══════════╕\n",
      "│ Model          │   Mis-Classification │     Loss │\n",
      "╞════════════════╪══════════════════════╪══════════╡\n",
      "│ SGD Classifier │            0.0909091 │ 0.272727 │\n",
      "├────────────────┼──────────────────────┼──────────┤\n",
      "│ Random Forest  │            0.0606061 │ 0.181818 │\n",
      "├────────────────┼──────────────────────┼──────────┤\n",
      "│ Ada Boost      │            0.0757576 │ 0.227273 │\n",
      "├────────────────┼──────────────────────┼──────────┤\n",
      "│ Gradient Boost │            0.0606061 │ 0.181818 │\n",
      "├────────────────┼──────────────────────┼──────────┤\n",
      "│ KNN            │            0.0454545 │ 0.136364 │\n",
      "╘════════════════╧══════════════════════╧══════════╛\n"
     ]
    }
   ],
   "source": [
    "print(tabulate(mis_loss_classification_results, headers=mis_loss_classification_table, tablefmt=\"fancy_grid\"))"
   ]
  },
  {
   "cell_type": "markdown",
   "id": "d3b84d82-2dbf-4b36-b458-6b28a8e4de18",
   "metadata": {},
   "source": [
    "---------------------------------------------------------------------------------------------------------"
   ]
  },
  {
   "cell_type": "markdown",
   "id": "8d38cc17-721b-4565-b6d1-aa8c9cf7fe1e",
   "metadata": {},
   "source": [
    " ### *<ins>Confusion Matrix</ins>*"
   ]
  },
  {
   "cell_type": "code",
   "execution_count": 140,
   "id": "5fce5916-021b-4b2e-a111-cb19392b8dcf",
   "metadata": {},
   "outputs": [
    {
     "data": {
      "image/png": "[encoded data removed]",
      "text/plain": [
       "<Figure size 640x480 with 2 Axes>"
      ]
     },
     "metadata": {},
     "output_type": "display_data"
    }
   ],
   "source": [
    "sns.heatmap(confusion_matrix(y_test,knn_classifier.predict(X_test)),xticklabels= enc.classes_,\n",
    "            yticklabels=enc.classes_, annot=True,fmt='d')\n",
    "plt.show()"
   ]
  },
  {
   "cell_type": "markdown",
   "id": "c54f0521-561e-426f-b7fe-7c1b9c34b2b4",
   "metadata": {},
   "source": [
    "#### The above matrix table define the performance of the classification algorithm. The diagonal elements represents the number of points where the predicted value is true while the off-diagonal elements represents the number of points which are mis-classified by the algorithm. "
   ]
  },
  {
   "cell_type": "markdown",
   "id": "92262e87-4efe-45ad-aeb0-a65f18ef0db8",
   "metadata": {},
   "source": [
    "--------------------------------------------------------------------------------------------------------------------"
   ]
  },
  {
   "cell_type": "markdown",
   "id": "be1387f1-8bb6-4774-8f2a-290a04dc5f52",
   "metadata": {},
   "source": [
    " ### *<ins>Classification Report</ins>*"
   ]
  },
  {
   "cell_type": "code",
   "execution_count": 141,
   "id": "b209dae0-4686-416a-9964-6257cb8d4d1b",
   "metadata": {},
   "outputs": [
    {
     "name": "stdout",
     "output_type": "stream",
     "text": [
      "              precision    recall  f1-score   support\n",
      "\n",
      "           0       1.00      0.89      0.94         9\n",
      "           1       0.75      1.00      0.86         3\n",
      "           2       0.96      0.96      0.96        25\n",
      "           3       0.75      0.86      0.80        14\n",
      "           4       0.50      0.75      0.60         4\n",
      "           5       1.00      0.64      0.78        11\n",
      "\n",
      "    accuracy                           0.86        66\n",
      "   macro avg       0.83      0.85      0.82        66\n",
      "weighted avg       0.89      0.86      0.87        66\n",
      "\n"
     ]
    }
   ],
   "source": [
    "print(classification_report(y_test,y_pred)) # This method gives the overall report of the trained model"
   ]
  },
  {
   "cell_type": "markdown",
   "id": "064f6e22-c63e-4db1-a168-83ceb7748e91",
   "metadata": {},
   "source": [
    "---------------------------------------------------------------------------------------------------------"
   ]
  },
  {
   "cell_type": "markdown",
   "id": "386b7d24-0920-4963-bb62-d849f41f164b",
   "metadata": {},
   "source": [
    " ### *<ins>Area Under the Curve</ins>*"
   ]
  },
  {
   "cell_type": "code",
   "execution_count": 142,
   "id": "ef3afcef-f5e7-4f19-88c8-7e5dbed00044",
   "metadata": {},
   "outputs": [
    {
     "data": {
      "image/png": "[encoded data removed]",
      "text/plain": [
       "<Figure size 640x480 with 1 Axes>"
      ]
     },
     "metadata": {},
     "output_type": "display_data"
    }
   ],
   "source": [
    "y_score = knn_classifier.fit(X_resampled, y_resampled).predict_proba(X_test)\n",
    "\n",
    "RocCurveDisplay.from_predictions(\n",
    "    y_lb_test.ravel(),\n",
    "    y_score.ravel(),\n",
    "    name=\"micro-average OvR\",\n",
    "    color=\"darkorange\",\n",
    ")\n",
    "plt.plot([0, 1], [0, 1], \"k--\", label=\"chance level (AUC = 0.5)\")\n",
    "plt.axis(\"square\")\n",
    "plt.xlabel(\"False Positive Rate\")\n",
    "plt.ylabel(\"True Positive Rate\")\n",
    "plt.title(\"Micro-averaged One-vs-Rest\\nReceiver Operating Characteristic\")\n",
    "plt.legend()\n",
    "plt.show()"
   ]
  },
  {
   "cell_type": "markdown",
   "id": "2e59d560-1ddb-47c1-9630-524e1fa6a700",
   "metadata": {},
   "source": [
    "---------------------------------------------------------------------------------------------------------"
   ]
  },
  {
   "cell_type": "markdown",
   "id": "deea399f-ffc4-4b1f-857a-5b800d2fcf43",
   "metadata": {},
   "source": [
    " "
   ]
  },
  {
   "cell_type": "markdown",
   "id": "42d7a0bf-276b-4633-ab87-954b1937672b",
   "metadata": {},
   "source": [
    "  # *<ins>Results</ins>*"
   ]
  },
  {
   "cell_type": "markdown",
   "id": "dd6e8b9b-8b90-44f9-940e-85e5717e9e63",
   "metadata": {},
   "source": [
    " "
   ]
  },
  {
   "cell_type": "markdown",
   "id": "d4bcb874-5125-4148-b493-f10a30698a73",
   "metadata": {},
   "source": [
    "  ## *<ins>Comparison Between The Models</ins>*"
   ]
  },
  {
   "cell_type": "code",
   "execution_count": 143,
   "id": "11abff51-32b9-4f85-bc54-bf045ddb14ee",
   "metadata": {},
   "outputs": [
    {
     "name": "stdout",
     "output_type": "stream",
     "text": [
      "╒════════════════╤════════════╤═════════════╤══════════╤════════════╤═══════════════╤═══════════════╕\n",
      "│ Model          │   Accuracy │   Precision │   Recall │   F1 score │   Sensitivity │   Specificity │\n",
      "╞════════════════╪════════════╪═════════════╪══════════╪════════════╪═══════════════╪═══════════════╡\n",
      "│ SGD Classifier │   0.727273 │    0.628131 │ 0.720058 │   0.624344 │      0.720058 │      0.945806 │\n",
      "├────────────────┼────────────┼─────────────┼──────────┼────────────┼───────────────┼───────────────┤\n",
      "│ Random Forest  │   0.818182 │    0.781    │ 0.787939 │   0.761949 │      0.787939 │      0.960602 │\n",
      "├────────────────┼────────────┼─────────────┼──────────┼────────────┼───────────────┼───────────────┤\n",
      "│ Ada Boost      │   0.772727 │    0.717476 │ 0.710445 │   0.706692 │      0.710445 │      0.950347 │\n",
      "├────────────────┼────────────┼─────────────┼──────────┼────────────┼───────────────┼───────────────┤\n",
      "│ Gradient Boost │   0.818182 │    0.752315 │ 0.785248 │   0.764135 │      0.785248 │      0.963078 │\n",
      "├────────────────┼────────────┼─────────────┼──────────┼────────────┼───────────────┼───────────────┤\n",
      "│ KNN            │   0.863636 │    0.826667 │ 0.848733 │   0.822683 │      0.848733 │      0.972404 │\n",
      "╘════════════════╧════════════╧═════════════╧══════════╧════════════╧═══════════════╧═══════════════╛\n"
     ]
    }
   ],
   "source": [
    "print(tabulate(result_with_class_balance, headers=table_columns, tablefmt=\"fancy_grid\"))"
   ]
  },
  {
   "cell_type": "markdown",
   "id": "9d0a3563-6fa1-4492-9501-fb15a4c1b6dc",
   "metadata": {},
   "source": [
    "  ### *<ins>Mis-Classification and Loss</ins>*"
   ]
  },
  {
   "cell_type": "code",
   "execution_count": 144,
   "id": "cb01d3a6-9974-4404-a377-1870928ea264",
   "metadata": {},
   "outputs": [
    {
     "name": "stdout",
     "output_type": "stream",
     "text": [
      "╒════════════════╤══════════════════════╤══════════╕\n",
      "│ Model          │   Mis-Classification │     Loss │\n",
      "╞════════════════╪══════════════════════╪══════════╡\n",
      "│ SGD Classifier │            0.0909091 │ 0.272727 │\n",
      "├────────────────┼──────────────────────┼──────────┤\n",
      "│ Random Forest  │            0.0606061 │ 0.181818 │\n",
      "├────────────────┼──────────────────────┼──────────┤\n",
      "│ Ada Boost      │            0.0757576 │ 0.227273 │\n",
      "├────────────────┼──────────────────────┼──────────┤\n",
      "│ Gradient Boost │            0.0606061 │ 0.181818 │\n",
      "├────────────────┼──────────────────────┼──────────┤\n",
      "│ KNN            │            0.0454545 │ 0.136364 │\n",
      "╘════════════════╧══════════════════════╧══════════╛\n"
     ]
    }
   ],
   "source": [
    "print(tabulate(mis_loss_classification_results, headers=mis_loss_classification_table, tablefmt=\"fancy_grid\"))"
   ]
  },
  {
   "cell_type": "markdown",
   "id": "120dcfad-efa4-4ffd-9d45-52832ec69e09",
   "metadata": {},
   "source": [
    " "
   ]
  },
  {
   "cell_type": "markdown",
   "id": "6c44cb62-bd4d-4984-9aff-db3ad81b9907",
   "metadata": {},
   "source": [
    "### *<ins>Accuracy Comparison using plot</ins>*"
   ]
  },
  {
   "cell_type": "code",
   "execution_count": 205,
   "id": "e1434161-860e-4d20-926b-a230764ed57a",
   "metadata": {},
   "outputs": [
    {
     "data": {
      "image/png": "[encoded data removed]",
      "text/plain": [
       "<Figure size 640x480 with 1 Axes>"
      ]
     },
     "metadata": {},
     "output_type": "display_data"
    }
   ],
   "source": [
    "plt.plot(result_with_class_balance[0][0],result_with_class_balance[0][1],'b-o',label=result_with_class_balance[0][0],color='orange')\n",
    "plt.plot(result_with_class_balance[1][0],result_with_class_balance[1][1],'b-o',label=result_with_class_balance[1][0],color='red')\n",
    "plt.plot(result_with_class_balance[2][0],result_with_class_balance[2][1],'b-o',label=result_with_class_balance[2][0],color='purple')\n",
    "plt.plot(result_with_class_balance[3][0],result_with_class_balance[3][1],'b-o',label=result_with_class_balance[3][0],color='black')\n",
    "plt.plot(result_with_class_balance[4][0],result_with_class_balance[4][1],'b-o',label=result_with_class_balance[4][0],color='green')\n",
    "plt.xlabel('Models')\n",
    "plt.ylabel('Accuracy')\n",
    "plt.legend()\n",
    "plt.show()"
   ]
  },
  {
   "cell_type": "markdown",
   "id": "c85f2c0d-2e43-4b65-956d-acabf35cc1e0",
   "metadata": {},
   "source": [
    " "
   ]
  },
  {
   "cell_type": "markdown",
   "id": "939d0b1e-b78a-42e9-8a0b-858231d7b859",
   "metadata": {},
   "source": [
    "## *<ins>Conclusion</ins>*"
   ]
  },
  {
   "cell_type": "markdown",
   "id": "38c102fd-ca2c-4b2f-a425-ea52d72f0af5",
   "metadata": {},
   "source": [
    "### From the above evaluation tables and plot it can be seen that the best performance on the test set comes from K-Nearest Neighbour trained on balanced data with best hyperparameters derived from GridSearchCV."
   ]
  }
 ],
 "metadata": {
  "kernelspec": {
   "display_name": "Python 3",
   "language": "python",
   "name": "python3"
  },
  "language_info": {
   "codemirror_mode": {
    "name": "ipython",
    "version": 3
   },
   "file_extension": ".py",
   "mimetype": "text/x-python",
   "name": "python",
   "nbconvert_exporter": "python",
   "pygments_lexer": "ipython3",
   "version": "3.7.10"
  }
 },
 "nbformat": 4,
 "nbformat_minor": 5
}
